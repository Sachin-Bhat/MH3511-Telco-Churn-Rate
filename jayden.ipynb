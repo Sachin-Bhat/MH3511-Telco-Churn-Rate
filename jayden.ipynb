{
 "cells": [
  {
   "cell_type": "code",
   "execution_count": 1,
   "metadata": {
    "vscode": {
     "languageId": "r"
    }
   },
   "outputs": [],
   "source": [
    "data <- read.csv('cleaneddata.csv')"
   ]
  },
  {
   "cell_type": "code",
   "execution_count": 2,
   "metadata": {
    "vscode": {
     "languageId": "r"
    }
   },
   "outputs": [
    {
     "name": "stderr",
     "output_type": "stream",
     "text": [
      "── \u001b[1mAttaching core tidyverse packages\u001b[22m ──────────────────────── tidyverse 2.0.0 ──\n",
      "\u001b[32m✔\u001b[39m \u001b[34mdplyr    \u001b[39m 1.1.1     \u001b[32m✔\u001b[39m \u001b[34mreadr    \u001b[39m 2.1.4\n",
      "\u001b[32m✔\u001b[39m \u001b[34mforcats  \u001b[39m 1.0.0     \u001b[32m✔\u001b[39m \u001b[34mstringr  \u001b[39m 1.5.0\n",
      "\u001b[32m✔\u001b[39m \u001b[34mggplot2  \u001b[39m 3.4.2     \u001b[32m✔\u001b[39m \u001b[34mtibble   \u001b[39m 3.2.1\n",
      "\u001b[32m✔\u001b[39m \u001b[34mlubridate\u001b[39m 1.9.2     \u001b[32m✔\u001b[39m \u001b[34mtidyr    \u001b[39m 1.3.0\n",
      "\u001b[32m✔\u001b[39m \u001b[34mpurrr    \u001b[39m 1.0.1     \n",
      "── \u001b[1mConflicts\u001b[22m ────────────────────────────────────────── tidyverse_conflicts() ──\n",
      "\u001b[31m✖\u001b[39m \u001b[34mdplyr\u001b[39m::\u001b[32mfilter()\u001b[39m masks \u001b[34mstats\u001b[39m::filter()\n",
      "\u001b[31m✖\u001b[39m \u001b[34mdplyr\u001b[39m::\u001b[32mlag()\u001b[39m    masks \u001b[34mstats\u001b[39m::lag()\n",
      "\u001b[36mℹ\u001b[39m Use the conflicted package (\u001b[3m\u001b[34m<http://conflicted.r-lib.org/>\u001b[39m\u001b[23m) to force all conflicts to become errors\n"
     ]
    }
   ],
   "source": [
    "library(tidyverse)"
   ]
  },
  {
   "cell_type": "code",
   "execution_count": 3,
   "metadata": {
    "vscode": {
     "languageId": "r"
    }
   },
   "outputs": [
    {
     "data": {
      "text/plain": [
       "\n",
       "\tWelch Two Sample t-test\n",
       "\n",
       "data:  tenure by PaperlessBilling\n",
       "t = -0.4041, df = 6136.8, p-value = 0.6862\n",
       "alternative hypothesis: true difference in means between group 1 and group 2 is not equal to 0\n",
       "95 percent confidence interval:\n",
       " -1.4097501  0.9278837\n",
       "sample estimates:\n",
       "mean in group 1 mean in group 2 \n",
       "       32.27898        32.51991 \n"
      ]
     },
     "metadata": {},
     "output_type": "display_data"
    }
   ],
   "source": [
    "#Convert PaperlessBilling into a factor\n",
    "data <- data %>% \n",
    "    mutate(PaperlessBilling = as.factor(PaperlessBilling))\n",
    "\n",
    "#Perform indepedendent samples t-test\n",
    "t_test_result <- t.test(tenure ~ PaperlessBilling, data = data)\n",
    "t_test_result\n"
   ]
  },
  {
   "attachments": {},
   "cell_type": "markdown",
   "metadata": {},
   "source": [
    "The p-value is 0.6862, which represents the probability of observing a t-value as extreme (or more) as -0.4041 under the null hypothesis (There is no difference in the average tenure between the two groups). \n",
    "\n",
    "Since the p-value is greater than the typical significance level of 0.05, we fail to reject the null hypothesis. This means that there is no statistically significant evidence to suggest that there is a difference in the average tenure between customers with and without paperless billing. \n"
   ]
  },
  {
   "attachments": {},
   "cell_type": "markdown",
   "metadata": {},
   "source": [
    "To investigate if there is a significant difference in the average tenure between customers with different types of contracts, we first observe that this variable has more than 2 levels. Hence we cannot use the Welch t.test since it is desgined to compare the means of a continuous depenedent variable between two independent groups. \n",
    "\n",
    "In this case we can use one-way Analysis of Variance (ANOVA) to compare the means of a continuous dependent variable across multiple groups. \n"
   ]
  },
  {
   "cell_type": "code",
   "execution_count": 4,
   "metadata": {
    "vscode": {
     "languageId": "r"
    }
   },
   "outputs": [
    {
     "data": {
      "text/plain": [
       "Call:\n",
       "   aov(formula = tenure ~ Contract, data = data)\n",
       "\n",
       "Terms:\n",
       "                Contract Residuals\n",
       "Sum of Squares   1962830   2273135\n",
       "Deg. of Freedom        2      7029\n",
       "\n",
       "Residual standard error: 17.98315\n",
       "Estimated effects may be unbalanced"
      ]
     },
     "metadata": {},
     "output_type": "display_data"
    },
    {
     "data": {
      "text/html": [
       "<table class=\"dataframe\">\n",
       "<caption>A anova: 2 × 5</caption>\n",
       "<thead>\n",
       "\t<tr><th></th><th scope=col>Df</th><th scope=col>Sum Sq</th><th scope=col>Mean Sq</th><th scope=col>F value</th><th scope=col>Pr(&gt;F)</th></tr>\n",
       "\t<tr><th></th><th scope=col>&lt;dbl&gt;</th><th scope=col>&lt;dbl&gt;</th><th scope=col>&lt;dbl&gt;</th><th scope=col>&lt;dbl&gt;</th><th scope=col>&lt;dbl&gt;</th></tr>\n",
       "</thead>\n",
       "<tbody>\n",
       "\t<tr><th scope=row>Contract   </th><td>   2</td><td>1962830</td><td>981414.8995</td><td>3034.736</td><td> 0</td></tr>\n",
       "\t<tr><th scope=row>Residuals  </th><td>7029</td><td>2273135</td><td>   323.3938</td><td>      NA</td><td>NA</td></tr>\n",
       "</tbody>\n",
       "</table>\n"
      ],
      "text/latex": [
       "A anova: 2 × 5\n",
       "\\begin{tabular}{r|lllll}\n",
       "  & Df & Sum Sq & Mean Sq & F value & Pr(>F)\\\\\n",
       "  & <dbl> & <dbl> & <dbl> & <dbl> & <dbl>\\\\\n",
       "\\hline\n",
       "\tContract    &    2 & 1962830 & 981414.8995 & 3034.736 &  0\\\\\n",
       "\tResiduals   & 7029 & 2273135 &    323.3938 &       NA & NA\\\\\n",
       "\\end{tabular}\n"
      ],
      "text/markdown": [
       "\n",
       "A anova: 2 × 5\n",
       "\n",
       "| <!--/--> | Df &lt;dbl&gt; | Sum Sq &lt;dbl&gt; | Mean Sq &lt;dbl&gt; | F value &lt;dbl&gt; | Pr(&gt;F) &lt;dbl&gt; |\n",
       "|---|---|---|---|---|---|\n",
       "| Contract    |    2 | 1962830 | 981414.8995 | 3034.736 |  0 |\n",
       "| Residuals   | 7029 | 2273135 |    323.3938 |       NA | NA |\n",
       "\n"
      ],
      "text/plain": [
       "            Df   Sum Sq  Mean Sq     F value  Pr(>F)\n",
       "Contract       2 1962830 981414.8995 3034.736  0    \n",
       "Residuals   7029 2273135    323.3938       NA NA    "
      ]
     },
     "metadata": {},
     "output_type": "display_data"
    }
   ],
   "source": [
    "data <- data %>% \n",
    "    mutate(Contract = as.factor(Contract))\n",
    "\n",
    "#Perform indepedendent samples t-test\n",
    "anova_result <- aov(tenure ~ Contract, data = data)\n",
    "anova_result\n",
    "anova_table <- summary(anova_result)\n",
    "anova_table[[1]]"
   ]
  },
  {
   "attachments": {},
   "cell_type": "markdown",
   "metadata": {},
   "source": [
    "The p-value is 0, which is less than the typical significance level of 0.05. This means that we can reject the null hypothesis, concluding that there **is a significant difference in the average tenure between at least one pair of contract types**. "
   ]
  },
  {
   "cell_type": "code",
   "execution_count": 5,
   "metadata": {
    "vscode": {
     "languageId": "r"
    }
   },
   "outputs": [
    {
     "data": {
      "text/html": [
       "<table class=\"dataframe\">\n",
       "<caption>A summary_emm: 3 × 6</caption>\n",
       "<thead>\n",
       "\t<tr><th></th><th scope=col>contrast</th><th scope=col>estimate</th><th scope=col>SE</th><th scope=col>df</th><th scope=col>t.ratio</th><th scope=col>p.value</th></tr>\n",
       "\t<tr><th></th><th scope=col>&lt;chr&gt;</th><th scope=col>&lt;dbl&gt;</th><th scope=col>&lt;dbl&gt;</th><th scope=col>&lt;dbl&gt;</th><th scope=col>&lt;dbl&gt;</th><th scope=col>&lt;dbl&gt;</th></tr>\n",
       "</thead>\n",
       "<tbody>\n",
       "\t<tr><th scope=row>1</th><td>Contract1 - Contract2</td><td>-24.03672</td><td>0.5505936</td><td>7029</td><td>-43.65602</td><td>3.723799e-12</td></tr>\n",
       "\t<tr><th scope=row>2</th><td>Contract1 - Contract3</td><td>-39.03516</td><td>0.5247681</td><td>7029</td><td>-74.38555</td><td>3.723799e-12</td></tr>\n",
       "\t<tr><th scope=row>3</th><td>Contract2 - Contract3</td><td>-14.99844</td><td>0.6415777</td><td>7029</td><td>-23.37743</td><td>3.723799e-12</td></tr>\n",
       "</tbody>\n",
       "</table>\n"
      ],
      "text/latex": [
       "A summary\\_emm: 3 × 6\n",
       "\\begin{tabular}{r|llllll}\n",
       "  & contrast & estimate & SE & df & t.ratio & p.value\\\\\n",
       "  & <chr> & <dbl> & <dbl> & <dbl> & <dbl> & <dbl>\\\\\n",
       "\\hline\n",
       "\t1 & Contract1 - Contract2 & -24.03672 & 0.5505936 & 7029 & -43.65602 & 3.723799e-12\\\\\n",
       "\t2 & Contract1 - Contract3 & -39.03516 & 0.5247681 & 7029 & -74.38555 & 3.723799e-12\\\\\n",
       "\t3 & Contract2 - Contract3 & -14.99844 & 0.6415777 & 7029 & -23.37743 & 3.723799e-12\\\\\n",
       "\\end{tabular}\n"
      ],
      "text/markdown": [
       "\n",
       "A summary_emm: 3 × 6\n",
       "\n",
       "| <!--/--> | contrast &lt;chr&gt; | estimate &lt;dbl&gt; | SE &lt;dbl&gt; | df &lt;dbl&gt; | t.ratio &lt;dbl&gt; | p.value &lt;dbl&gt; |\n",
       "|---|---|---|---|---|---|---|\n",
       "| 1 | Contract1 - Contract2 | -24.03672 | 0.5505936 | 7029 | -43.65602 | 3.723799e-12 |\n",
       "| 2 | Contract1 - Contract3 | -39.03516 | 0.5247681 | 7029 | -74.38555 | 3.723799e-12 |\n",
       "| 3 | Contract2 - Contract3 | -14.99844 | 0.6415777 | 7029 | -23.37743 | 3.723799e-12 |\n",
       "\n"
      ],
      "text/plain": [
       "  contrast              estimate  SE        df   t.ratio   p.value     \n",
       "1 Contract1 - Contract2 -24.03672 0.5505936 7029 -43.65602 3.723799e-12\n",
       "2 Contract1 - Contract3 -39.03516 0.5247681 7029 -74.38555 3.723799e-12\n",
       "3 Contract2 - Contract3 -14.99844 0.6415777 7029 -23.37743 3.723799e-12"
      ]
     },
     "metadata": {},
     "output_type": "display_data"
    }
   ],
   "source": [
    "library(emmeans)\n",
    "estimated_means <- emmeans(anova_result, ~ Contract)\n",
    "post_hoc_result <- pairs(estimated_means, adjust = \"tukey\")\n",
    "summary(post_hoc_result)"
   ]
  },
  {
   "attachments": {},
   "cell_type": "markdown",
   "metadata": {},
   "source": [
    " The p-values have been adjusted for multiple comparisons using the Tukey method. For all three pairwise comparisons, the p-values are extremely small (3.723799e-12), which is much lower than the typical significance level of 0.05. This means that there is a statistically significant difference in the average tenure between each pair of contract types.\n",
    "\n",
    " In conclusion, the Tukey's HSD test results indicate that there are significant differences in the average tenure between all three contract types. Customers with a month-to-month contract have a significantly lower average tenure compared to those with one-year and two-year contracts. Similarly, customers with a one-year contract have a significantly lower average tenure compared to those with a two-year contract.\n",
    "\n",
    "\n",
    "\n"
   ]
  },
  {
   "cell_type": "code",
   "execution_count": 8,
   "metadata": {
    "vscode": {
     "languageId": "r"
    }
   },
   "outputs": [
    {
     "name": "stderr",
     "output_type": "stream",
     "text": [
      "Type 'citation(\"pROC\")' for a citation.\n",
      "\n",
      "\n",
      " 次のパッケージを付け加えます: ‘pROC’ \n",
      "\n",
      "\n",
      " 以下のオブジェクトは ‘package:stats’ からマスクされています:\n",
      "\n",
      "    cov, smooth, var\n",
      "\n",
      "\n"
     ]
    }
   ],
   "source": [
    "# Load necessary libraries\n",
    "library(tidyverse)\n",
    "library(caret)\n",
    "library(glmnet)\n",
    "library(pROC)\n",
    "\n",
    "# 1. Data Preparation: Assume your data is already loaded into a dataframe called 'data'\n",
    "# Replace 'data' with the name of your dataframe, and perform any necessary preprocessing steps\n",
    "\n",
    "# 2. Feature Selection: Correlation analysis (you can use other methods)\n",
    "numeric_columns <- data %>% select(-customerID, -Churn) %>% select_if(is.numeric)\n",
    "correlations <- cor(numeric_columns)\n",
    "high_correlations <- findCorrelation(correlations, cutoff = 0.7) # Change cutoff based on your preference\n",
    "\n",
    "# Get column names to be removed\n",
    "remove_columns <- colnames(numeric_columns)[high_correlations]\n",
    "\n",
    "# Filter out non-numeric columns\n",
    "non_numeric_columns <- colnames(data) %>% setdiff(colnames(numeric_columns))\n",
    "data_filtered <- data %>% select(-one_of(c(remove_columns, non_numeric_columns)))\n",
    "\n",
    "# Add the Churn column back to the filtered dataset\n",
    "data_filtered$Churn <- data$Churn\n",
    "# Convert Churn column to binary numeric values\n",
    "data_filtered$Churn <- ifelse(data_filtered$Churn == 1, 1, 0)\n",
    "\n",
    "\n",
    "# 3. Train the Model: Split the data into training and testing sets\n",
    "set.seed(123)\n",
    "split <- createDataPartition(data_filtered$Churn, p = 0.7, list = FALSE)\n",
    "train <- data_filtered[split,]\n",
    "test <- data_filtered[-split,]\n",
    "\n"
   ]
  },
  {
   "cell_type": "code",
   "execution_count": 10,
   "metadata": {
    "vscode": {
     "languageId": "r"
    }
   },
   "outputs": [
    {
     "name": "stderr",
     "output_type": "stream",
     "text": [
      "Setting levels: control = 0, case = 1\n",
      "\n",
      "Setting direction: controls < cases\n",
      "\n"
     ]
    }
   ],
   "source": [
    "\n",
    "# Create logistic regression model\n",
    "model <- glm(Churn ~ ., family = \"binomial\", data = train)\n",
    "\n",
    "# 4. Model Evaluation: Evaluate model performance on the test set\n",
    "predicted_probs <- predict(model, newdata = test, type = \"response\")\n",
    "predicted_class <- ifelse(predicted_probs > 0.5, 1, 0) # Threshold set at 0.5, adjust based on your preference\n",
    "\n",
    "conf_matrix <- confusionMatrix(factor(predicted_class), factor(test$Churn))\n",
    "# print(conf_matrix)\n",
    "\n",
    "# 5. Predict Churn Probability: Use the model to predict churn probabilities for the entire dataset\n",
    "churn_probs <- predict(model, newdata = data_filtered, type = \"response\")\n",
    "\n",
    "# 6. Set a Threshold: Using ROC curve to find optimal threshold\n",
    "roc_obj <- roc(data_filtered$Churn, churn_probs)\n",
    "youdens_index <- roc_obj$sensitivities + roc_obj$specificities - 1\n",
    "optimal_threshold <- roc_obj$thresholds[which.max(youdens_index)]\n",
    "\n",
    "# 7. Identify High-Risk Customers: Classify customers based on the threshold\n",
    "high_risk_customers <- data[ifelse(churn_probs > optimal_threshold, TRUE, FALSE),]\n",
    "\n",
    "# Print high-risk customers\n",
    "print(high_risk_customers)"
   ]
  },
  {
   "cell_type": "code",
   "execution_count": null,
   "metadata": {
    "vscode": {
     "languageId": "r"
    }
   },
   "outputs": [],
   "source": []
  }
 ],
 "metadata": {
  "kernelspec": {
   "display_name": "R",
   "language": "R",
   "name": "ir"
  },
  "language_info": {
   "codemirror_mode": "r",
   "file_extension": ".r",
   "mimetype": "text/x-r-source",
   "name": "R",
   "pygments_lexer": "r",
   "version": "4.2.2"
  },
  "orig_nbformat": 4
 },
 "nbformat": 4,
 "nbformat_minor": 2
}
