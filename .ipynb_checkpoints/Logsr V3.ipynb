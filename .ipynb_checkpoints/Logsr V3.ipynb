{
 "cells": [
  {
   "cell_type": "markdown",
   "id": "11924c39",
   "metadata": {},
   "source": [
    "# Introduction\n",
    "\n",
    "---\n",
    "\n",
    "Companies in the telecommunications (telco) industry that want to stay in business will need to address the churn rate. How can you make it smaller? Make better use of data, ensure efficient customer care, invest in new technologies, and create a memorable customer experience with a few strategies. The churn rate is something that affects all companies in the telco industry, where customer volatility is high. The churn rate affects more than just telecommunications companies. Instead, businesses of all sizes must retain as many customers as possible in order to maintain a stable, continuous, and high-quality relationship. Various strategies can be used to accomplish this, and digital solutions and innovations will undoubtedly play an important role.\n",
    "\n",
    "It is normal for any company doing business to gain and lose customers. Customers may discover you one day and become loyal customers over time; however, even customers who have been loyal to a brand for years may decide to switch to a competitor. In the telecom industry, the churn rate, or rate of customer abandonment, captures this phenomenon."
   ]
  },
  {
   "cell_type": "markdown",
   "id": "8ca02671",
   "metadata": {},
   "source": [
    "# Data Description\n",
    "\n",
    "---\n",
    "\n",
    "The data is taken from Kaggle, a large community-driven data-analysis platform. The datasets consisted of two spreadsheet documents, the first being the \"Telecom Company Call-Center-Dataset\" and the second being the \"Telecom Churn Rate Dataset\". Since our analysis specifically focuses on the churn rate of customers, we shall be using the second dataset.\n",
    "\n",
    "The following columns are contained in the dataset:\n",
    "\n",
    "- customerID: Customer ID\n",
    "- genderCustomer: customers's gender (female, male)\n",
    "- SeniorCitizen: Whether the customer is a senior citizen or not (1, 0)\n",
    "- PartnerWhether: the customer is married or not (Yes, No)\n",
    "- Dependents: Whether the customer has dependents (Yes, No)\n",
    "- tenure: Number of months the customer has stayed with the company\n",
    "- PhoneService: Whether the customer uses a phone service or not (Yes, No)\n",
    "- MultipleLines: Whether the customer uses multiple lines or not (Yes, No, No phone service)\n",
    "- InternetService: Customer’s ISP (DSL, Fiber optic, No)\n",
    "- OnlineSecurity: Whether the customer purchased online security (Yes, No, No internet service)\n",
    "- OnlineBackup: Whether the customer made an online backup (Yes, No, No internet service)\n",
    "- DeviceProtection: Whether the customer purchased device protection or not (Yes, No, No internet service)\n",
    "- TechSupport: Whether the customer has tech support or not (Yes, No, No internet service)\n",
    "- StreamingTV: Whether the customer streams TV or not (Yes, No, No internet service)\n",
    "- StreamingMovies: Whether the customer streams movies or not (Yes, No, No internet service)\n",
    "- Contract: The contract period of the customer (Month-to-month, One year, Two year)\n",
    "- PaperlessBilling: Whether the customer posses paperless billing or not (Yes, No)\n",
    "- PaymentMethod: The customer’s preferred payment method (Electronic check, Mailed check, Bank transfer (automatic), Credit card (automatic))\n",
    "- MonthlyCharges: The amount charged to the customer per month\n",
    "- TotalCharges: The total amount charged to the customer\n",
    "- numAdminTickets: The number of Admin Ticket\n",
    "- numTechTickets: The number of Tech Ticket\n",
    "- Churn: Whether the customer churned or not (Yes or No)"
   ]
  },
  {
   "cell_type": "markdown",
   "id": "7a508cd9",
   "metadata": {},
   "source": [
    "# Data Cleaning\n",
    "\n",
    "---\n",
    "\n",
    "## Install `readxl`\n",
    "\n",
    "---"
   ]
  },
  {
   "cell_type": "code",
   "execution_count": 111,
   "id": "643bd318",
   "metadata": {},
   "outputs": [
    {
     "name": "stderr",
     "output_type": "stream",
     "text": [
      "Warning message:\n",
      "\"package 'readxl' is in use and will not be installed\"\n"
     ]
    }
   ],
   "source": [
    "install.packages(\"readxl\")"
   ]
  },
  {
   "cell_type": "code",
   "execution_count": 112,
   "id": "7583f5c6",
   "metadata": {},
   "outputs": [],
   "source": [
    "# Load readxl package\n",
    "library(\"readxl\")"
   ]
  },
  {
   "cell_type": "markdown",
   "id": "2dc06fd4",
   "metadata": {},
   "source": [
    "## Load dataset"
   ]
  },
  {
   "cell_type": "code",
   "execution_count": 113,
   "id": "2826e646",
   "metadata": {},
   "outputs": [],
   "source": [
    "df = read_excel(\"C:/Users/sharm/OneDrive/Desktop/master/Y2S2/MH3511 Analysis with Comp/MH3511-Telco-Churn-Rate/Telecom Churn Rate Dataset.xlsx\")"
   ]
  },
  {
   "cell_type": "markdown",
   "id": "f63806a7",
   "metadata": {},
   "source": [
    "## Data description"
   ]
  },
  {
   "cell_type": "code",
   "execution_count": 114,
   "id": "b9155e48",
   "metadata": {},
   "outputs": [
    {
     "name": "stdout",
     "output_type": "stream",
     "text": [
      "tibble [7,048 x 23] (S3: tbl_df/tbl/data.frame)\n",
      " $ customerID      : chr [1:7048] \"7590-VHVEG\" \"5575-GNVDE\" \"3668-QPYBK\" \"7795-CFOCW\" ...\n",
      " $ gender          : chr [1:7048] \"Female\" \"Male\" \"Male\" \"Male\" ...\n",
      " $ SeniorCitizen   : num [1:7048] 0 0 0 0 0 0 0 0 0 0 ...\n",
      " $ Partner         : chr [1:7048] \"Yes\" \"No\" \"No\" \"No\" ...\n",
      " $ Dependents      : chr [1:7048] \"No\" \"No\" \"No\" \"No\" ...\n",
      " $ tenure          : num [1:7048] 1 34 2 45 2 8 22 10 28 62 ...\n",
      " $ PhoneService    : chr [1:7048] \"No\" \"Yes\" \"Yes\" \"No\" ...\n",
      " $ MultipleLines   : chr [1:7048] \"No phone service\" \"No\" \"No\" \"No phone service\" ...\n",
      " $ InternetService : chr [1:7048] \"DSL\" \"DSL\" \"DSL\" \"DSL\" ...\n",
      " $ OnlineSecurity  : chr [1:7048] \"No\" \"Yes\" \"Yes\" \"Yes\" ...\n",
      " $ OnlineBackup    : chr [1:7048] \"Yes\" \"No\" \"Yes\" \"No\" ...\n",
      " $ DeviceProtection: chr [1:7048] \"No\" \"Yes\" \"No\" \"Yes\" ...\n",
      " $ TechSupport     : chr [1:7048] \"No\" \"No\" \"No\" \"Yes\" ...\n",
      " $ StreamingTV     : chr [1:7048] \"No\" \"No\" \"No\" \"No\" ...\n",
      " $ StreamingMovies : chr [1:7048] \"No\" \"No\" \"No\" \"No\" ...\n",
      " $ Contract        : chr [1:7048] \"Month-to-month\" \"One year\" \"Month-to-month\" \"One year\" ...\n",
      " $ PaperlessBilling: chr [1:7048] \"Yes\" \"No\" \"Yes\" \"No\" ...\n",
      " $ PaymentMethod   : chr [1:7048] \"Electronic check\" \"Mailed check\" \"Mailed check\" \"Bank transfer (automatic)\" ...\n",
      " $ MonthlyCharges  : num [1:7048] 29.9 57 53.9 42.3 70.7 ...\n",
      " $ TotalCharges    : num [1:7048] 29.9 1889.5 108.2 1840.8 151.7 ...\n",
      " $ numAdminTickets : num [1:7048] 0 0 0 0 0 0 0 0 0 0 ...\n",
      " $ numTechTickets  : num [1:7048] 0 0 0 3 0 0 0 0 2 0 ...\n",
      " $ Churn           : chr [1:7048] \"No\" \"No\" \"Yes\" \"No\" ...\n"
     ]
    }
   ],
   "source": [
    "str(df)"
   ]
  },
  {
   "cell_type": "markdown",
   "id": "c5fed8f8",
   "metadata": {},
   "source": [
    "> As can be seen from the above there are 23 columns and 7048 data entries."
   ]
  },
  {
   "cell_type": "code",
   "execution_count": 115,
   "id": "3ce05056",
   "metadata": {},
   "outputs": [
    {
     "data": {
      "text/html": [
       "<table class=\"dataframe\">\n",
       "<caption>A tibble: 10 × 23</caption>\n",
       "<thead>\n",
       "\t<tr><th scope=col>customerID</th><th scope=col>gender</th><th scope=col>SeniorCitizen</th><th scope=col>Partner</th><th scope=col>Dependents</th><th scope=col>tenure</th><th scope=col>PhoneService</th><th scope=col>MultipleLines</th><th scope=col>InternetService</th><th scope=col>OnlineSecurity</th><th scope=col>⋯</th><th scope=col>StreamingTV</th><th scope=col>StreamingMovies</th><th scope=col>Contract</th><th scope=col>PaperlessBilling</th><th scope=col>PaymentMethod</th><th scope=col>MonthlyCharges</th><th scope=col>TotalCharges</th><th scope=col>numAdminTickets</th><th scope=col>numTechTickets</th><th scope=col>Churn</th></tr>\n",
       "\t<tr><th scope=col>&lt;chr&gt;</th><th scope=col>&lt;chr&gt;</th><th scope=col>&lt;dbl&gt;</th><th scope=col>&lt;chr&gt;</th><th scope=col>&lt;chr&gt;</th><th scope=col>&lt;dbl&gt;</th><th scope=col>&lt;chr&gt;</th><th scope=col>&lt;chr&gt;</th><th scope=col>&lt;chr&gt;</th><th scope=col>&lt;chr&gt;</th><th scope=col>⋯</th><th scope=col>&lt;chr&gt;</th><th scope=col>&lt;chr&gt;</th><th scope=col>&lt;chr&gt;</th><th scope=col>&lt;chr&gt;</th><th scope=col>&lt;chr&gt;</th><th scope=col>&lt;dbl&gt;</th><th scope=col>&lt;dbl&gt;</th><th scope=col>&lt;dbl&gt;</th><th scope=col>&lt;dbl&gt;</th><th scope=col>&lt;chr&gt;</th></tr>\n",
       "</thead>\n",
       "<tbody>\n",
       "\t<tr><td>7590-VHVEG</td><td>Female</td><td>0</td><td>Yes</td><td>No </td><td> 1</td><td>No </td><td>No phone service</td><td>DSL        </td><td>No </td><td>⋯</td><td>No </td><td>No </td><td>Month-to-month</td><td>Yes</td><td>Electronic check         </td><td> 29.85</td><td>  29.85</td><td>0</td><td>0</td><td>No </td></tr>\n",
       "\t<tr><td>5575-GNVDE</td><td>Male  </td><td>0</td><td>No </td><td>No </td><td>34</td><td>Yes</td><td>No              </td><td>DSL        </td><td>Yes</td><td>⋯</td><td>No </td><td>No </td><td>One year      </td><td>No </td><td>Mailed check             </td><td> 56.95</td><td>1889.50</td><td>0</td><td>0</td><td>No </td></tr>\n",
       "\t<tr><td>3668-QPYBK</td><td>Male  </td><td>0</td><td>No </td><td>No </td><td> 2</td><td>Yes</td><td>No              </td><td>DSL        </td><td>Yes</td><td>⋯</td><td>No </td><td>No </td><td>Month-to-month</td><td>Yes</td><td>Mailed check             </td><td> 53.85</td><td> 108.15</td><td>0</td><td>0</td><td>Yes</td></tr>\n",
       "\t<tr><td>7795-CFOCW</td><td>Male  </td><td>0</td><td>No </td><td>No </td><td>45</td><td>No </td><td>No phone service</td><td>DSL        </td><td>Yes</td><td>⋯</td><td>No </td><td>No </td><td>One year      </td><td>No </td><td>Bank transfer (automatic)</td><td> 42.30</td><td>1840.75</td><td>0</td><td>3</td><td>No </td></tr>\n",
       "\t<tr><td>9237-HQITU</td><td>Female</td><td>0</td><td>No </td><td>No </td><td> 2</td><td>Yes</td><td>No              </td><td>Fiber optic</td><td>No </td><td>⋯</td><td>No </td><td>No </td><td>Month-to-month</td><td>Yes</td><td>Electronic check         </td><td> 70.70</td><td> 151.65</td><td>0</td><td>0</td><td>Yes</td></tr>\n",
       "\t<tr><td>9305-CDSKC</td><td>Female</td><td>0</td><td>No </td><td>No </td><td> 8</td><td>Yes</td><td>Yes             </td><td>Fiber optic</td><td>No </td><td>⋯</td><td>Yes</td><td>Yes</td><td>Month-to-month</td><td>Yes</td><td>Electronic check         </td><td> 99.65</td><td> 820.50</td><td>0</td><td>0</td><td>Yes</td></tr>\n",
       "\t<tr><td>1452-KIOVK</td><td>Male  </td><td>0</td><td>No </td><td>Yes</td><td>22</td><td>Yes</td><td>Yes             </td><td>Fiber optic</td><td>No </td><td>⋯</td><td>Yes</td><td>No </td><td>Month-to-month</td><td>Yes</td><td>Credit card (automatic)  </td><td> 89.10</td><td>1949.40</td><td>0</td><td>0</td><td>No </td></tr>\n",
       "\t<tr><td>6713-OKOMC</td><td>Female</td><td>0</td><td>No </td><td>No </td><td>10</td><td>No </td><td>No phone service</td><td>DSL        </td><td>Yes</td><td>⋯</td><td>No </td><td>No </td><td>Month-to-month</td><td>No </td><td>Mailed check             </td><td> 29.75</td><td> 301.90</td><td>0</td><td>0</td><td>No </td></tr>\n",
       "\t<tr><td>7892-POOKP</td><td>Female</td><td>0</td><td>Yes</td><td>No </td><td>28</td><td>Yes</td><td>Yes             </td><td>Fiber optic</td><td>No </td><td>⋯</td><td>Yes</td><td>Yes</td><td>Month-to-month</td><td>Yes</td><td>Electronic check         </td><td>104.80</td><td>3046.05</td><td>0</td><td>2</td><td>Yes</td></tr>\n",
       "\t<tr><td>6388-TABGU</td><td>Male  </td><td>0</td><td>No </td><td>Yes</td><td>62</td><td>Yes</td><td>No              </td><td>DSL        </td><td>Yes</td><td>⋯</td><td>No </td><td>No </td><td>One year      </td><td>No </td><td>Bank transfer (automatic)</td><td> 56.15</td><td>3487.95</td><td>0</td><td>0</td><td>No </td></tr>\n",
       "</tbody>\n",
       "</table>\n"
      ],
      "text/latex": [
       "A tibble: 10 × 23\n",
       "\\begin{tabular}{lllllllllllllllllllll}\n",
       " customerID & gender & SeniorCitizen & Partner & Dependents & tenure & PhoneService & MultipleLines & InternetService & OnlineSecurity & ⋯ & StreamingTV & StreamingMovies & Contract & PaperlessBilling & PaymentMethod & MonthlyCharges & TotalCharges & numAdminTickets & numTechTickets & Churn\\\\\n",
       " <chr> & <chr> & <dbl> & <chr> & <chr> & <dbl> & <chr> & <chr> & <chr> & <chr> & ⋯ & <chr> & <chr> & <chr> & <chr> & <chr> & <dbl> & <dbl> & <dbl> & <dbl> & <chr>\\\\\n",
       "\\hline\n",
       "\t 7590-VHVEG & Female & 0 & Yes & No  &  1 & No  & No phone service & DSL         & No  & ⋯ & No  & No  & Month-to-month & Yes & Electronic check          &  29.85 &   29.85 & 0 & 0 & No \\\\\n",
       "\t 5575-GNVDE & Male   & 0 & No  & No  & 34 & Yes & No               & DSL         & Yes & ⋯ & No  & No  & One year       & No  & Mailed check              &  56.95 & 1889.50 & 0 & 0 & No \\\\\n",
       "\t 3668-QPYBK & Male   & 0 & No  & No  &  2 & Yes & No               & DSL         & Yes & ⋯ & No  & No  & Month-to-month & Yes & Mailed check              &  53.85 &  108.15 & 0 & 0 & Yes\\\\\n",
       "\t 7795-CFOCW & Male   & 0 & No  & No  & 45 & No  & No phone service & DSL         & Yes & ⋯ & No  & No  & One year       & No  & Bank transfer (automatic) &  42.30 & 1840.75 & 0 & 3 & No \\\\\n",
       "\t 9237-HQITU & Female & 0 & No  & No  &  2 & Yes & No               & Fiber optic & No  & ⋯ & No  & No  & Month-to-month & Yes & Electronic check          &  70.70 &  151.65 & 0 & 0 & Yes\\\\\n",
       "\t 9305-CDSKC & Female & 0 & No  & No  &  8 & Yes & Yes              & Fiber optic & No  & ⋯ & Yes & Yes & Month-to-month & Yes & Electronic check          &  99.65 &  820.50 & 0 & 0 & Yes\\\\\n",
       "\t 1452-KIOVK & Male   & 0 & No  & Yes & 22 & Yes & Yes              & Fiber optic & No  & ⋯ & Yes & No  & Month-to-month & Yes & Credit card (automatic)   &  89.10 & 1949.40 & 0 & 0 & No \\\\\n",
       "\t 6713-OKOMC & Female & 0 & No  & No  & 10 & No  & No phone service & DSL         & Yes & ⋯ & No  & No  & Month-to-month & No  & Mailed check              &  29.75 &  301.90 & 0 & 0 & No \\\\\n",
       "\t 7892-POOKP & Female & 0 & Yes & No  & 28 & Yes & Yes              & Fiber optic & No  & ⋯ & Yes & Yes & Month-to-month & Yes & Electronic check          & 104.80 & 3046.05 & 0 & 2 & Yes\\\\\n",
       "\t 6388-TABGU & Male   & 0 & No  & Yes & 62 & Yes & No               & DSL         & Yes & ⋯ & No  & No  & One year       & No  & Bank transfer (automatic) &  56.15 & 3487.95 & 0 & 0 & No \\\\\n",
       "\\end{tabular}\n"
      ],
      "text/markdown": [
       "\n",
       "A tibble: 10 × 23\n",
       "\n",
       "| customerID &lt;chr&gt; | gender &lt;chr&gt; | SeniorCitizen &lt;dbl&gt; | Partner &lt;chr&gt; | Dependents &lt;chr&gt; | tenure &lt;dbl&gt; | PhoneService &lt;chr&gt; | MultipleLines &lt;chr&gt; | InternetService &lt;chr&gt; | OnlineSecurity &lt;chr&gt; | ⋯ ⋯ | StreamingTV &lt;chr&gt; | StreamingMovies &lt;chr&gt; | Contract &lt;chr&gt; | PaperlessBilling &lt;chr&gt; | PaymentMethod &lt;chr&gt; | MonthlyCharges &lt;dbl&gt; | TotalCharges &lt;dbl&gt; | numAdminTickets &lt;dbl&gt; | numTechTickets &lt;dbl&gt; | Churn &lt;chr&gt; |\n",
       "|---|---|---|---|---|---|---|---|---|---|---|---|---|---|---|---|---|---|---|---|---|\n",
       "| 7590-VHVEG | Female | 0 | Yes | No  |  1 | No  | No phone service | DSL         | No  | ⋯ | No  | No  | Month-to-month | Yes | Electronic check          |  29.85 |   29.85 | 0 | 0 | No  |\n",
       "| 5575-GNVDE | Male   | 0 | No  | No  | 34 | Yes | No               | DSL         | Yes | ⋯ | No  | No  | One year       | No  | Mailed check              |  56.95 | 1889.50 | 0 | 0 | No  |\n",
       "| 3668-QPYBK | Male   | 0 | No  | No  |  2 | Yes | No               | DSL         | Yes | ⋯ | No  | No  | Month-to-month | Yes | Mailed check              |  53.85 |  108.15 | 0 | 0 | Yes |\n",
       "| 7795-CFOCW | Male   | 0 | No  | No  | 45 | No  | No phone service | DSL         | Yes | ⋯ | No  | No  | One year       | No  | Bank transfer (automatic) |  42.30 | 1840.75 | 0 | 3 | No  |\n",
       "| 9237-HQITU | Female | 0 | No  | No  |  2 | Yes | No               | Fiber optic | No  | ⋯ | No  | No  | Month-to-month | Yes | Electronic check          |  70.70 |  151.65 | 0 | 0 | Yes |\n",
       "| 9305-CDSKC | Female | 0 | No  | No  |  8 | Yes | Yes              | Fiber optic | No  | ⋯ | Yes | Yes | Month-to-month | Yes | Electronic check          |  99.65 |  820.50 | 0 | 0 | Yes |\n",
       "| 1452-KIOVK | Male   | 0 | No  | Yes | 22 | Yes | Yes              | Fiber optic | No  | ⋯ | Yes | No  | Month-to-month | Yes | Credit card (automatic)   |  89.10 | 1949.40 | 0 | 0 | No  |\n",
       "| 6713-OKOMC | Female | 0 | No  | No  | 10 | No  | No phone service | DSL         | Yes | ⋯ | No  | No  | Month-to-month | No  | Mailed check              |  29.75 |  301.90 | 0 | 0 | No  |\n",
       "| 7892-POOKP | Female | 0 | Yes | No  | 28 | Yes | Yes              | Fiber optic | No  | ⋯ | Yes | Yes | Month-to-month | Yes | Electronic check          | 104.80 | 3046.05 | 0 | 2 | Yes |\n",
       "| 6388-TABGU | Male   | 0 | No  | Yes | 62 | Yes | No               | DSL         | Yes | ⋯ | No  | No  | One year       | No  | Bank transfer (automatic) |  56.15 | 3487.95 | 0 | 0 | No  |\n",
       "\n"
      ],
      "text/plain": [
       "   customerID gender SeniorCitizen Partner Dependents tenure PhoneService\n",
       "1  7590-VHVEG Female 0             Yes     No          1     No          \n",
       "2  5575-GNVDE Male   0             No      No         34     Yes         \n",
       "3  3668-QPYBK Male   0             No      No          2     Yes         \n",
       "4  7795-CFOCW Male   0             No      No         45     No          \n",
       "5  9237-HQITU Female 0             No      No          2     Yes         \n",
       "6  9305-CDSKC Female 0             No      No          8     Yes         \n",
       "7  1452-KIOVK Male   0             No      Yes        22     Yes         \n",
       "8  6713-OKOMC Female 0             No      No         10     No          \n",
       "9  7892-POOKP Female 0             Yes     No         28     Yes         \n",
       "10 6388-TABGU Male   0             No      Yes        62     Yes         \n",
       "   MultipleLines    InternetService OnlineSecurity <U+22EF>        StreamingTV\n",
       "1  No phone service DSL             No             <U+22EF> No         \n",
       "2  No               DSL             Yes            <U+22EF> No         \n",
       "3  No               DSL             Yes            <U+22EF> No         \n",
       "4  No phone service DSL             Yes            <U+22EF> No         \n",
       "5  No               Fiber optic     No             <U+22EF> No         \n",
       "6  Yes              Fiber optic     No             <U+22EF> Yes        \n",
       "7  Yes              Fiber optic     No             <U+22EF> Yes        \n",
       "8  No phone service DSL             Yes            <U+22EF> No         \n",
       "9  Yes              Fiber optic     No             <U+22EF> Yes        \n",
       "10 No               DSL             Yes            <U+22EF> No         \n",
       "   StreamingMovies Contract       PaperlessBilling PaymentMethod            \n",
       "1  No              Month-to-month Yes              Electronic check         \n",
       "2  No              One year       No               Mailed check             \n",
       "3  No              Month-to-month Yes              Mailed check             \n",
       "4  No              One year       No               Bank transfer (automatic)\n",
       "5  No              Month-to-month Yes              Electronic check         \n",
       "6  Yes             Month-to-month Yes              Electronic check         \n",
       "7  No              Month-to-month Yes              Credit card (automatic)  \n",
       "8  No              Month-to-month No               Mailed check             \n",
       "9  Yes             Month-to-month Yes              Electronic check         \n",
       "10 No              One year       No               Bank transfer (automatic)\n",
       "   MonthlyCharges TotalCharges numAdminTickets numTechTickets Churn\n",
       "1   29.85           29.85      0               0              No   \n",
       "2   56.95         1889.50      0               0              No   \n",
       "3   53.85          108.15      0               0              Yes  \n",
       "4   42.30         1840.75      0               3              No   \n",
       "5   70.70          151.65      0               0              Yes  \n",
       "6   99.65          820.50      0               0              Yes  \n",
       "7   89.10         1949.40      0               0              No   \n",
       "8   29.75          301.90      0               0              No   \n",
       "9  104.80         3046.05      0               2              Yes  \n",
       "10  56.15         3487.95      0               0              No   "
      ]
     },
     "metadata": {},
     "output_type": "display_data"
    }
   ],
   "source": [
    "head(df, 10)"
   ]
  },
  {
   "cell_type": "markdown",
   "id": "3cfdbd89",
   "metadata": {},
   "source": [
    "> These are the first 10 data entries. It can be noticed that there seem to be a lot of categorical data items and multiple states have been reflected in their first few entries."
   ]
  },
  {
   "cell_type": "markdown",
   "id": "b60cd0be",
   "metadata": {},
   "source": [
    "## Data preprocessing\n",
    "\n",
    "---\n",
    "\n",
    "Step 1: ' ' in 'TotalCharges'. So we have to drop ' ' to convert 'TotalCharges' to numerical."
   ]
  },
  {
   "cell_type": "code",
   "execution_count": 116,
   "id": "62821b63",
   "metadata": {},
   "outputs": [
    {
     "data": {
      "text/html": [
       "<table class=\"dataframe\">\n",
       "<caption>A tibble: 11 × 23</caption>\n",
       "<thead>\n",
       "\t<tr><th scope=col>customerID</th><th scope=col>gender</th><th scope=col>SeniorCitizen</th><th scope=col>Partner</th><th scope=col>Dependents</th><th scope=col>tenure</th><th scope=col>PhoneService</th><th scope=col>MultipleLines</th><th scope=col>InternetService</th><th scope=col>OnlineSecurity</th><th scope=col>⋯</th><th scope=col>StreamingTV</th><th scope=col>StreamingMovies</th><th scope=col>Contract</th><th scope=col>PaperlessBilling</th><th scope=col>PaymentMethod</th><th scope=col>MonthlyCharges</th><th scope=col>TotalCharges</th><th scope=col>numAdminTickets</th><th scope=col>numTechTickets</th><th scope=col>Churn</th></tr>\n",
       "\t<tr><th scope=col>&lt;chr&gt;</th><th scope=col>&lt;chr&gt;</th><th scope=col>&lt;dbl&gt;</th><th scope=col>&lt;chr&gt;</th><th scope=col>&lt;chr&gt;</th><th scope=col>&lt;dbl&gt;</th><th scope=col>&lt;chr&gt;</th><th scope=col>&lt;chr&gt;</th><th scope=col>&lt;chr&gt;</th><th scope=col>&lt;chr&gt;</th><th scope=col>⋯</th><th scope=col>&lt;chr&gt;</th><th scope=col>&lt;chr&gt;</th><th scope=col>&lt;chr&gt;</th><th scope=col>&lt;chr&gt;</th><th scope=col>&lt;chr&gt;</th><th scope=col>&lt;dbl&gt;</th><th scope=col>&lt;dbl&gt;</th><th scope=col>&lt;dbl&gt;</th><th scope=col>&lt;dbl&gt;</th><th scope=col>&lt;chr&gt;</th></tr>\n",
       "</thead>\n",
       "<tbody>\n",
       "\t<tr><td>4472-LVYGI</td><td>Female</td><td>0</td><td>Yes</td><td>Yes</td><td>0</td><td>No </td><td>No phone service</td><td>DSL</td><td>Yes                </td><td>⋯</td><td>Yes                </td><td>No                 </td><td>Two year</td><td>Yes</td><td>Bank transfer (automatic)</td><td>52.55</td><td>NA</td><td>0</td><td>0</td><td>No</td></tr>\n",
       "\t<tr><td>3115-CZMZD</td><td>Male  </td><td>0</td><td>No </td><td>Yes</td><td>0</td><td>Yes</td><td>No              </td><td>No </td><td>No internet service</td><td>⋯</td><td>No internet service</td><td>No internet service</td><td>Two year</td><td>No </td><td>Mailed check             </td><td>20.25</td><td>NA</td><td>5</td><td>0</td><td>No</td></tr>\n",
       "\t<tr><td>5709-LVOEQ</td><td>Female</td><td>0</td><td>Yes</td><td>Yes</td><td>0</td><td>Yes</td><td>No              </td><td>DSL</td><td>Yes                </td><td>⋯</td><td>Yes                </td><td>Yes                </td><td>Two year</td><td>No </td><td>Mailed check             </td><td>80.85</td><td>NA</td><td>0</td><td>0</td><td>No</td></tr>\n",
       "\t<tr><td>4367-NUYAO</td><td>Male  </td><td>0</td><td>Yes</td><td>Yes</td><td>0</td><td>Yes</td><td>Yes             </td><td>No </td><td>No internet service</td><td>⋯</td><td>No internet service</td><td>No internet service</td><td>Two year</td><td>No </td><td>Mailed check             </td><td>25.75</td><td>NA</td><td>1</td><td>0</td><td>No</td></tr>\n",
       "\t<tr><td>1371-DWPAZ</td><td>Female</td><td>0</td><td>Yes</td><td>Yes</td><td>0</td><td>No </td><td>No phone service</td><td>DSL</td><td>Yes                </td><td>⋯</td><td>Yes                </td><td>No                 </td><td>Two year</td><td>No </td><td>Credit card (automatic)  </td><td>56.05</td><td>NA</td><td>0</td><td>0</td><td>No</td></tr>\n",
       "\t<tr><td>7644-OMVMY</td><td>Male  </td><td>0</td><td>Yes</td><td>Yes</td><td>0</td><td>Yes</td><td>No              </td><td>No </td><td>No internet service</td><td>⋯</td><td>No internet service</td><td>No internet service</td><td>Two year</td><td>No </td><td>Mailed check             </td><td>19.85</td><td>NA</td><td>0</td><td>0</td><td>No</td></tr>\n",
       "\t<tr><td>3213-VVOLG</td><td>Male  </td><td>0</td><td>Yes</td><td>Yes</td><td>0</td><td>Yes</td><td>Yes             </td><td>No </td><td>No internet service</td><td>⋯</td><td>No internet service</td><td>No internet service</td><td>Two year</td><td>No </td><td>Mailed check             </td><td>25.35</td><td>NA</td><td>0</td><td>0</td><td>No</td></tr>\n",
       "\t<tr><td>2520-SGTTA</td><td>Female</td><td>0</td><td>Yes</td><td>Yes</td><td>0</td><td>Yes</td><td>No              </td><td>No </td><td>No internet service</td><td>⋯</td><td>No internet service</td><td>No internet service</td><td>Two year</td><td>No </td><td>Mailed check             </td><td>20.00</td><td>NA</td><td>5</td><td>0</td><td>No</td></tr>\n",
       "\t<tr><td>2923-ARZLG</td><td>Male  </td><td>0</td><td>Yes</td><td>Yes</td><td>0</td><td>Yes</td><td>No              </td><td>No </td><td>No internet service</td><td>⋯</td><td>No internet service</td><td>No internet service</td><td>One year</td><td>Yes</td><td>Mailed check             </td><td>19.70</td><td>NA</td><td>0</td><td>0</td><td>No</td></tr>\n",
       "\t<tr><td>4075-WKNIU</td><td>Female</td><td>0</td><td>Yes</td><td>Yes</td><td>0</td><td>Yes</td><td>Yes             </td><td>DSL</td><td>No                 </td><td>⋯</td><td>Yes                </td><td>No                 </td><td>Two year</td><td>No </td><td>Mailed check             </td><td>73.35</td><td>NA</td><td>0</td><td>0</td><td>No</td></tr>\n",
       "\t<tr><td>2775-SEFEE</td><td>Male  </td><td>0</td><td>No </td><td>Yes</td><td>0</td><td>Yes</td><td>Yes             </td><td>DSL</td><td>Yes                </td><td>⋯</td><td>No                 </td><td>No                 </td><td>Two year</td><td>Yes</td><td>Bank transfer (automatic)</td><td>61.90</td><td>NA</td><td>0</td><td>0</td><td>No</td></tr>\n",
       "</tbody>\n",
       "</table>\n"
      ],
      "text/latex": [
       "A tibble: 11 × 23\n",
       "\\begin{tabular}{lllllllllllllllllllll}\n",
       " customerID & gender & SeniorCitizen & Partner & Dependents & tenure & PhoneService & MultipleLines & InternetService & OnlineSecurity & ⋯ & StreamingTV & StreamingMovies & Contract & PaperlessBilling & PaymentMethod & MonthlyCharges & TotalCharges & numAdminTickets & numTechTickets & Churn\\\\\n",
       " <chr> & <chr> & <dbl> & <chr> & <chr> & <dbl> & <chr> & <chr> & <chr> & <chr> & ⋯ & <chr> & <chr> & <chr> & <chr> & <chr> & <dbl> & <dbl> & <dbl> & <dbl> & <chr>\\\\\n",
       "\\hline\n",
       "\t 4472-LVYGI & Female & 0 & Yes & Yes & 0 & No  & No phone service & DSL & Yes                 & ⋯ & Yes                 & No                  & Two year & Yes & Bank transfer (automatic) & 52.55 & NA & 0 & 0 & No\\\\\n",
       "\t 3115-CZMZD & Male   & 0 & No  & Yes & 0 & Yes & No               & No  & No internet service & ⋯ & No internet service & No internet service & Two year & No  & Mailed check              & 20.25 & NA & 5 & 0 & No\\\\\n",
       "\t 5709-LVOEQ & Female & 0 & Yes & Yes & 0 & Yes & No               & DSL & Yes                 & ⋯ & Yes                 & Yes                 & Two year & No  & Mailed check              & 80.85 & NA & 0 & 0 & No\\\\\n",
       "\t 4367-NUYAO & Male   & 0 & Yes & Yes & 0 & Yes & Yes              & No  & No internet service & ⋯ & No internet service & No internet service & Two year & No  & Mailed check              & 25.75 & NA & 1 & 0 & No\\\\\n",
       "\t 1371-DWPAZ & Female & 0 & Yes & Yes & 0 & No  & No phone service & DSL & Yes                 & ⋯ & Yes                 & No                  & Two year & No  & Credit card (automatic)   & 56.05 & NA & 0 & 0 & No\\\\\n",
       "\t 7644-OMVMY & Male   & 0 & Yes & Yes & 0 & Yes & No               & No  & No internet service & ⋯ & No internet service & No internet service & Two year & No  & Mailed check              & 19.85 & NA & 0 & 0 & No\\\\\n",
       "\t 3213-VVOLG & Male   & 0 & Yes & Yes & 0 & Yes & Yes              & No  & No internet service & ⋯ & No internet service & No internet service & Two year & No  & Mailed check              & 25.35 & NA & 0 & 0 & No\\\\\n",
       "\t 2520-SGTTA & Female & 0 & Yes & Yes & 0 & Yes & No               & No  & No internet service & ⋯ & No internet service & No internet service & Two year & No  & Mailed check              & 20.00 & NA & 5 & 0 & No\\\\\n",
       "\t 2923-ARZLG & Male   & 0 & Yes & Yes & 0 & Yes & No               & No  & No internet service & ⋯ & No internet service & No internet service & One year & Yes & Mailed check              & 19.70 & NA & 0 & 0 & No\\\\\n",
       "\t 4075-WKNIU & Female & 0 & Yes & Yes & 0 & Yes & Yes              & DSL & No                  & ⋯ & Yes                 & No                  & Two year & No  & Mailed check              & 73.35 & NA & 0 & 0 & No\\\\\n",
       "\t 2775-SEFEE & Male   & 0 & No  & Yes & 0 & Yes & Yes              & DSL & Yes                 & ⋯ & No                  & No                  & Two year & Yes & Bank transfer (automatic) & 61.90 & NA & 0 & 0 & No\\\\\n",
       "\\end{tabular}\n"
      ],
      "text/markdown": [
       "\n",
       "A tibble: 11 × 23\n",
       "\n",
       "| customerID &lt;chr&gt; | gender &lt;chr&gt; | SeniorCitizen &lt;dbl&gt; | Partner &lt;chr&gt; | Dependents &lt;chr&gt; | tenure &lt;dbl&gt; | PhoneService &lt;chr&gt; | MultipleLines &lt;chr&gt; | InternetService &lt;chr&gt; | OnlineSecurity &lt;chr&gt; | ⋯ ⋯ | StreamingTV &lt;chr&gt; | StreamingMovies &lt;chr&gt; | Contract &lt;chr&gt; | PaperlessBilling &lt;chr&gt; | PaymentMethod &lt;chr&gt; | MonthlyCharges &lt;dbl&gt; | TotalCharges &lt;dbl&gt; | numAdminTickets &lt;dbl&gt; | numTechTickets &lt;dbl&gt; | Churn &lt;chr&gt; |\n",
       "|---|---|---|---|---|---|---|---|---|---|---|---|---|---|---|---|---|---|---|---|---|\n",
       "| 4472-LVYGI | Female | 0 | Yes | Yes | 0 | No  | No phone service | DSL | Yes                 | ⋯ | Yes                 | No                  | Two year | Yes | Bank transfer (automatic) | 52.55 | NA | 0 | 0 | No |\n",
       "| 3115-CZMZD | Male   | 0 | No  | Yes | 0 | Yes | No               | No  | No internet service | ⋯ | No internet service | No internet service | Two year | No  | Mailed check              | 20.25 | NA | 5 | 0 | No |\n",
       "| 5709-LVOEQ | Female | 0 | Yes | Yes | 0 | Yes | No               | DSL | Yes                 | ⋯ | Yes                 | Yes                 | Two year | No  | Mailed check              | 80.85 | NA | 0 | 0 | No |\n",
       "| 4367-NUYAO | Male   | 0 | Yes | Yes | 0 | Yes | Yes              | No  | No internet service | ⋯ | No internet service | No internet service | Two year | No  | Mailed check              | 25.75 | NA | 1 | 0 | No |\n",
       "| 1371-DWPAZ | Female | 0 | Yes | Yes | 0 | No  | No phone service | DSL | Yes                 | ⋯ | Yes                 | No                  | Two year | No  | Credit card (automatic)   | 56.05 | NA | 0 | 0 | No |\n",
       "| 7644-OMVMY | Male   | 0 | Yes | Yes | 0 | Yes | No               | No  | No internet service | ⋯ | No internet service | No internet service | Two year | No  | Mailed check              | 19.85 | NA | 0 | 0 | No |\n",
       "| 3213-VVOLG | Male   | 0 | Yes | Yes | 0 | Yes | Yes              | No  | No internet service | ⋯ | No internet service | No internet service | Two year | No  | Mailed check              | 25.35 | NA | 0 | 0 | No |\n",
       "| 2520-SGTTA | Female | 0 | Yes | Yes | 0 | Yes | No               | No  | No internet service | ⋯ | No internet service | No internet service | Two year | No  | Mailed check              | 20.00 | NA | 5 | 0 | No |\n",
       "| 2923-ARZLG | Male   | 0 | Yes | Yes | 0 | Yes | No               | No  | No internet service | ⋯ | No internet service | No internet service | One year | Yes | Mailed check              | 19.70 | NA | 0 | 0 | No |\n",
       "| 4075-WKNIU | Female | 0 | Yes | Yes | 0 | Yes | Yes              | DSL | No                  | ⋯ | Yes                 | No                  | Two year | No  | Mailed check              | 73.35 | NA | 0 | 0 | No |\n",
       "| 2775-SEFEE | Male   | 0 | No  | Yes | 0 | Yes | Yes              | DSL | Yes                 | ⋯ | No                  | No                  | Two year | Yes | Bank transfer (automatic) | 61.90 | NA | 0 | 0 | No |\n",
       "\n"
      ],
      "text/plain": [
       "   customerID gender SeniorCitizen Partner Dependents tenure PhoneService\n",
       "1  4472-LVYGI Female 0             Yes     Yes        0      No          \n",
       "2  3115-CZMZD Male   0             No      Yes        0      Yes         \n",
       "3  5709-LVOEQ Female 0             Yes     Yes        0      Yes         \n",
       "4  4367-NUYAO Male   0             Yes     Yes        0      Yes         \n",
       "5  1371-DWPAZ Female 0             Yes     Yes        0      No          \n",
       "6  7644-OMVMY Male   0             Yes     Yes        0      Yes         \n",
       "7  3213-VVOLG Male   0             Yes     Yes        0      Yes         \n",
       "8  2520-SGTTA Female 0             Yes     Yes        0      Yes         \n",
       "9  2923-ARZLG Male   0             Yes     Yes        0      Yes         \n",
       "10 4075-WKNIU Female 0             Yes     Yes        0      Yes         \n",
       "11 2775-SEFEE Male   0             No      Yes        0      Yes         \n",
       "   MultipleLines    InternetService OnlineSecurity      <U+22EF>       \n",
       "1  No phone service DSL             Yes                 <U+22EF>\n",
       "2  No               No              No internet service <U+22EF>\n",
       "3  No               DSL             Yes                 <U+22EF>\n",
       "4  Yes              No              No internet service <U+22EF>\n",
       "5  No phone service DSL             Yes                 <U+22EF>\n",
       "6  No               No              No internet service <U+22EF>\n",
       "7  Yes              No              No internet service <U+22EF>\n",
       "8  No               No              No internet service <U+22EF>\n",
       "9  No               No              No internet service <U+22EF>\n",
       "10 Yes              DSL             No                  <U+22EF>\n",
       "11 Yes              DSL             Yes                 <U+22EF>\n",
       "   StreamingTV         StreamingMovies     Contract PaperlessBilling\n",
       "1  Yes                 No                  Two year Yes             \n",
       "2  No internet service No internet service Two year No              \n",
       "3  Yes                 Yes                 Two year No              \n",
       "4  No internet service No internet service Two year No              \n",
       "5  Yes                 No                  Two year No              \n",
       "6  No internet service No internet service Two year No              \n",
       "7  No internet service No internet service Two year No              \n",
       "8  No internet service No internet service Two year No              \n",
       "9  No internet service No internet service One year Yes             \n",
       "10 Yes                 No                  Two year No              \n",
       "11 No                  No                  Two year Yes             \n",
       "   PaymentMethod             MonthlyCharges TotalCharges numAdminTickets\n",
       "1  Bank transfer (automatic) 52.55          NA           0              \n",
       "2  Mailed check              20.25          NA           5              \n",
       "3  Mailed check              80.85          NA           0              \n",
       "4  Mailed check              25.75          NA           1              \n",
       "5  Credit card (automatic)   56.05          NA           0              \n",
       "6  Mailed check              19.85          NA           0              \n",
       "7  Mailed check              25.35          NA           0              \n",
       "8  Mailed check              20.00          NA           5              \n",
       "9  Mailed check              19.70          NA           0              \n",
       "10 Mailed check              73.35          NA           0              \n",
       "11 Bank transfer (automatic) 61.90          NA           0              \n",
       "   numTechTickets Churn\n",
       "1  0              No   \n",
       "2  0              No   \n",
       "3  0              No   \n",
       "4  0              No   \n",
       "5  0              No   \n",
       "6  0              No   \n",
       "7  0              No   \n",
       "8  0              No   \n",
       "9  0              No   \n",
       "10 0              No   \n",
       "11 0              No   "
      ]
     },
     "metadata": {},
     "output_type": "display_data"
    }
   ],
   "source": [
    "df[is.na(df$TotalCharges),]"
   ]
  },
  {
   "cell_type": "markdown",
   "id": "456662ff",
   "metadata": {},
   "source": [
    "> The above data show row entries with NA values in `TotalCharges`"
   ]
  },
  {
   "cell_type": "code",
   "execution_count": 117,
   "id": "72cba0f1",
   "metadata": {},
   "outputs": [],
   "source": [
    "df <- na.omit(df)"
   ]
  },
  {
   "cell_type": "markdown",
   "id": "84563fba",
   "metadata": {},
   "source": [
    "Step 2: Checking for the number of duplicated entries (and dropping them if found)."
   ]
  },
  {
   "cell_type": "code",
   "execution_count": 118,
   "id": "1deb5ce9",
   "metadata": {},
   "outputs": [
    {
     "name": "stdout",
     "output_type": "stream",
     "text": [
      "[1] \"No. of duplicate entries:\"\n"
     ]
    },
    {
     "data": {
      "text/html": [
       "5"
      ],
      "text/latex": [
       "5"
      ],
      "text/markdown": [
       "5"
      ],
      "text/plain": [
       "[1] 5"
      ]
     },
     "metadata": {},
     "output_type": "display_data"
    }
   ],
   "source": [
    "print(\"No. of duplicate entries:\");\n",
    "sum(duplicated(df))"
   ]
  },
  {
   "cell_type": "code",
   "execution_count": 119,
   "id": "8b2804f3",
   "metadata": {},
   "outputs": [
    {
     "data": {
      "text/html": [
       "<table class=\"dataframe\">\n",
       "<caption>A tibble: 5 × 23</caption>\n",
       "<thead>\n",
       "\t<tr><th scope=col>customerID</th><th scope=col>gender</th><th scope=col>SeniorCitizen</th><th scope=col>Partner</th><th scope=col>Dependents</th><th scope=col>tenure</th><th scope=col>PhoneService</th><th scope=col>MultipleLines</th><th scope=col>InternetService</th><th scope=col>OnlineSecurity</th><th scope=col>⋯</th><th scope=col>StreamingTV</th><th scope=col>StreamingMovies</th><th scope=col>Contract</th><th scope=col>PaperlessBilling</th><th scope=col>PaymentMethod</th><th scope=col>MonthlyCharges</th><th scope=col>TotalCharges</th><th scope=col>numAdminTickets</th><th scope=col>numTechTickets</th><th scope=col>Churn</th></tr>\n",
       "\t<tr><th scope=col>&lt;chr&gt;</th><th scope=col>&lt;chr&gt;</th><th scope=col>&lt;dbl&gt;</th><th scope=col>&lt;chr&gt;</th><th scope=col>&lt;chr&gt;</th><th scope=col>&lt;dbl&gt;</th><th scope=col>&lt;chr&gt;</th><th scope=col>&lt;chr&gt;</th><th scope=col>&lt;chr&gt;</th><th scope=col>&lt;chr&gt;</th><th scope=col>⋯</th><th scope=col>&lt;chr&gt;</th><th scope=col>&lt;chr&gt;</th><th scope=col>&lt;chr&gt;</th><th scope=col>&lt;chr&gt;</th><th scope=col>&lt;chr&gt;</th><th scope=col>&lt;dbl&gt;</th><th scope=col>&lt;dbl&gt;</th><th scope=col>&lt;dbl&gt;</th><th scope=col>&lt;dbl&gt;</th><th scope=col>&lt;chr&gt;</th></tr>\n",
       "</thead>\n",
       "<tbody>\n",
       "\t<tr><td>2254-DLXRI</td><td>Female</td><td>0</td><td>No </td><td>No</td><td> 1</td><td>Yes</td><td>Yes</td><td>Fiber optic</td><td>No                 </td><td>⋯</td><td>No                 </td><td>No                 </td><td>Month-to-month</td><td>Yes</td><td>Mailed check           </td><td> 79.15</td><td>  79.15</td><td>5</td><td>0</td><td>No </td></tr>\n",
       "\t<tr><td>2121-JAFOM</td><td>Female</td><td>0</td><td>Yes</td><td>No</td><td>72</td><td>Yes</td><td>Yes</td><td>Fiber optic</td><td>Yes                </td><td>⋯</td><td>Yes                </td><td>Yes                </td><td>Two year      </td><td>Yes</td><td>Credit card (automatic)</td><td>115.55</td><td>8312.40</td><td>0</td><td>0</td><td>No </td></tr>\n",
       "\t<tr><td>0380-ZCSBI</td><td>Male  </td><td>0</td><td>No </td><td>No</td><td>10</td><td>Yes</td><td>No </td><td>No         </td><td>No internet service</td><td>⋯</td><td>No internet service</td><td>No internet service</td><td>Month-to-month</td><td>No </td><td>Credit card (automatic)</td><td> 20.00</td><td> 198.70</td><td>0</td><td>0</td><td>No </td></tr>\n",
       "\t<tr><td>6894-LFHLY</td><td>Male  </td><td>1</td><td>No </td><td>No</td><td> 1</td><td>Yes</td><td>Yes</td><td>Fiber optic</td><td>No                 </td><td>⋯</td><td>No                 </td><td>No                 </td><td>Month-to-month</td><td>Yes</td><td>Electronic check       </td><td> 75.75</td><td>  75.75</td><td>0</td><td>0</td><td>Yes</td></tr>\n",
       "\t<tr><td>6583-QGCSI</td><td>Female</td><td>1</td><td>Yes</td><td>No</td><td>50</td><td>Yes</td><td>Yes</td><td>Fiber optic</td><td>No                 </td><td>⋯</td><td>Yes                </td><td>No                 </td><td>Month-to-month</td><td>Yes</td><td>Electronic check       </td><td> 88.05</td><td>4367.35</td><td>0</td><td>5</td><td>Yes</td></tr>\n",
       "</tbody>\n",
       "</table>\n"
      ],
      "text/latex": [
       "A tibble: 5 × 23\n",
       "\\begin{tabular}{lllllllllllllllllllll}\n",
       " customerID & gender & SeniorCitizen & Partner & Dependents & tenure & PhoneService & MultipleLines & InternetService & OnlineSecurity & ⋯ & StreamingTV & StreamingMovies & Contract & PaperlessBilling & PaymentMethod & MonthlyCharges & TotalCharges & numAdminTickets & numTechTickets & Churn\\\\\n",
       " <chr> & <chr> & <dbl> & <chr> & <chr> & <dbl> & <chr> & <chr> & <chr> & <chr> & ⋯ & <chr> & <chr> & <chr> & <chr> & <chr> & <dbl> & <dbl> & <dbl> & <dbl> & <chr>\\\\\n",
       "\\hline\n",
       "\t 2254-DLXRI & Female & 0 & No  & No &  1 & Yes & Yes & Fiber optic & No                  & ⋯ & No                  & No                  & Month-to-month & Yes & Mailed check            &  79.15 &   79.15 & 5 & 0 & No \\\\\n",
       "\t 2121-JAFOM & Female & 0 & Yes & No & 72 & Yes & Yes & Fiber optic & Yes                 & ⋯ & Yes                 & Yes                 & Two year       & Yes & Credit card (automatic) & 115.55 & 8312.40 & 0 & 0 & No \\\\\n",
       "\t 0380-ZCSBI & Male   & 0 & No  & No & 10 & Yes & No  & No          & No internet service & ⋯ & No internet service & No internet service & Month-to-month & No  & Credit card (automatic) &  20.00 &  198.70 & 0 & 0 & No \\\\\n",
       "\t 6894-LFHLY & Male   & 1 & No  & No &  1 & Yes & Yes & Fiber optic & No                  & ⋯ & No                  & No                  & Month-to-month & Yes & Electronic check        &  75.75 &   75.75 & 0 & 0 & Yes\\\\\n",
       "\t 6583-QGCSI & Female & 1 & Yes & No & 50 & Yes & Yes & Fiber optic & No                  & ⋯ & Yes                 & No                  & Month-to-month & Yes & Electronic check        &  88.05 & 4367.35 & 0 & 5 & Yes\\\\\n",
       "\\end{tabular}\n"
      ],
      "text/markdown": [
       "\n",
       "A tibble: 5 × 23\n",
       "\n",
       "| customerID &lt;chr&gt; | gender &lt;chr&gt; | SeniorCitizen &lt;dbl&gt; | Partner &lt;chr&gt; | Dependents &lt;chr&gt; | tenure &lt;dbl&gt; | PhoneService &lt;chr&gt; | MultipleLines &lt;chr&gt; | InternetService &lt;chr&gt; | OnlineSecurity &lt;chr&gt; | ⋯ ⋯ | StreamingTV &lt;chr&gt; | StreamingMovies &lt;chr&gt; | Contract &lt;chr&gt; | PaperlessBilling &lt;chr&gt; | PaymentMethod &lt;chr&gt; | MonthlyCharges &lt;dbl&gt; | TotalCharges &lt;dbl&gt; | numAdminTickets &lt;dbl&gt; | numTechTickets &lt;dbl&gt; | Churn &lt;chr&gt; |\n",
       "|---|---|---|---|---|---|---|---|---|---|---|---|---|---|---|---|---|---|---|---|---|\n",
       "| 2254-DLXRI | Female | 0 | No  | No |  1 | Yes | Yes | Fiber optic | No                  | ⋯ | No                  | No                  | Month-to-month | Yes | Mailed check            |  79.15 |   79.15 | 5 | 0 | No  |\n",
       "| 2121-JAFOM | Female | 0 | Yes | No | 72 | Yes | Yes | Fiber optic | Yes                 | ⋯ | Yes                 | Yes                 | Two year       | Yes | Credit card (automatic) | 115.55 | 8312.40 | 0 | 0 | No  |\n",
       "| 0380-ZCSBI | Male   | 0 | No  | No | 10 | Yes | No  | No          | No internet service | ⋯ | No internet service | No internet service | Month-to-month | No  | Credit card (automatic) |  20.00 |  198.70 | 0 | 0 | No  |\n",
       "| 6894-LFHLY | Male   | 1 | No  | No |  1 | Yes | Yes | Fiber optic | No                  | ⋯ | No                  | No                  | Month-to-month | Yes | Electronic check        |  75.75 |   75.75 | 0 | 0 | Yes |\n",
       "| 6583-QGCSI | Female | 1 | Yes | No | 50 | Yes | Yes | Fiber optic | No                  | ⋯ | Yes                 | No                  | Month-to-month | Yes | Electronic check        |  88.05 | 4367.35 | 0 | 5 | Yes |\n",
       "\n"
      ],
      "text/plain": [
       "  customerID gender SeniorCitizen Partner Dependents tenure PhoneService\n",
       "1 2254-DLXRI Female 0             No      No          1     Yes         \n",
       "2 2121-JAFOM Female 0             Yes     No         72     Yes         \n",
       "3 0380-ZCSBI Male   0             No      No         10     Yes         \n",
       "4 6894-LFHLY Male   1             No      No          1     Yes         \n",
       "5 6583-QGCSI Female 1             Yes     No         50     Yes         \n",
       "  MultipleLines InternetService OnlineSecurity      <U+22EF>       \n",
       "1 Yes           Fiber optic     No                  <U+22EF>\n",
       "2 Yes           Fiber optic     Yes                 <U+22EF>\n",
       "3 No            No              No internet service <U+22EF>\n",
       "4 Yes           Fiber optic     No                  <U+22EF>\n",
       "5 Yes           Fiber optic     No                  <U+22EF>\n",
       "  StreamingTV         StreamingMovies     Contract       PaperlessBilling\n",
       "1 No                  No                  Month-to-month Yes             \n",
       "2 Yes                 Yes                 Two year       Yes             \n",
       "3 No internet service No internet service Month-to-month No              \n",
       "4 No                  No                  Month-to-month Yes             \n",
       "5 Yes                 No                  Month-to-month Yes             \n",
       "  PaymentMethod           MonthlyCharges TotalCharges numAdminTickets\n",
       "1 Mailed check             79.15           79.15      5              \n",
       "2 Credit card (automatic) 115.55         8312.40      0              \n",
       "3 Credit card (automatic)  20.00          198.70      0              \n",
       "4 Electronic check         75.75           75.75      0              \n",
       "5 Electronic check         88.05         4367.35      0              \n",
       "  numTechTickets Churn\n",
       "1 0              No   \n",
       "2 0              No   \n",
       "3 0              No   \n",
       "4 0              Yes  \n",
       "5 5              Yes  "
      ]
     },
     "metadata": {},
     "output_type": "display_data"
    }
   ],
   "source": [
    "df[duplicated(df),]"
   ]
  },
  {
   "cell_type": "markdown",
   "id": "0fc31f8d",
   "metadata": {},
   "source": [
    "> The above contain the duplicated entries and thus have to be removed."
   ]
  },
  {
   "cell_type": "code",
   "execution_count": 120,
   "id": "3c56773c",
   "metadata": {},
   "outputs": [],
   "source": [
    "df <- unique(df) # drop duplicate entries"
   ]
  },
  {
   "cell_type": "markdown",
   "id": "a482e599",
   "metadata": {},
   "source": [
    "Step 3: Dropping customerID (Since it is only an identifier and not relevant to the analysis)"
   ]
  },
  {
   "cell_type": "code",
   "execution_count": 121,
   "id": "b28f54db",
   "metadata": {},
   "outputs": [],
   "source": [
    "df <- df[, -which(names(df) == \"customerID\")]"
   ]
  },
  {
   "cell_type": "code",
   "execution_count": 122,
   "id": "c6faebcb",
   "metadata": {},
   "outputs": [
    {
     "name": "stdout",
     "output_type": "stream",
     "text": [
      "tibble [7,032 x 22] (S3: tbl_df/tbl/data.frame)\n",
      " $ gender          : chr [1:7032] \"Female\" \"Male\" \"Male\" \"Male\" ...\n",
      " $ SeniorCitizen   : num [1:7032] 0 0 0 0 0 0 0 0 0 0 ...\n",
      " $ Partner         : chr [1:7032] \"Yes\" \"No\" \"No\" \"No\" ...\n",
      " $ Dependents      : chr [1:7032] \"No\" \"No\" \"No\" \"No\" ...\n",
      " $ tenure          : num [1:7032] 1 34 2 45 2 8 22 10 28 62 ...\n",
      " $ PhoneService    : chr [1:7032] \"No\" \"Yes\" \"Yes\" \"No\" ...\n",
      " $ MultipleLines   : chr [1:7032] \"No phone service\" \"No\" \"No\" \"No phone service\" ...\n",
      " $ InternetService : chr [1:7032] \"DSL\" \"DSL\" \"DSL\" \"DSL\" ...\n",
      " $ OnlineSecurity  : chr [1:7032] \"No\" \"Yes\" \"Yes\" \"Yes\" ...\n",
      " $ OnlineBackup    : chr [1:7032] \"Yes\" \"No\" \"Yes\" \"No\" ...\n",
      " $ DeviceProtection: chr [1:7032] \"No\" \"Yes\" \"No\" \"Yes\" ...\n",
      " $ TechSupport     : chr [1:7032] \"No\" \"No\" \"No\" \"Yes\" ...\n",
      " $ StreamingTV     : chr [1:7032] \"No\" \"No\" \"No\" \"No\" ...\n",
      " $ StreamingMovies : chr [1:7032] \"No\" \"No\" \"No\" \"No\" ...\n",
      " $ Contract        : chr [1:7032] \"Month-to-month\" \"One year\" \"Month-to-month\" \"One year\" ...\n",
      " $ PaperlessBilling: chr [1:7032] \"Yes\" \"No\" \"Yes\" \"No\" ...\n",
      " $ PaymentMethod   : chr [1:7032] \"Electronic check\" \"Mailed check\" \"Mailed check\" \"Bank transfer (automatic)\" ...\n",
      " $ MonthlyCharges  : num [1:7032] 29.9 57 53.9 42.3 70.7 ...\n",
      " $ TotalCharges    : num [1:7032] 29.9 1889.5 108.2 1840.8 151.7 ...\n",
      " $ numAdminTickets : num [1:7032] 0 0 0 0 0 0 0 0 0 0 ...\n",
      " $ numTechTickets  : num [1:7032] 0 0 0 3 0 0 0 0 2 0 ...\n",
      " $ Churn           : chr [1:7032] \"No\" \"No\" \"Yes\" \"No\" ...\n",
      " - attr(*, \"na.action\")= 'omit' Named int [1:11] 489 754 937 1083 1341 3332 3827 4381 5221 6673 ...\n",
      "  ..- attr(*, \"names\")= chr [1:11] \"489\" \"754\" \"937\" \"1083\" ...\n"
     ]
    }
   ],
   "source": [
    "str(df)"
   ]
  },
  {
   "cell_type": "markdown",
   "id": "8ad504f9",
   "metadata": {},
   "source": [
    "> customerID successfully dropped."
   ]
  },
  {
   "cell_type": "markdown",
   "id": "44bd4d9b",
   "metadata": {},
   "source": [
    "Step 4: Creating numerical and categorical lists."
   ]
  },
  {
   "cell_type": "code",
   "execution_count": 123,
   "id": "52b01a64",
   "metadata": {},
   "outputs": [
    {
     "data": {
      "text/html": [
       "<style>\n",
       ".list-inline {list-style: none; margin:0; padding: 0}\n",
       ".list-inline>li {display: inline-block}\n",
       ".list-inline>li:not(:last-child)::after {content: \"\\00b7\"; padding: 0 .5ex}\n",
       "</style>\n",
       "<ol class=list-inline><li>0</li><li>1</li><li>5</li><li>2</li><li>4</li><li>3</li></ol>\n"
      ],
      "text/latex": [
       "\\begin{enumerate*}\n",
       "\\item 0\n",
       "\\item 1\n",
       "\\item 5\n",
       "\\item 2\n",
       "\\item 4\n",
       "\\item 3\n",
       "\\end{enumerate*}\n"
      ],
      "text/markdown": [
       "1. 0\n",
       "2. 1\n",
       "3. 5\n",
       "4. 2\n",
       "5. 4\n",
       "6. 3\n",
       "\n",
       "\n"
      ],
      "text/plain": [
       "[1] 0 1 5 2 4 3"
      ]
     },
     "metadata": {},
     "output_type": "display_data"
    }
   ],
   "source": [
    "unique(df$numAdminTickets)"
   ]
  },
  {
   "cell_type": "code",
   "execution_count": 124,
   "id": "e0234104",
   "metadata": {},
   "outputs": [],
   "source": [
    "# distinction is based on the number of different values in the column\n",
    "columns <- names(df)\n",
    "\n",
    "categoric_columns <- vector(mode=\"character\")\n",
    "numeric_columns <- vector(mode=\"character\")\n",
    "\n",
    "for (i in columns) {\n",
    "  if (length(unique(df[[i]])) >= 6) {\n",
    "    numeric_columns <- c(numeric_columns, i)\n",
    "  } else {\n",
    "    categoric_columns <- c(categoric_columns, i)\n",
    "  }\n",
    "}\n",
    "\n",
    "categoric_columns <- categoric_columns[categoric_columns != \"Churn\"] # Excluding 'Churn'"
   ]
  },
  {
   "cell_type": "code",
   "execution_count": 125,
   "id": "1f0bf3a3",
   "metadata": {},
   "outputs": [
    {
     "data": {
      "text/html": [
       "<style>\n",
       ".list-inline {list-style: none; margin:0; padding: 0}\n",
       ".list-inline>li {display: inline-block}\n",
       ".list-inline>li:not(:last-child)::after {content: \"\\00b7\"; padding: 0 .5ex}\n",
       "</style>\n",
       "<ol class=list-inline><li>'tenure'</li><li>'MonthlyCharges'</li><li>'TotalCharges'</li><li>'numAdminTickets'</li><li>'numTechTickets'</li></ol>\n"
      ],
      "text/latex": [
       "\\begin{enumerate*}\n",
       "\\item 'tenure'\n",
       "\\item 'MonthlyCharges'\n",
       "\\item 'TotalCharges'\n",
       "\\item 'numAdminTickets'\n",
       "\\item 'numTechTickets'\n",
       "\\end{enumerate*}\n"
      ],
      "text/markdown": [
       "1. 'tenure'\n",
       "2. 'MonthlyCharges'\n",
       "3. 'TotalCharges'\n",
       "4. 'numAdminTickets'\n",
       "5. 'numTechTickets'\n",
       "\n",
       "\n"
      ],
      "text/plain": [
       "[1] \"tenure\"          \"MonthlyCharges\"  \"TotalCharges\"    \"numAdminTickets\"\n",
       "[5] \"numTechTickets\" "
      ]
     },
     "metadata": {},
     "output_type": "display_data"
    }
   ],
   "source": [
    "numeric_columns"
   ]
  },
  {
   "cell_type": "markdown",
   "id": "97c729b7",
   "metadata": {},
   "source": [
    "Step 5: Label Encoding"
   ]
  },
  {
   "cell_type": "code",
   "execution_count": 126,
   "id": "e1ad4430",
   "metadata": {},
   "outputs": [
    {
     "name": "stderr",
     "output_type": "stream",
     "text": [
      "Warning message:\n",
      "\"package 'caret' is in use and will not be installed\"\n"
     ]
    }
   ],
   "source": [
    "# Label Encoding refers to converting the labels into a numeric form. \n",
    "# This is only for EDA reasons. Later we will use OneHotEncoder to prepare for model building.\n",
    "install.packages(\"caret\")\n",
    "library(\"caret\")"
   ]
  },
  {
   "cell_type": "code",
   "execution_count": 127,
   "id": "b0d95d11",
   "metadata": {},
   "outputs": [],
   "source": [
    "df1 <- df\n",
    "\n",
    "for (col in categoric_columns) {\n",
    "  df1[[col]] <- as.numeric(as.factor(df[[col]]))\n",
    "}\n",
    "\n",
    "df1[[\"Churn\"]] <- as.numeric(as.factor(df[[\"Churn\"]]))"
   ]
  },
  {
   "cell_type": "markdown",
   "id": "48a4ce2e",
   "metadata": {},
   "source": [
    "Step 6: Summary Statistics of Numerical Data"
   ]
  },
  {
   "cell_type": "code",
   "execution_count": 128,
   "id": "c9d0264b",
   "metadata": {},
   "outputs": [
    {
     "data": {
      "text/plain": [
       "     tenure      MonthlyCharges    TotalCharges    numAdminTickets \n",
       " Min.   : 1.00   Min.   : 18.25   Min.   :  18.8   Min.   :0.0000  \n",
       " 1st Qu.: 9.00   1st Qu.: 35.59   1st Qu.: 401.4   1st Qu.:0.0000  \n",
       " Median :29.00   Median : 70.35   Median :1397.5   Median :0.0000  \n",
       " Mean   :32.42   Mean   : 64.80   Mean   :2283.3   Mean   :0.5149  \n",
       " 3rd Qu.:55.00   3rd Qu.: 89.86   3rd Qu.:3794.7   3rd Qu.:0.0000  \n",
       " Max.   :72.00   Max.   :118.75   Max.   :8684.8   Max.   :5.0000  \n",
       " numTechTickets  \n",
       " Min.   :0.0000  \n",
       " 1st Qu.:0.0000  \n",
       " Median :0.0000  \n",
       " Mean   :0.4202  \n",
       " 3rd Qu.:0.0000  \n",
       " Max.   :9.0000  "
      ]
     },
     "metadata": {},
     "output_type": "display_data"
    }
   ],
   "source": [
    "summary(df1[, numeric_columns])"
   ]
  },
  {
   "cell_type": "code",
   "execution_count": 129,
   "id": "c9fc3e72",
   "metadata": {},
   "outputs": [],
   "source": [
    "# Defining the pallete for future plots\n",
    "palette <- c(\"#6a0d83\", \"#ce4993\", \"#ee5d6c\", \"#fb9062\")\n",
    "palette2 <- c(\"#ce4993\", \"#6a0d83\", \"#ee5d6c\", \"#fb9062\")"
   ]
  },
  {
   "cell_type": "markdown",
   "id": "1b6b9c5c",
   "metadata": {},
   "source": [
    "## Data Storytelling - Data Imbalance"
   ]
  },
  {
   "cell_type": "code",
   "execution_count": 130,
   "id": "da7961a3",
   "metadata": {},
   "outputs": [
    {
     "data": {
      "image/png": "[encoded data removed]",
      "text/plain": [
       "Plot with title \"Churn and Non-Churn Customers\""
      ]
     },
     "metadata": {
      "image/png": {
       "height": 420,
       "width": 420
      }
     },
     "output_type": "display_data"
    }
   ],
   "source": [
    "library(\"graphics\")\n",
    "library(\"stats\")\n",
    "library(\"ggplot2\")\n",
    "library(\"dplyr\")\n",
    "\n",
    "# Calculate values for pie chart\n",
    "l1 <- table(df1$Churn)\n",
    "pie_values <- c(l1[1] / sum(l1) * 100, l1[2] / sum(l1) * 100)\n",
    "\n",
    "# Define color palette\n",
    "palette <- c(\"#6A0D83\", \"#CE4993\")\n",
    "\n",
    "# Create pie chart and bar chart side by side\n",
    "par(mfrow=c(1,2), mar=c(2,2,2,2))\n",
    "pie(x = pie_values, labels = c(paste(\"Non-Churn \\n\", round(pie_values[1], 2), \"%\"), paste(\"Churn \\n\", round(pie_values[2], 2), \"%\")), \n",
    "    main=\"Churn and Non-Churn Customers %\",\n",
    "    col=palette, \n",
    "    init.angle=90, \n",
    "    border=\"black\", \n",
    "    clockwise=TRUE, \n",
    "    density=NULL, \n",
    "    angle=c(0, pie_values[1]/100*360), \n",
    "    )\n",
    "\n",
    "barplot(l1, main=\"Churn and Non-Churn Customers\", \n",
    "        col=palette, \n",
    "        border=\"black\", \n",
    "        xaxt=\"n\",\n",
    "        names.arg=c(\"Non-Churn Customers\", \"Churn Customers\"))\n",
    "axis(side=1, at=1:2, labels=c(\"Non-Churn\", \"Churn\"))"
   ]
  },
  {
   "cell_type": "markdown",
   "id": "224d52db",
   "metadata": {},
   "source": [
    "It can be seen that the above data points show a significant difference between churned and non-churned customers. Though one may wonder if this would induce some bias in the analysis, we can argue otherwise. This difference is naturally reflectant of the real world where customers would leave a service if another competing service provide better deals, customer service or other significant features. "
   ]
  },
  {
   "cell_type": "code",
   "execution_count": 131,
   "id": "d833a855",
   "metadata": {},
   "outputs": [
    {
     "name": "stderr",
     "output_type": "stream",
     "text": [
      "Warning message:\n",
      "\"package 'moments' is in use and will not be installed\"\n",
      "Warning message:\n",
      "\"package 'cowplot' is in use and will not be installed\"\n"
     ]
    }
   ],
   "source": [
    "# Install packages\n",
    "install.packages(\"moments\")\n",
    "install.packages(\"cowplot\")\n",
    "\n",
    "# Load necessary packages\n",
    "library(\"moments\")\n",
    "library(\"cowplot\")\n",
    "library(\"ggplot2\")"
   ]
  },
  {
   "cell_type": "code",
   "execution_count": 132,
   "id": "a4ff585a",
   "metadata": {
    "scrolled": true
   },
   "outputs": [
    {
     "name": "stdout",
     "output_type": "stream",
     "text": [
      "[1] \"Distribution for each numerical feature\"\n"
     ]
    },
    {
     "data": {
      "image/png": "[encoded data removed]",
      "text/plain": [
       "plot without title"
      ]
     },
     "metadata": {
      "image/png": {
       "height": 420,
       "width": 420
      }
     },
     "output_type": "display_data"
    },
    {
     "data": {
      "image/png": "[encoded data removed]",
      "text/plain": [
       "plot without title"
      ]
     },
     "metadata": {
      "image/png": {
       "height": 420,
       "width": 420
      }
     },
     "output_type": "display_data"
    },
    {
     "data": {
      "image/png": "[encoded data removed]",
      "text/plain": [
       "plot without title"
      ]
     },
     "metadata": {
      "image/png": {
       "height": 420,
       "width": 420
      }
     },
     "output_type": "display_data"
    },
    {
     "data": {
      "image/png": "[encoded data removed]",
      "text/plain": [
       "plot without title"
      ]
     },
     "metadata": {
      "image/png": {
       "height": 420,
       "width": 420
      }
     },
     "output_type": "display_data"
    },
    {
     "data": {
      "image/png": "[encoded data removed]",
      "text/plain": [
       "plot without title"
      ]
     },
     "metadata": {
      "image/png": {
       "height": 420,
       "width": 420
      }
     },
     "output_type": "display_data"
    }
   ],
   "source": [
    "# Define function to create distribution plots\n",
    "dist_custom <- function(dataset, columns_list, rows, cols, subtitle) {\n",
    "  # Calculate number of plots\n",
    "  num_plots <- rows * cols\n",
    "  \n",
    "  # Check if number of columns is greater than the number of plots\n",
    "  if (length(columns_list) < num_plots) {\n",
    "    stop(\"Number of columns is less than the number of plots.\")\n",
    "  }\n",
    "  \n",
    "  # Create a list of plots\n",
    "  plots <- list()\n",
    "  for (i in 1:num_plots) {\n",
    "    # Calculate the row and column number for each plot\n",
    "    row <- ((i - 1) %/% cols) + 1\n",
    "    col <- (i - 1) %% cols + 1\n",
    "    \n",
    "    # Create a ggplot for the current column\n",
    "    plots[[i]] <- ggplot(dataset, aes_string(x = columns_list[i])) +\n",
    "      geom_density(fill = \"#6A0D83\", alpha = 0.8) +\n",
    "      labs(title = paste0(columns_list[i], \", skewness is \", round(skewness(dataset[[columns_list[i]]]), 2)))\n",
    "  }\n",
    "  \n",
    "  # Combine the plots into a single figure\n",
    "  fig <- cowplot::plot_grid(plotlist = plots, nrow = rows, ncol = cols, labels = \"AUTO\")\n",
    "  \n",
    "  # Add the suptitle to the figure\n",
    "  fig <- ggdraw(fig) + draw_label(subtitle, fontface = \"bold\", y = 1, size = 14)\n",
    "  \n",
    "  # Return the figure\n",
    "  return(fig)\n",
    "}\n",
    "\n",
    "print(\"Distribution for each numerical feature\")\n",
    "# Call the function per feature\n",
    "dist_custom(dataset = df1, columns_list = numeric_columns[1], rows = 1, cols = 1, subtitle = \"\")\n",
    "dist_custom(dataset = df1, columns_list = numeric_columns[2], rows = 1, cols = 1, subtitle = \"\")\n",
    "dist_custom(dataset = df1, columns_list = numeric_columns[3], rows = 1, cols = 1, subtitle = \"\")\n",
    "dist_custom(dataset = df1, columns_list = numeric_columns[4], rows = 1, cols = 1, subtitle = \"\")\n",
    "dist_custom(dataset = df1, columns_list = numeric_columns[5], rows = 1, cols = 1, subtitle = \"\")"
   ]
  },
  {
   "cell_type": "markdown",
   "id": "eeb8f0c5",
   "metadata": {},
   "source": [
    "# Logistic Regression"
   ]
  },
  {
   "cell_type": "code",
   "execution_count": 133,
   "id": "0940f93e",
   "metadata": {},
   "outputs": [],
   "source": [
    "# Importing tidyverse for visualisation and data manipulation\n",
    "library(tidyverse)"
   ]
  },
  {
   "cell_type": "code",
   "execution_count": 134,
   "id": "a7edb71f",
   "metadata": {},
   "outputs": [],
   "source": [
    "# Converting columns in the cleaned dataset df1 into factors\n",
    "# ADD RENAMING STEP HERE, TODO. \n",
    "df1 <- df1 %>%\n",
    "  mutate(across(c(gender, SeniorCitizen, Partner, Dependents, PhoneService, MultipleLines, InternetService, OnlineSecurity, OnlineBackup, DeviceProtection, TechSupport, StreamingTV, StreamingMovies, Contract, PaperlessBilling, PaymentMethod, Churn), factor, exclude = NULL))"
   ]
  },
  {
   "cell_type": "code",
   "execution_count": 135,
   "id": "07040b96",
   "metadata": {},
   "outputs": [],
   "source": [
    "# Specifying the independent variables we want to include in the model\n",
    "# In this instance, we include all variables except customerID and TotalCharges, because this method can only be applied to factors with 2 or more levels\n",
    "# We predict churn based on the remaining variables\n",
    "model <- glm(Churn ~ gender + SeniorCitizen + Partner + Dependents + tenure + PhoneService + MultipleLines + InternetService + OnlineSecurity + OnlineBackup + DeviceProtection + TechSupport + StreamingTV + StreamingMovies + Contract + PaperlessBilling + PaymentMethod + MonthlyCharges + numAdminTickets + numTechTickets,\n",
    "             family = binomial(link = \"logit\"), data = df1)"
   ]
  },
  {
   "cell_type": "code",
   "execution_count": 136,
   "id": "5ad7b3c2",
   "metadata": {},
   "outputs": [
    {
     "data": {
      "text/plain": [
       "\n",
       "Call:\n",
       "glm(formula = Churn ~ gender + SeniorCitizen + Partner + Dependents + \n",
       "    tenure + PhoneService + MultipleLines + InternetService + \n",
       "    OnlineSecurity + OnlineBackup + DeviceProtection + TechSupport + \n",
       "    StreamingTV + StreamingMovies + Contract + PaperlessBilling + \n",
       "    PaymentMethod + MonthlyCharges + numAdminTickets + numTechTickets, \n",
       "    family = binomial(link = \"logit\"), data = df1)\n",
       "\n",
       "Deviance Residuals: \n",
       "    Min       1Q   Median       3Q      Max  \n",
       "-2.8317  -0.4596  -0.0816   0.2315   3.9461  \n",
       "\n",
       "Coefficients: (7 not defined because of singularities)\n",
       "                    Estimate Std. Error z value Pr(>|z|)    \n",
       "(Intercept)        1.6660247  1.0177351   1.637 0.101632    \n",
       "gender2           -0.0981240  0.0763882  -1.285 0.198952    \n",
       "SeniorCitizen2     0.2664415  0.1043161   2.554 0.010644 *  \n",
       "Partner2          -0.0556497  0.0942423  -0.590 0.554858    \n",
       "Dependents2       -0.0831307  0.1079862  -0.770 0.441403    \n",
       "tenure            -0.0828574  0.0039158 -21.160  < 2e-16 ***\n",
       "PhoneService2      0.2602623  0.8171851   0.318 0.750116    \n",
       "MultipleLines2            NA         NA      NA       NA    \n",
       "MultipleLines3     0.5099728  0.2205477   2.312 0.020761 *  \n",
       "InternetService2   1.8555619  1.0104673   1.836 0.066307 .  \n",
       "InternetService3  -1.9880358  1.0165956  -1.956 0.050514 .  \n",
       "OnlineSecurity2           NA         NA      NA       NA    \n",
       "OnlineSecurity3   -0.3626560  0.2250253  -1.612 0.107044    \n",
       "OnlineBackup2             NA         NA      NA       NA    \n",
       "OnlineBackup3     -0.2176861  0.2216820  -0.982 0.326112    \n",
       "DeviceProtection2         NA         NA      NA       NA    \n",
       "DeviceProtection3  0.0009165  0.2222787   0.004 0.996710    \n",
       "TechSupport2              NA         NA      NA       NA    \n",
       "TechSupport3      -0.0589006  0.2276955  -0.259 0.795881    \n",
       "StreamingTV2              NA         NA      NA       NA    \n",
       "StreamingTV3       0.3594996  0.4126191   0.871 0.383611    \n",
       "StreamingMovies2          NA         NA      NA       NA    \n",
       "StreamingMovies3   0.3569643  0.4132947   0.864 0.387750    \n",
       "Contract2         -0.8421215  0.1563110  -5.387 7.15e-08 ***\n",
       "Contract3         -2.3692408  0.3007641  -7.877 3.34e-15 ***\n",
       "PaperlessBilling2  0.3200497  0.0854040   3.747 0.000179 ***\n",
       "PaymentMethod2    -0.1953440  0.1432158  -1.364 0.172573    \n",
       "PaymentMethod3     0.1398006  0.1181567   1.183 0.236738    \n",
       "PaymentMethod4    -0.2502988  0.1337828  -1.871 0.061354 .  \n",
       "MonthlyCharges    -0.0395748  0.0401401  -0.986 0.324174    \n",
       "numAdminTickets   -0.0516771  0.0299508  -1.725 0.084455 .  \n",
       "numTechTickets     1.4392627  0.0522498  27.546  < 2e-16 ***\n",
       "---\n",
       "Signif. codes:  0 '***' 0.001 '**' 0.01 '*' 0.05 '.' 0.1 ' ' 1\n",
       "\n",
       "(Dispersion parameter for binomial family taken to be 1)\n",
       "\n",
       "    Null deviance: 8143.4  on 7031  degrees of freedom\n",
       "Residual deviance: 4262.7  on 7007  degrees of freedom\n",
       "AIC: 4312.7\n",
       "\n",
       "Number of Fisher Scoring iterations: 7\n"
      ]
     },
     "metadata": {},
     "output_type": "display_data"
    }
   ],
   "source": [
    "summary(model) "
   ]
  },
  {
   "cell_type": "code",
   "execution_count": 137,
   "id": "8e4ce97f",
   "metadata": {},
   "outputs": [
    {
     "data": {
      "text/plain": [
       "Model :\n",
       "Churn ~ gender + SeniorCitizen + Partner + Dependents + tenure + \n",
       "    PhoneService + MultipleLines + InternetService + OnlineSecurity + \n",
       "    OnlineBackup + DeviceProtection + TechSupport + StreamingTV + \n",
       "    StreamingMovies + Contract + PaperlessBilling + PaymentMethod + \n",
       "    MonthlyCharges + numAdminTickets + numTechTickets\n",
       "\n",
       "Complete :\n",
       "                  (Intercept) gender2 SeniorCitizen2 Partner2 Dependents2\n",
       "MultipleLines2     1           0       0              0        0         \n",
       "OnlineSecurity2    0           0       0              0        0         \n",
       "OnlineBackup2      0           0       0              0        0         \n",
       "DeviceProtection2  0           0       0              0        0         \n",
       "TechSupport2       0           0       0              0        0         \n",
       "StreamingTV2       0           0       0              0        0         \n",
       "StreamingMovies2   0           0       0              0        0         \n",
       "                  tenure PhoneService2 MultipleLines3 InternetService2\n",
       "MultipleLines2     0     -1             0              0              \n",
       "OnlineSecurity2    0      0             0              0              \n",
       "OnlineBackup2      0      0             0              0              \n",
       "DeviceProtection2  0      0             0              0              \n",
       "TechSupport2       0      0             0              0              \n",
       "StreamingTV2       0      0             0              0              \n",
       "StreamingMovies2   0      0             0              0              \n",
       "                  InternetService3 OnlineSecurity3 OnlineBackup3\n",
       "MultipleLines2     0                0               0           \n",
       "OnlineSecurity2    1                0               0           \n",
       "OnlineBackup2      1                0               0           \n",
       "DeviceProtection2  1                0               0           \n",
       "TechSupport2       1                0               0           \n",
       "StreamingTV2       1                0               0           \n",
       "StreamingMovies2   1                0               0           \n",
       "                  DeviceProtection3 TechSupport3 StreamingTV3 StreamingMovies3\n",
       "MultipleLines2     0                 0            0            0              \n",
       "OnlineSecurity2    0                 0            0            0              \n",
       "OnlineBackup2      0                 0            0            0              \n",
       "DeviceProtection2  0                 0            0            0              \n",
       "TechSupport2       0                 0            0            0              \n",
       "StreamingTV2       0                 0            0            0              \n",
       "StreamingMovies2   0                 0            0            0              \n",
       "                  Contract2 Contract3 PaperlessBilling2 PaymentMethod2\n",
       "MultipleLines2     0         0         0                 0            \n",
       "OnlineSecurity2    0         0         0                 0            \n",
       "OnlineBackup2      0         0         0                 0            \n",
       "DeviceProtection2  0         0         0                 0            \n",
       "TechSupport2       0         0         0                 0            \n",
       "StreamingTV2       0         0         0                 0            \n",
       "StreamingMovies2   0         0         0                 0            \n",
       "                  PaymentMethod3 PaymentMethod4 MonthlyCharges numAdminTickets\n",
       "MultipleLines2     0              0              0              0             \n",
       "OnlineSecurity2    0              0              0              0             \n",
       "OnlineBackup2      0              0              0              0             \n",
       "DeviceProtection2  0              0              0              0             \n",
       "TechSupport2       0              0              0              0             \n",
       "StreamingTV2       0              0              0              0             \n",
       "StreamingMovies2   0              0              0              0             \n",
       "                  numTechTickets\n",
       "MultipleLines2     0            \n",
       "OnlineSecurity2    0            \n",
       "OnlineBackup2      0            \n",
       "DeviceProtection2  0            \n",
       "TechSupport2       0            \n",
       "StreamingTV2       0            \n",
       "StreamingMovies2   0            \n"
      ]
     },
     "metadata": {},
     "output_type": "display_data"
    }
   ],
   "source": [
    "# EXPLANATION TO DO, WAIT FOR JAYDEN\n",
    "alias(model)"
   ]
  },
  {
   "cell_type": "markdown",
   "id": "76e3c4d7",
   "metadata": {},
   "source": [
    "The variables with a low p-value are the most statistically significant in this logistic regression (less than 0.05 in our definition). The following variables, according to the output, are statistically significant:\n",
    "\n",
    "numTechTickets, SeniorCitizen, MultipleLines, Contract, PaperlessBilling, tenure\n",
    "\n",
    "1. The magnitude of these variables' effects on the likelihood of churn are shown by the coefficients for these variables. We can observe that, for instance, a one-unit increase in tenure is connected to a factor of exp(-0.0828574) = 0.9205, or a 7.95% drop in the probability of churn. To comprehend how other variables affect the outcome variable, we might similarly read the coefficients for those other variables.\n",
    "\n",
    "2. At the bottom of the output, we see that the residual deviance is lower than the null deviance. The null deviance in logistic regression represents the deviance of the model with only an intercept term and no predictor variables, with no info about the response variable as well. On the other hand, the residual deviance includes the predictor variables. It is the variation in the response variable that remains unexplained by the model after accounting for the effects of the predictor variables.  \n",
    "\n",
    "In all, this indicates that the model is doing a better job of predicting churn (H1), compared to chance alone (H0) - establishing that there is indeed a relation between our predictor variables and the churn rate. \n",
    "\n"
   ]
  },
  {
   "cell_type": "markdown",
   "id": "09c6faf6",
   "metadata": {},
   "source": [
    "#### However, some issues are discerned from the results of the regression. \n",
    "\n",
    "1. The output begins with the deviance residuals, which gives us an indication of how well the model fits the data. The minimum and maximum values of the residual deviances are -2.8317 and 3.9461, respectively. The wide range of the deviance residuals from min to max here indicates that the model is not capturing information in the data and could be overfitting. Additionally, there is a high likelihood of outliers present in the data which creates the right skew in the range of values, indicated by the max value of 3.9461. \n",
    "2. Several missing values exist for the MultipleLines, OnlineSecurity, OnlineBackup, DeviceProtection, TechSupport, StreamingTV, and StreamingMovies variables. This may be due to linear dependence between variables or sparse data. However, it is noted that MultipleLines is statistically significant based on its p-value output.\n",
    "3. The AIC value of the model is 4312.7, which is typically high. This, along with the missing values for 7 variables may indicate that the model has too many variables involved in the prediction process.  "
   ]
  },
  {
   "cell_type": "markdown",
   "id": "5e2a878a",
   "metadata": {},
   "source": [
    "> To reduce the complexity of the data, we remove the variables mentioned in point 2, as they may be adding noise to the model. This is to make the model more parsimonious and to improve the balance between model complexity and predictive accuracy. "
   ]
  },
  {
   "cell_type": "code",
   "execution_count": 138,
   "id": "65d73835",
   "metadata": {},
   "outputs": [
    {
     "name": "stdout",
     "output_type": "stream",
     "text": [
      "Start:  AIC=4309.16\n",
      "Churn ~ gender + SeniorCitizen + Partner + Dependents + tenure + \n",
      "    PhoneService + MultipleLines + InternetService + OnlineSecurity + \n",
      "    OnlineBackup + DeviceProtection + TechSupport + StreamingTV + \n",
      "    StreamingMovies + Contract + PaperlessBilling + PaymentMethod + \n",
      "    MonthlyCharges + TotalCharges + numAdminTickets + numTechTickets\n",
      "\n",
      "\n",
      "Step:  AIC=4309.16\n",
      "Churn ~ gender + SeniorCitizen + Partner + Dependents + tenure + \n",
      "    MultipleLines + InternetService + OnlineSecurity + OnlineBackup + \n",
      "    DeviceProtection + TechSupport + StreamingTV + StreamingMovies + \n",
      "    Contract + PaperlessBilling + PaymentMethod + MonthlyCharges + \n",
      "    TotalCharges + numAdminTickets + numTechTickets\n",
      "\n",
      "                   Df Deviance    AIC\n",
      "- DeviceProtection  1   4257.2 4307.2\n",
      "- TechSupport       1   4257.2 4307.2\n",
      "- Partner           1   4257.5 4307.5\n",
      "- Dependents        1   4257.9 4307.9\n",
      "- StreamingTV       1   4257.9 4307.9\n",
      "- StreamingMovies   1   4257.9 4307.9\n",
      "- MonthlyCharges    1   4257.9 4307.9\n",
      "- OnlineBackup      1   4258.1 4308.1\n",
      "- gender            1   4258.7 4308.7\n",
      "<none>                  4257.2 4309.2\n",
      "- OnlineSecurity    1   4259.7 4309.7\n",
      "- numAdminTickets   1   4260.1 4310.1\n",
      "- InternetService   1   4260.4 4310.4\n",
      "- TotalCharges      1   4262.7 4312.7\n",
      "- SeniorCitizen     1   4263.8 4313.8\n",
      "- PaymentMethod     3   4272.9 4318.9\n",
      "- PaperlessBilling  1   4271.1 4321.1\n",
      "- MultipleLines     2   4276.6 4324.6\n",
      "- Contract          2   4352.2 4400.2\n",
      "- tenure            1   4356.3 4406.3\n",
      "- numTechTickets    1   5822.7 5872.7\n",
      "\n",
      "Step:  AIC=4307.16\n",
      "Churn ~ gender + SeniorCitizen + Partner + Dependents + tenure + \n",
      "    MultipleLines + InternetService + OnlineSecurity + OnlineBackup + \n",
      "    TechSupport + StreamingTV + StreamingMovies + Contract + \n",
      "    PaperlessBilling + PaymentMethod + MonthlyCharges + TotalCharges + \n",
      "    numAdminTickets + numTechTickets\n",
      "\n",
      "                   Df Deviance    AIC\n",
      "- TechSupport       1   4257.3 4305.3\n",
      "- Partner           1   4257.5 4305.5\n",
      "- Dependents        1   4257.9 4305.9\n",
      "- gender            1   4258.7 4306.7\n",
      "<none>                  4257.2 4307.2\n",
      "- StreamingTV       1   4259.8 4307.8\n",
      "- OnlineBackup      1   4259.9 4307.9\n",
      "- StreamingMovies   1   4259.9 4307.9\n",
      "- numAdminTickets   1   4260.1 4308.1\n",
      "- MonthlyCharges    1   4260.8 4308.8\n",
      "+ DeviceProtection  1   4257.2 4309.2\n",
      "- TotalCharges      1   4262.7 4310.7\n",
      "- SeniorCitizen     1   4263.8 4311.8\n",
      "- OnlineSecurity    1   4264.1 4312.1\n",
      "- PaymentMethod     3   4272.9 4316.9\n",
      "- PaperlessBilling  1   4271.1 4319.1\n",
      "- InternetService   1   4272.3 4320.3\n",
      "- MultipleLines     2   4278.2 4324.2\n",
      "- Contract          2   4352.2 4398.2\n",
      "- tenure            1   4356.3 4404.3\n",
      "- numTechTickets    1   5823.4 5871.4\n",
      "\n",
      "Step:  AIC=4305.31\n",
      "Churn ~ gender + SeniorCitizen + Partner + Dependents + tenure + \n",
      "    MultipleLines + InternetService + OnlineSecurity + OnlineBackup + \n",
      "    StreamingTV + StreamingMovies + Contract + PaperlessBilling + \n",
      "    PaymentMethod + MonthlyCharges + TotalCharges + numAdminTickets + \n",
      "    numTechTickets\n",
      "\n",
      "                   Df Deviance    AIC\n",
      "- Partner           1   4257.6 4303.6\n",
      "- Dependents        1   4258.1 4304.1\n",
      "- gender            1   4258.9 4304.9\n",
      "<none>                  4257.3 4305.3\n",
      "- OnlineBackup      1   4260.0 4306.0\n",
      "- numAdminTickets   1   4260.3 4306.3\n",
      "+ TechSupport       1   4257.2 4307.2\n",
      "+ DeviceProtection  1   4257.2 4307.2\n",
      "- StreamingTV       1   4262.5 4308.5\n",
      "- StreamingMovies   1   4262.6 4308.6\n",
      "- TotalCharges      1   4262.9 4308.9\n",
      "- SeniorCitizen     1   4264.1 4310.1\n",
      "- OnlineSecurity    1   4264.6 4310.6\n",
      "- MonthlyCharges    1   4265.8 4311.8\n",
      "- PaymentMethod     3   4273.2 4315.2\n",
      "- PaperlessBilling  1   4271.2 4317.2\n",
      "- MultipleLines     2   4281.4 4325.4\n",
      "- InternetService   1   4289.3 4335.3\n",
      "- Contract          2   4353.4 4397.4\n",
      "- tenure            1   4356.4 4402.4\n",
      "- numTechTickets    1   5830.1 5876.1\n",
      "\n",
      "Step:  AIC=4303.64\n",
      "Churn ~ gender + SeniorCitizen + Dependents + tenure + MultipleLines + \n",
      "    InternetService + OnlineSecurity + OnlineBackup + StreamingTV + \n",
      "    StreamingMovies + Contract + PaperlessBilling + PaymentMethod + \n",
      "    MonthlyCharges + TotalCharges + numAdminTickets + numTechTickets\n",
      "\n",
      "                   Df Deviance    AIC\n",
      "- Dependents        1   4259.1 4303.1\n",
      "- gender            1   4259.2 4303.2\n",
      "<none>                  4257.6 4303.6\n",
      "- OnlineBackup      1   4260.3 4304.3\n",
      "- numAdminTickets   1   4260.6 4304.6\n",
      "+ Partner           1   4257.3 4305.3\n",
      "+ TechSupport       1   4257.5 4305.5\n",
      "+ DeviceProtection  1   4257.6 4305.6\n",
      "- StreamingTV       1   4262.8 4306.8\n",
      "- StreamingMovies   1   4263.0 4307.0\n",
      "- TotalCharges      1   4263.2 4307.2\n",
      "- SeniorCitizen     1   4264.2 4308.2\n",
      "- OnlineSecurity    1   4265.0 4309.0\n",
      "- MonthlyCharges    1   4266.1 4310.1\n",
      "- PaymentMethod     3   4273.3 4313.3\n",
      "- PaperlessBilling  1   4271.6 4315.6\n",
      "- MultipleLines     2   4281.7 4323.7\n",
      "- InternetService   1   4289.6 4333.6\n",
      "- Contract          2   4353.8 4395.8\n",
      "- tenure            1   4358.5 4402.5\n",
      "- numTechTickets    1   5830.1 5874.1\n",
      "\n",
      "Step:  AIC=4303.15\n",
      "Churn ~ gender + SeniorCitizen + tenure + MultipleLines + InternetService + \n",
      "    OnlineSecurity + OnlineBackup + StreamingTV + StreamingMovies + \n",
      "    Contract + PaperlessBilling + PaymentMethod + MonthlyCharges + \n",
      "    TotalCharges + numAdminTickets + numTechTickets\n",
      "\n",
      "                   Df Deviance    AIC\n",
      "- gender            1   4260.7 4302.7\n",
      "<none>                  4259.1 4303.1\n",
      "+ Dependents        1   4257.6 4303.6\n",
      "- OnlineBackup      1   4261.9 4303.9\n",
      "+ Partner           1   4258.1 4304.1\n",
      "- numAdminTickets   1   4262.2 4304.2\n",
      "+ TechSupport       1   4259.0 4305.0\n",
      "+ DeviceProtection  1   4259.1 4305.1\n",
      "- StreamingTV       1   4264.2 4306.2\n",
      "- StreamingMovies   1   4264.5 4306.5\n",
      "- TotalCharges      1   4264.5 4306.5\n",
      "- OnlineSecurity    1   4266.6 4308.6\n",
      "- SeniorCitizen     1   4266.9 4308.9\n",
      "- MonthlyCharges    1   4267.6 4309.6\n",
      "- PaymentMethod     3   4275.1 4313.1\n",
      "- PaperlessBilling  1   4273.4 4315.4\n",
      "- MultipleLines     2   4283.3 4323.3\n",
      "- InternetService   1   4291.2 4333.2\n",
      "- Contract          2   4358.6 4398.6\n",
      "- tenure            1   4362.2 4404.2\n",
      "- numTechTickets    1   5833.5 5875.5\n",
      "\n",
      "Step:  AIC=4302.72\n",
      "Churn ~ SeniorCitizen + tenure + MultipleLines + InternetService + \n",
      "    OnlineSecurity + OnlineBackup + StreamingTV + StreamingMovies + \n",
      "    Contract + PaperlessBilling + PaymentMethod + MonthlyCharges + \n",
      "    TotalCharges + numAdminTickets + numTechTickets\n",
      "\n",
      "                   Df Deviance    AIC\n",
      "<none>                  4260.7 4302.7\n",
      "+ gender            1   4259.1 4303.1\n",
      "+ Dependents        1   4259.2 4303.2\n",
      "- OnlineBackup      1   4263.4 4303.4\n",
      "+ Partner           1   4259.6 4303.6\n",
      "- numAdminTickets   1   4263.7 4303.7\n",
      "+ TechSupport       1   4260.6 4304.6\n",
      "+ DeviceProtection  1   4260.6 4304.6\n",
      "- StreamingTV       1   4265.9 4305.9\n",
      "- StreamingMovies   1   4266.1 4306.1\n",
      "- TotalCharges      1   4266.1 4306.1\n",
      "- OnlineSecurity    1   4268.0 4308.0\n",
      "- SeniorCitizen     1   4268.4 4308.4\n",
      "- MonthlyCharges    1   4269.3 4309.3\n",
      "- PaymentMethod     3   4276.8 4312.8\n",
      "- PaperlessBilling  1   4275.1 4315.1\n",
      "- MultipleLines     2   4284.9 4322.9\n",
      "- InternetService   1   4293.1 4333.1\n",
      "- Contract          2   4359.8 4397.8\n",
      "- tenure            1   4363.6 4403.6\n",
      "- numTechTickets    1   5833.6 5873.6\n"
     ]
    }
   ],
   "source": [
    "# Stepwise selection to choose the best set of predictor variables for a logistic regression model in R. This code assumes that your data is stored in a data frame called df and that the response variable is called Churn.\n",
    "\n",
    "# Load the MASS package for the stepAIC function\n",
    "library(MASS)\n",
    "\n",
    "# Fit the full model with all predictor variables\n",
    "full_model <- glm(Churn ~ gender + SeniorCitizen + Partner + Dependents + tenure + PhoneService + MultipleLines + InternetService + OnlineSecurity + OnlineBackup + DeviceProtection + TechSupport + StreamingTV + StreamingMovies + Contract + PaperlessBilling + PaymentMethod + MonthlyCharges + TotalCharges + numAdminTickets + numTechTickets, family = binomial(link = \"logit\"), data = df1)\n",
    "\n",
    "# Use stepwise selection to choose the best set of predictor variables\n",
    "step_model <- stepAIC(full_model, direction = \"both\")\n",
    "\n"
   ]
  },
  {
   "cell_type": "code",
   "execution_count": 139,
   "id": "4195381d",
   "metadata": {},
   "outputs": [
    {
     "data": {
      "text/plain": [
       "\n",
       "Call:\n",
       "glm(formula = Churn ~ SeniorCitizen + tenure + MultipleLines + \n",
       "    InternetService + OnlineSecurity + OnlineBackup + StreamingTV + \n",
       "    StreamingMovies + Contract + PaperlessBilling + PaymentMethod + \n",
       "    MonthlyCharges + TotalCharges + numAdminTickets + numTechTickets, \n",
       "    family = binomial(link = \"logit\"), data = df1)\n",
       "\n",
       "Deviance Residuals: \n",
       "    Min       1Q   Median       3Q      Max  \n",
       "-2.7407  -0.4631  -0.0794   0.2375   3.8423  \n",
       "\n",
       "Coefficients: (4 not defined because of singularities)\n",
       "                    Estimate Std. Error z value Pr(>|z|)    \n",
       "(Intercept)        1.748e+00  6.495e-01   2.691 0.007121 ** \n",
       "SeniorCitizen2     2.837e-01  1.026e-01   2.765 0.005694 ** \n",
       "tenure            -6.920e-02  7.181e-03  -9.637  < 2e-16 ***\n",
       "MultipleLines2    -3.094e-01  3.044e-01  -1.016 0.309441    \n",
       "MultipleLines3     5.370e-01  1.126e-01   4.769 1.85e-06 ***\n",
       "InternetService2   1.932e+00  3.431e-01   5.632 1.78e-08 ***\n",
       "InternetService3  -2.005e+00  3.906e-01  -5.133 2.85e-07 ***\n",
       "OnlineSecurity2           NA         NA      NA       NA    \n",
       "OnlineSecurity3   -3.424e-01  1.271e-01  -2.694 0.007051 ** \n",
       "OnlineBackup2             NA         NA      NA       NA    \n",
       "OnlineBackup3     -1.923e-01  1.179e-01  -1.632 0.102736    \n",
       "StreamingTV2              NA         NA      NA       NA    \n",
       "StreamingTV3       3.924e-01  1.726e-01   2.273 0.023027 *  \n",
       "StreamingMovies2          NA         NA      NA       NA    \n",
       "StreamingMovies3   3.981e-01  1.714e-01   2.322 0.020217 *  \n",
       "Contract2         -8.632e-01  1.554e-01  -5.553 2.80e-08 ***\n",
       "Contract3         -2.465e+00  2.994e-01  -8.233  < 2e-16 ***\n",
       "PaperlessBilling2  3.237e-01  8.522e-02   3.798 0.000146 ***\n",
       "PaymentMethod2    -2.067e-01  1.429e-01  -1.446 0.148038    \n",
       "PaymentMethod3     1.364e-01  1.181e-01   1.156 0.247868    \n",
       "PaymentMethod4    -2.372e-01  1.333e-01  -1.779 0.075238 .  \n",
       "MonthlyCharges    -3.922e-02  1.345e-02  -2.917 0.003536 ** \n",
       "TotalCharges      -2.062e-04  8.803e-05  -2.343 0.019147 *  \n",
       "numAdminTickets   -5.138e-02  2.996e-02  -1.715 0.086308 .  \n",
       "numTechTickets     1.462e+00  5.325e-02  27.454  < 2e-16 ***\n",
       "---\n",
       "Signif. codes:  0 '***' 0.001 '**' 0.01 '*' 0.05 '.' 0.1 ' ' 1\n",
       "\n",
       "(Dispersion parameter for binomial family taken to be 1)\n",
       "\n",
       "    Null deviance: 8143.4  on 7031  degrees of freedom\n",
       "Residual deviance: 4260.7  on 7011  degrees of freedom\n",
       "AIC: 4302.7\n",
       "\n",
       "Number of Fisher Scoring iterations: 7\n"
      ]
     },
     "metadata": {},
     "output_type": "display_data"
    },
    {
     "data": {
      "text/plain": [
       "Model :\n",
       "Churn ~ SeniorCitizen + tenure + MultipleLines + InternetService + \n",
       "    OnlineSecurity + OnlineBackup + StreamingTV + StreamingMovies + \n",
       "    Contract + PaperlessBilling + PaymentMethod + MonthlyCharges + \n",
       "    TotalCharges + numAdminTickets + numTechTickets\n",
       "\n",
       "Complete :\n",
       "                 (Intercept) SeniorCitizen2 tenure MultipleLines2\n",
       "OnlineSecurity2  0           0              0      0             \n",
       "OnlineBackup2    0           0              0      0             \n",
       "StreamingTV2     0           0              0      0             \n",
       "StreamingMovies2 0           0              0      0             \n",
       "                 MultipleLines3 InternetService2 InternetService3\n",
       "OnlineSecurity2  0              0                1               \n",
       "OnlineBackup2    0              0                1               \n",
       "StreamingTV2     0              0                1               \n",
       "StreamingMovies2 0              0                1               \n",
       "                 OnlineSecurity3 OnlineBackup3 StreamingTV3 StreamingMovies3\n",
       "OnlineSecurity2  0               0             0            0               \n",
       "OnlineBackup2    0               0             0            0               \n",
       "StreamingTV2     0               0             0            0               \n",
       "StreamingMovies2 0               0             0            0               \n",
       "                 Contract2 Contract3 PaperlessBilling2 PaymentMethod2\n",
       "OnlineSecurity2  0         0         0                 0             \n",
       "OnlineBackup2    0         0         0                 0             \n",
       "StreamingTV2     0         0         0                 0             \n",
       "StreamingMovies2 0         0         0                 0             \n",
       "                 PaymentMethod3 PaymentMethod4 MonthlyCharges TotalCharges\n",
       "OnlineSecurity2  0              0              0              0           \n",
       "OnlineBackup2    0              0              0              0           \n",
       "StreamingTV2     0              0              0              0           \n",
       "StreamingMovies2 0              0              0              0           \n",
       "                 numAdminTickets numTechTickets\n",
       "OnlineSecurity2  0               0             \n",
       "OnlineBackup2    0               0             \n",
       "StreamingTV2     0               0             \n",
       "StreamingMovies2 0               0             \n"
      ]
     },
     "metadata": {},
     "output_type": "display_data"
    }
   ],
   "source": [
    "# Show the final selected model\n",
    "summary(step_model)\n",
    "alias(step_model)"
   ]
  },
  {
   "cell_type": "code",
   "execution_count": 141,
   "id": "b4185751",
   "metadata": {},
   "outputs": [],
   "source": [
    "# Simplifying the data for the linearly dependent variables\n",
    "df1Updated <- df1%>%mutate(across(.cols=c('OnlineSecurity', 'OnlineBackup', 'DeviceProtection', 'TechSupport', 'StreamingTV', 'StreamingMovies'),\n",
    "                          .fns = ~ifelse(. == 'No internet service', 'No', .)))\n",
    "\n",
    "df1Updated <- df1Updated%>%mutate(MultipleLines=ifelse(MultipleLines == 'No phone service', 'No', MultipleLines))"
   ]
  },
  {
   "cell_type": "code",
   "execution_count": 142,
   "id": "35da6670",
   "metadata": {},
   "outputs": [
    {
     "name": "stdout",
     "output_type": "stream",
     "text": [
      "Start:  AIC=4309.16\n",
      "Churn ~ gender + SeniorCitizen + Partner + Dependents + tenure + \n",
      "    PhoneService + MultipleLines + InternetService + OnlineSecurity + \n",
      "    OnlineBackup + DeviceProtection + TechSupport + StreamingTV + \n",
      "    StreamingMovies + Contract + PaperlessBilling + PaymentMethod + \n",
      "    MonthlyCharges + TotalCharges + numAdminTickets + numTechTickets\n",
      "\n",
      "                   Df Deviance    AIC\n",
      "- DeviceProtection  1   4257.2 4307.2\n",
      "- TechSupport       1   4257.2 4307.2\n",
      "- PhoneService      1   4257.5 4307.5\n",
      "- Partner           1   4257.5 4307.5\n",
      "- Dependents        1   4257.9 4307.9\n",
      "- StreamingTV       1   4257.9 4307.9\n",
      "- StreamingMovies   1   4257.9 4307.9\n",
      "- MonthlyCharges    1   4257.9 4307.9\n",
      "- OnlineBackup      1   4258.1 4308.1\n",
      "- gender            1   4258.7 4308.7\n",
      "<none>                  4257.2 4309.2\n",
      "- OnlineSecurity    1   4259.7 4309.7\n",
      "- numAdminTickets   1   4260.1 4310.1\n",
      "- MultipleLines     1   4262.7 4312.7\n",
      "- TotalCharges      1   4262.7 4312.7\n",
      "- SeniorCitizen     1   4263.8 4313.8\n",
      "- PaymentMethod     3   4272.9 4318.9\n",
      "- PaperlessBilling  1   4271.1 4321.1\n",
      "- InternetService   2   4282.6 4330.6\n",
      "- Contract          2   4352.2 4400.2\n",
      "- tenure            1   4356.3 4406.3\n",
      "- numTechTickets    1   5822.7 5872.7\n",
      "\n",
      "Step:  AIC=4307.16\n",
      "Churn ~ gender + SeniorCitizen + Partner + Dependents + tenure + \n",
      "    PhoneService + MultipleLines + InternetService + OnlineSecurity + \n",
      "    OnlineBackup + TechSupport + StreamingTV + StreamingMovies + \n",
      "    Contract + PaperlessBilling + PaymentMethod + MonthlyCharges + \n",
      "    TotalCharges + numAdminTickets + numTechTickets\n",
      "\n",
      "                   Df Deviance    AIC\n",
      "- TechSupport       1   4257.3 4305.3\n",
      "- Partner           1   4257.5 4305.5\n",
      "- Dependents        1   4257.9 4305.9\n",
      "- PhoneService      1   4258.4 4306.4\n",
      "- gender            1   4258.7 4306.7\n",
      "<none>                  4257.2 4307.2\n",
      "- StreamingTV       1   4259.8 4307.8\n",
      "- OnlineBackup      1   4259.9 4307.9\n",
      "- StreamingMovies   1   4259.9 4307.9\n",
      "- numAdminTickets   1   4260.1 4308.1\n",
      "- MonthlyCharges    1   4260.8 4308.8\n",
      "+ DeviceProtection  1   4257.2 4309.2\n",
      "- TotalCharges      1   4262.7 4310.7\n",
      "- SeniorCitizen     1   4263.8 4311.8\n",
      "- OnlineSecurity    1   4264.1 4312.1\n",
      "- PaymentMethod     3   4272.9 4316.9\n",
      "- PaperlessBilling  1   4271.1 4319.1\n",
      "- MultipleLines     1   4273.2 4321.2\n",
      "- InternetService   2   4287.9 4333.9\n",
      "- Contract          2   4352.2 4398.2\n",
      "- tenure            1   4356.3 4404.3\n",
      "- numTechTickets    1   5823.4 5871.4\n",
      "\n",
      "Step:  AIC=4305.31\n",
      "Churn ~ gender + SeniorCitizen + Partner + Dependents + tenure + \n",
      "    PhoneService + MultipleLines + InternetService + OnlineSecurity + \n",
      "    OnlineBackup + StreamingTV + StreamingMovies + Contract + \n",
      "    PaperlessBilling + PaymentMethod + MonthlyCharges + TotalCharges + \n",
      "    numAdminTickets + numTechTickets\n",
      "\n",
      "                   Df Deviance    AIC\n",
      "- Partner           1   4257.6 4303.6\n",
      "- Dependents        1   4258.1 4304.1\n",
      "- gender            1   4258.9 4304.9\n",
      "<none>                  4257.3 4305.3\n",
      "- OnlineBackup      1   4260.0 4306.0\n",
      "- numAdminTickets   1   4260.3 4306.3\n",
      "- PhoneService      1   4260.3 4306.3\n",
      "+ TechSupport       1   4257.2 4307.2\n",
      "+ DeviceProtection  1   4257.2 4307.2\n",
      "- StreamingTV       1   4262.5 4308.5\n",
      "- StreamingMovies   1   4262.6 4308.6\n",
      "- TotalCharges      1   4262.9 4308.9\n",
      "- SeniorCitizen     1   4264.1 4310.1\n",
      "- OnlineSecurity    1   4264.6 4310.6\n",
      "- MonthlyCharges    1   4265.8 4311.8\n",
      "- PaymentMethod     3   4273.2 4315.2\n",
      "- PaperlessBilling  1   4271.2 4317.2\n",
      "- MultipleLines     1   4280.1 4326.1\n",
      "- InternetService   2   4301.0 4345.0\n",
      "- Contract          2   4353.4 4397.4\n",
      "- tenure            1   4356.4 4402.4\n",
      "- numTechTickets    1   5830.1 5876.1\n",
      "\n",
      "Step:  AIC=4303.64\n",
      "Churn ~ gender + SeniorCitizen + Dependents + tenure + PhoneService + \n",
      "    MultipleLines + InternetService + OnlineSecurity + OnlineBackup + \n",
      "    StreamingTV + StreamingMovies + Contract + PaperlessBilling + \n",
      "    PaymentMethod + MonthlyCharges + TotalCharges + numAdminTickets + \n",
      "    numTechTickets\n",
      "\n",
      "                   Df Deviance    AIC\n",
      "- Dependents        1   4259.1 4303.1\n",
      "- gender            1   4259.2 4303.2\n",
      "<none>                  4257.6 4303.6\n",
      "- OnlineBackup      1   4260.3 4304.3\n",
      "- numAdminTickets   1   4260.6 4304.6\n",
      "- PhoneService      1   4260.7 4304.7\n",
      "+ Partner           1   4257.3 4305.3\n",
      "+ TechSupport       1   4257.5 4305.5\n",
      "+ DeviceProtection  1   4257.6 4305.6\n",
      "- StreamingTV       1   4262.8 4306.8\n",
      "- StreamingMovies   1   4263.0 4307.0\n",
      "- TotalCharges      1   4263.2 4307.2\n",
      "- SeniorCitizen     1   4264.2 4308.2\n",
      "- OnlineSecurity    1   4265.0 4309.0\n",
      "- MonthlyCharges    1   4266.1 4310.1\n",
      "- PaymentMethod     3   4273.3 4313.3\n",
      "- PaperlessBilling  1   4271.6 4315.6\n",
      "- MultipleLines     1   4280.5 4324.5\n",
      "- InternetService   2   4301.2 4343.2\n",
      "- Contract          2   4353.8 4395.8\n",
      "- tenure            1   4358.5 4402.5\n",
      "- numTechTickets    1   5830.1 5874.1\n",
      "\n",
      "Step:  AIC=4303.15\n",
      "Churn ~ gender + SeniorCitizen + tenure + PhoneService + MultipleLines + \n",
      "    InternetService + OnlineSecurity + OnlineBackup + StreamingTV + \n",
      "    StreamingMovies + Contract + PaperlessBilling + PaymentMethod + \n",
      "    MonthlyCharges + TotalCharges + numAdminTickets + numTechTickets\n",
      "\n",
      "                   Df Deviance    AIC\n",
      "- gender            1   4260.7 4302.7\n",
      "<none>                  4259.1 4303.1\n",
      "+ Dependents        1   4257.6 4303.6\n",
      "- OnlineBackup      1   4261.9 4303.9\n",
      "+ Partner           1   4258.1 4304.1\n",
      "- PhoneService      1   4262.2 4304.2\n",
      "- numAdminTickets   1   4262.2 4304.2\n",
      "+ TechSupport       1   4259.0 4305.0\n",
      "+ DeviceProtection  1   4259.1 4305.1\n",
      "- StreamingTV       1   4264.2 4306.2\n",
      "- StreamingMovies   1   4264.5 4306.5\n",
      "- TotalCharges      1   4264.5 4306.5\n",
      "- OnlineSecurity    1   4266.6 4308.6\n",
      "- SeniorCitizen     1   4266.9 4308.9\n",
      "- MonthlyCharges    1   4267.6 4309.6\n",
      "- PaymentMethod     3   4275.1 4313.1\n",
      "- PaperlessBilling  1   4273.4 4315.4\n",
      "- MultipleLines     1   4282.0 4324.0\n",
      "- InternetService   2   4303.1 4343.1\n",
      "- Contract          2   4358.6 4398.6\n",
      "- tenure            1   4362.2 4404.2\n",
      "- numTechTickets    1   5833.5 5875.5\n",
      "\n",
      "Step:  AIC=4302.72\n",
      "Churn ~ SeniorCitizen + tenure + PhoneService + MultipleLines + \n",
      "    InternetService + OnlineSecurity + OnlineBackup + StreamingTV + \n",
      "    StreamingMovies + Contract + PaperlessBilling + PaymentMethod + \n",
      "    MonthlyCharges + TotalCharges + numAdminTickets + numTechTickets\n",
      "\n",
      "                   Df Deviance    AIC\n",
      "<none>                  4260.7 4302.7\n",
      "+ gender            1   4259.1 4303.1\n",
      "+ Dependents        1   4259.2 4303.2\n",
      "- OnlineBackup      1   4263.4 4303.4\n",
      "+ Partner           1   4259.6 4303.6\n",
      "- numAdminTickets   1   4263.7 4303.7\n",
      "- PhoneService      1   4263.8 4303.8\n",
      "+ TechSupport       1   4260.6 4304.6\n",
      "+ DeviceProtection  1   4260.6 4304.6\n",
      "- StreamingTV       1   4265.9 4305.9\n",
      "- StreamingMovies   1   4266.1 4306.1\n",
      "- TotalCharges      1   4266.1 4306.1\n",
      "- OnlineSecurity    1   4268.0 4308.0\n",
      "- SeniorCitizen     1   4268.4 4308.4\n",
      "- MonthlyCharges    1   4269.3 4309.3\n",
      "- PaymentMethod     3   4276.8 4312.8\n",
      "- PaperlessBilling  1   4275.1 4315.1\n",
      "- MultipleLines     1   4283.6 4323.6\n",
      "- InternetService   2   4305.0 4343.0\n",
      "- Contract          2   4359.8 4397.8\n",
      "- tenure            1   4363.6 4403.6\n",
      "- numTechTickets    1   5833.6 5873.6\n"
     ]
    }
   ],
   "source": [
    "# Building a second model based on the new dataset\n",
    "second_model <- glm(Churn ~ gender + SeniorCitizen + Partner + Dependents + tenure + PhoneService + MultipleLines + InternetService + OnlineSecurity + OnlineBackup + DeviceProtection + TechSupport + StreamingTV + StreamingMovies + Contract + PaperlessBilling + PaymentMethod + MonthlyCharges + TotalCharges + numAdminTickets + numTechTickets, family = binomial(link = \"logit\"), data = df1Updated)\n",
    "\n",
    "# Use stepwise selection to choose the best set of predictor variables\n",
    "step_model2 <- stepAIC(second_model, direction = \"both\")"
   ]
  },
  {
   "cell_type": "code",
   "execution_count": 143,
   "id": "a673a9c8",
   "metadata": {},
   "outputs": [
    {
     "data": {
      "text/plain": [
       "\n",
       "Call:\n",
       "glm(formula = Churn ~ SeniorCitizen + tenure + PhoneService + \n",
       "    MultipleLines + InternetService + OnlineSecurity + OnlineBackup + \n",
       "    StreamingTV + StreamingMovies + Contract + PaperlessBilling + \n",
       "    PaymentMethod + MonthlyCharges + TotalCharges + numAdminTickets + \n",
       "    numTechTickets, family = binomial(link = \"logit\"), data = df1Updated)\n",
       "\n",
       "Deviance Residuals: \n",
       "    Min       1Q   Median       3Q      Max  \n",
       "-2.7407  -0.4631  -0.0794   0.2375   3.8423  \n",
       "\n",
       "Coefficients:\n",
       "                    Estimate Std. Error z value Pr(>|z|)    \n",
       "(Intercept)        7.736e-01  2.617e-01   2.956 0.003115 ** \n",
       "SeniorCitizen2     2.837e-01  1.026e-01   2.765 0.005694 ** \n",
       "tenure            -6.920e-02  7.181e-03  -9.637  < 2e-16 ***\n",
       "PhoneService2      5.779e-01  3.324e-01   1.738 0.082127 .  \n",
       "MultipleLines      2.685e-01  5.631e-02   4.769 1.85e-06 ***\n",
       "InternetService2   1.932e+00  3.431e-01   5.632 1.78e-08 ***\n",
       "InternetService3  -2.133e+00  5.937e-01  -3.592 0.000328 ***\n",
       "OnlineSecurity    -1.712e-01  6.353e-02  -2.694 0.007051 ** \n",
       "OnlineBackup      -9.617e-02  5.894e-02  -1.632 0.102736    \n",
       "StreamingTV        1.962e-01  8.631e-02   2.273 0.023027 *  \n",
       "StreamingMovies    1.991e-01  8.571e-02   2.322 0.020217 *  \n",
       "Contract2         -8.632e-01  1.554e-01  -5.553 2.80e-08 ***\n",
       "Contract3         -2.465e+00  2.994e-01  -8.233  < 2e-16 ***\n",
       "PaperlessBilling2  3.237e-01  8.522e-02   3.798 0.000146 ***\n",
       "PaymentMethod2    -2.067e-01  1.429e-01  -1.446 0.148038    \n",
       "PaymentMethod3     1.364e-01  1.181e-01   1.156 0.247868    \n",
       "PaymentMethod4    -2.372e-01  1.333e-01  -1.779 0.075238 .  \n",
       "MonthlyCharges    -3.922e-02  1.345e-02  -2.917 0.003536 ** \n",
       "TotalCharges      -2.062e-04  8.803e-05  -2.343 0.019147 *  \n",
       "numAdminTickets   -5.138e-02  2.996e-02  -1.715 0.086308 .  \n",
       "numTechTickets     1.462e+00  5.325e-02  27.454  < 2e-16 ***\n",
       "---\n",
       "Signif. codes:  0 '***' 0.001 '**' 0.01 '*' 0.05 '.' 0.1 ' ' 1\n",
       "\n",
       "(Dispersion parameter for binomial family taken to be 1)\n",
       "\n",
       "    Null deviance: 8143.4  on 7031  degrees of freedom\n",
       "Residual deviance: 4260.7  on 7011  degrees of freedom\n",
       "AIC: 4302.7\n",
       "\n",
       "Number of Fisher Scoring iterations: 7\n"
      ]
     },
     "metadata": {},
     "output_type": "display_data"
    }
   ],
   "source": [
    "summary(step_model2)"
   ]
  },
  {
   "cell_type": "code",
   "execution_count": 160,
   "id": "d6ff839b",
   "metadata": {},
   "outputs": [
    {
     "name": "stdout",
     "output_type": "stream",
     "text": [
      " [1] \"(Intercept)\"       \"SeniorCitizen2\"    \"tenure\"           \n",
      " [4] \"MultipleLines\"     \"InternetService2\"  \"InternetService3\" \n",
      " [7] \"OnlineSecurity\"    \"Contract2\"         \"Contract3\"        \n",
      "[10] \"PaperlessBilling2\" \"MonthlyCharges\"    \"numTechTickets\"   \n"
     ]
    }
   ],
   "source": [
    "# Get p-values for each predictor variable\n",
    "pvalues <- summary(step_model2)$coefficients[, 4]\n",
    "\n",
    "# Get indices of significant predictor variables\n",
    "sig_indices <- which(pvalues < 0.01)\n",
    "\n",
    "# Get names of significant predictor variables\n",
    "sig_vars <- names(coef(step_model2)[sig_indices])\n",
    "print(sig_vars)"
   ]
  },
  {
   "cell_type": "code",
   "execution_count": 161,
   "id": "53e2c5b5",
   "metadata": {},
   "outputs": [
    {
     "data": {
      "image/png": "[encoded data removed]",
      "text/plain": [
       "plot without title"
      ]
     },
     "metadata": {
      "image/png": {
       "height": 420,
       "width": 420
      }
     },
     "output_type": "display_data"
    }
   ],
   "source": [
    "library(broom)\n",
    "library(ggplot2)\n",
    "\n",
    "tidy_model <- tidy(step_model2, conf.int = TRUE)\n",
    "\n",
    "ggplot(tidy_model, aes(x = reorder(term, estimate), y = estimate)) +\n",
    "  geom_point() +\n",
    "  geom_errorbar(aes(ymin = conf.low, ymax = conf.high), width = 0.2) +\n",
    "  coord_flip() +\n",
    "  labs(x = \"Independent Variables\", y = \"Estimated Coefficients\") +\n",
    "  theme_minimal()\n"
   ]
  },
  {
   "cell_type": "code",
   "execution_count": 162,
   "id": "3bcc1042",
   "metadata": {},
   "outputs": [
    {
     "name": "stderr",
     "output_type": "stream",
     "text": [
      "Setting levels: control = 1, case = 2\n",
      "\n",
      "Setting direction: controls < cases\n",
      "\n"
     ]
    },
    {
     "data": {
      "image/png": "[encoded data removed]",
      "text/plain": [
       "Plot with title \"ROC Curve\""
      ]
     },
     "metadata": {
      "image/png": {
       "height": 420,
       "width": 420
      }
     },
     "output_type": "display_data"
    }
   ],
   "source": [
    "library(pROC)\n",
    "\n",
    "# Predict probabilities for the original data\n",
    "df1Updated$predicted_probability <- predict(step_model2, newdata = df1Updated, type = \"response\")\n",
    "\n",
    "# Create the ROC curve\n",
    "roc_obj <- roc(df1Updated$Churn, df1Updated$predicted_probability)\n",
    "\n",
    "# Plot the ROC curve\n",
    "plot(roc_obj, print.auc = TRUE, print.auc.y = 0.2, grid = TRUE, grid.col = \"gray\", grid.lwd = 1, grid.nx = 10, grid.ny = 10, max.auc.polygon = TRUE, auc.polygon.col = \"lightblue\", main = \"ROC Curve\")"
   ]
  },
  {
   "cell_type": "code",
   "execution_count": null,
   "id": "fe4b48a1",
   "metadata": {},
   "outputs": [],
   "source": []
  }
 ],
 "metadata": {
  "kernelspec": {
   "display_name": "R",
   "language": "R",
   "name": "ir"
  },
  "language_info": {
   "codemirror_mode": "r",
   "file_extension": ".r",
   "mimetype": "text/x-r-source",
   "name": "R",
   "pygments_lexer": "r",
   "version": "4.1.3"
  }
 },
 "nbformat": 4,
 "nbformat_minor": 5
}
