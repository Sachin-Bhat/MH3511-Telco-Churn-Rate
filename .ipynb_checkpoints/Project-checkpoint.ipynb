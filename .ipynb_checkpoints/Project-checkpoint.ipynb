{
 "cells": [
  {
   "cell_type": "markdown",
   "id": "11924c39",
   "metadata": {},
   "source": [
    "# Introduction\n",
    "\n",
    "---\n",
    "\n",
    "Companies in the telecommunications (telco) industry that want to stay in business will need to address the churn rate. How can you make it smaller? Make better use of data, ensure efficient customer care, invest in new technologies, and create a memorable customer experience with a few strategies. The churn rate is something that affects all companies in the telco industry, where customer volatility is high. The churn rate affects more than just telecommunications companies. Instead, businesses of all sizes must retain as many customers as possible in order to maintain a stable, continuous, and high-quality relationship. Various strategies can be used to accomplish this, and digital solutions and innovations will undoubtedly play an important role.\n",
    "\n",
    "It is normal for any company doing business to gain and lose customers. Customers may discover you one day and become loyal customers over time; however, even customers who have been loyal to a brand for years may decide to switch to a competitor. In the telecom industry, the churn rate, or rate of customer abandonment, captures this phenomenon."
   ]
  },
  {
   "cell_type": "markdown",
   "id": "450ceed8",
   "metadata": {},
   "source": [
    "# Data Description\n",
    "\n",
    "---\n",
    "\n",
    "The data is taken from Kaggle, a large community-driven data-analysis platform. The datasets consisted of two spreadsheet documents, the first being the \"Telecom Company Call-Center-Dataset\" and the second being the \"Telecom Churn Rate Dataset\". Since our analysis specifically focuses on the churn rate of customers, we shall be using the second dataset.\n",
    "\n",
    "The following columns are contained in the dataset:\n",
    "\n",
    "- customerID: Customer ID\n",
    "- genderCustomer: customers's gender (female, male)\n",
    "- SeniorCitizen: Whether the customer is a senior citizen or not (1, 0)\n",
    "- PartnerWhether: the customer is married or not (Yes, No)\n",
    "- Dependents: Whether the customer has dependents (Yes, No)\n",
    "- tenure: Number of months the customer has stayed with the company\n",
    "- PhoneService: Whether the customer uses a phone service or not (Yes, No)\n",
    "- MultipleLines: Whether the customer uses multiple lines or not (Yes, No, No phone service)\n",
    "- InternetService: Customer’s ISP (DSL, Fiber optic, No)\n",
    "- OnlineSecurity: Whether the customer purchased online security (Yes, No, No internet service)\n",
    "- OnlineBackup: Whether the customer made an online backup (Yes, No, No internet service)\n",
    "- DeviceProtection: Whether the customer purchased device protection or not (Yes, No, No internet service)\n",
    "- TechSupport: Whether the customer has tech support or not (Yes, No, No internet service)\n",
    "- StreamingTV: Whether the customer streams TV or not (Yes, No, No internet service)\n",
    "- StreamingMovies: Whether the customer streams movies or not (Yes, No, No internet service)\n",
    "- Contract: The contract period of the customer (Month-to-month, One year, Two year)\n",
    "- PaperlessBilling: Whether the customer posses paperless billing or not (Yes, No)\n",
    "- PaymentMethod: The customer’s preferred payment method (Electronic check, Mailed check, Bank transfer (automatic), Credit card (automatic))\n",
    "- MonthlyCharges: The amount charged to the customer per month\n",
    "- TotalCharges: The total amount charged to the customer\n",
    "- numAdminTickets: The number of Admin Ticket\n",
    "- numTechTickets: The number of Tech Ticket\n",
    "- Churn: Whether the customer churned or not (Yes or No)"
   ]
  },
  {
   "cell_type": "markdown",
   "id": "2b887122",
   "metadata": {},
   "source": [
    "# Data Cleaning\n",
    "\n",
    "---\n",
    "\n",
    "## Install `readxl`\n",
    "\n",
    "---"
   ]
  },
  {
   "cell_type": "code",
   "execution_count": 1,
   "id": "d43de0e7",
   "metadata": {},
   "outputs": [
    {
     "name": "stderr",
     "output_type": "stream",
     "text": [
      "Updating HTML index of packages in '.Library'\n",
      "\n",
      "Making 'packages.html' ...\n",
      " done\n",
      "\n"
     ]
    }
   ],
   "source": [
    "install.packages(\"readxl\")"
   ]
  },
  {
   "cell_type": "code",
   "execution_count": 2,
   "id": "cc7a1532",
   "metadata": {},
   "outputs": [],
   "source": [
    "# Load readxl package\n",
    "library(\"readxl\")"
   ]
  },
  {
   "cell_type": "markdown",
   "id": "ac8e4654",
   "metadata": {},
   "source": [
    "## Load dataset"
   ]
  },
  {
   "cell_type": "code",
   "execution_count": 3,
   "id": "ac110a13",
   "metadata": {},
   "outputs": [],
   "source": [
    "df = read_excel(\"Telecom Churn Rate Dataset.xlsx\")"
   ]
  },
  {
   "cell_type": "markdown",
   "id": "ef3a72a9",
   "metadata": {},
   "source": [
    "## Data description"
   ]
  },
  {
   "cell_type": "code",
   "execution_count": 4,
   "id": "50af00c0",
   "metadata": {},
   "outputs": [
    {
     "name": "stdout",
     "output_type": "stream",
     "text": [
      "tibble [7,048 × 23] (S3: tbl_df/tbl/data.frame)\n",
      " $ customerID      : chr [1:7048] \"7590-VHVEG\" \"5575-GNVDE\" \"3668-QPYBK\" \"7795-CFOCW\" ...\n",
      " $ gender          : chr [1:7048] \"Female\" \"Male\" \"Male\" \"Male\" ...\n",
      " $ SeniorCitizen   : num [1:7048] 0 0 0 0 0 0 0 0 0 0 ...\n",
      " $ Partner         : chr [1:7048] \"Yes\" \"No\" \"No\" \"No\" ...\n",
      " $ Dependents      : chr [1:7048] \"No\" \"No\" \"No\" \"No\" ...\n",
      " $ tenure          : num [1:7048] 1 34 2 45 2 8 22 10 28 62 ...\n",
      " $ PhoneService    : chr [1:7048] \"No\" \"Yes\" \"Yes\" \"No\" ...\n",
      " $ MultipleLines   : chr [1:7048] \"No phone service\" \"No\" \"No\" \"No phone service\" ...\n",
      " $ InternetService : chr [1:7048] \"DSL\" \"DSL\" \"DSL\" \"DSL\" ...\n",
      " $ OnlineSecurity  : chr [1:7048] \"No\" \"Yes\" \"Yes\" \"Yes\" ...\n",
      " $ OnlineBackup    : chr [1:7048] \"Yes\" \"No\" \"Yes\" \"No\" ...\n",
      " $ DeviceProtection: chr [1:7048] \"No\" \"Yes\" \"No\" \"Yes\" ...\n",
      " $ TechSupport     : chr [1:7048] \"No\" \"No\" \"No\" \"Yes\" ...\n",
      " $ StreamingTV     : chr [1:7048] \"No\" \"No\" \"No\" \"No\" ...\n",
      " $ StreamingMovies : chr [1:7048] \"No\" \"No\" \"No\" \"No\" ...\n",
      " $ Contract        : chr [1:7048] \"Month-to-month\" \"One year\" \"Month-to-month\" \"One year\" ...\n",
      " $ PaperlessBilling: chr [1:7048] \"Yes\" \"No\" \"Yes\" \"No\" ...\n",
      " $ PaymentMethod   : chr [1:7048] \"Electronic check\" \"Mailed check\" \"Mailed check\" \"Bank transfer (automatic)\" ...\n",
      " $ MonthlyCharges  : num [1:7048] 29.9 57 53.9 42.3 70.7 ...\n",
      " $ TotalCharges    : num [1:7048] 29.9 1889.5 108.2 1840.8 151.7 ...\n",
      " $ numAdminTickets : num [1:7048] 0 0 0 0 0 0 0 0 0 0 ...\n",
      " $ numTechTickets  : num [1:7048] 0 0 0 3 0 0 0 0 2 0 ...\n",
      " $ Churn           : chr [1:7048] \"No\" \"No\" \"Yes\" \"No\" ...\n"
     ]
    }
   ],
   "source": [
    "str(df)"
   ]
  },
  {
   "cell_type": "markdown",
   "id": "28690227",
   "metadata": {},
   "source": [
    "> As can be seen from the above there are 23 columns and 7048 data entries."
   ]
  },
  {
   "cell_type": "code",
   "execution_count": 5,
   "id": "b23625c8",
   "metadata": {},
   "outputs": [
    {
     "data": {
      "text/html": [
       "<table class=\"dataframe\">\n",
       "<caption>A tibble: 10 × 23</caption>\n",
       "<thead>\n",
       "\t<tr><th scope=col>customerID</th><th scope=col>gender</th><th scope=col>SeniorCitizen</th><th scope=col>Partner</th><th scope=col>Dependents</th><th scope=col>tenure</th><th scope=col>PhoneService</th><th scope=col>MultipleLines</th><th scope=col>InternetService</th><th scope=col>OnlineSecurity</th><th scope=col>⋯</th><th scope=col>StreamingTV</th><th scope=col>StreamingMovies</th><th scope=col>Contract</th><th scope=col>PaperlessBilling</th><th scope=col>PaymentMethod</th><th scope=col>MonthlyCharges</th><th scope=col>TotalCharges</th><th scope=col>numAdminTickets</th><th scope=col>numTechTickets</th><th scope=col>Churn</th></tr>\n",
       "\t<tr><th scope=col>&lt;chr&gt;</th><th scope=col>&lt;chr&gt;</th><th scope=col>&lt;dbl&gt;</th><th scope=col>&lt;chr&gt;</th><th scope=col>&lt;chr&gt;</th><th scope=col>&lt;dbl&gt;</th><th scope=col>&lt;chr&gt;</th><th scope=col>&lt;chr&gt;</th><th scope=col>&lt;chr&gt;</th><th scope=col>&lt;chr&gt;</th><th scope=col>⋯</th><th scope=col>&lt;chr&gt;</th><th scope=col>&lt;chr&gt;</th><th scope=col>&lt;chr&gt;</th><th scope=col>&lt;chr&gt;</th><th scope=col>&lt;chr&gt;</th><th scope=col>&lt;dbl&gt;</th><th scope=col>&lt;dbl&gt;</th><th scope=col>&lt;dbl&gt;</th><th scope=col>&lt;dbl&gt;</th><th scope=col>&lt;chr&gt;</th></tr>\n",
       "</thead>\n",
       "<tbody>\n",
       "\t<tr><td>7590-VHVEG</td><td>Female</td><td>0</td><td>Yes</td><td>No </td><td> 1</td><td>No </td><td>No phone service</td><td>DSL        </td><td>No </td><td>⋯</td><td>No </td><td>No </td><td>Month-to-month</td><td>Yes</td><td>Electronic check         </td><td> 29.85</td><td>  29.85</td><td>0</td><td>0</td><td>No </td></tr>\n",
       "\t<tr><td>5575-GNVDE</td><td>Male  </td><td>0</td><td>No </td><td>No </td><td>34</td><td>Yes</td><td>No              </td><td>DSL        </td><td>Yes</td><td>⋯</td><td>No </td><td>No </td><td>One year      </td><td>No </td><td>Mailed check             </td><td> 56.95</td><td>1889.50</td><td>0</td><td>0</td><td>No </td></tr>\n",
       "\t<tr><td>3668-QPYBK</td><td>Male  </td><td>0</td><td>No </td><td>No </td><td> 2</td><td>Yes</td><td>No              </td><td>DSL        </td><td>Yes</td><td>⋯</td><td>No </td><td>No </td><td>Month-to-month</td><td>Yes</td><td>Mailed check             </td><td> 53.85</td><td> 108.15</td><td>0</td><td>0</td><td>Yes</td></tr>\n",
       "\t<tr><td>7795-CFOCW</td><td>Male  </td><td>0</td><td>No </td><td>No </td><td>45</td><td>No </td><td>No phone service</td><td>DSL        </td><td>Yes</td><td>⋯</td><td>No </td><td>No </td><td>One year      </td><td>No </td><td>Bank transfer (automatic)</td><td> 42.30</td><td>1840.75</td><td>0</td><td>3</td><td>No </td></tr>\n",
       "\t<tr><td>9237-HQITU</td><td>Female</td><td>0</td><td>No </td><td>No </td><td> 2</td><td>Yes</td><td>No              </td><td>Fiber optic</td><td>No </td><td>⋯</td><td>No </td><td>No </td><td>Month-to-month</td><td>Yes</td><td>Electronic check         </td><td> 70.70</td><td> 151.65</td><td>0</td><td>0</td><td>Yes</td></tr>\n",
       "\t<tr><td>9305-CDSKC</td><td>Female</td><td>0</td><td>No </td><td>No </td><td> 8</td><td>Yes</td><td>Yes             </td><td>Fiber optic</td><td>No </td><td>⋯</td><td>Yes</td><td>Yes</td><td>Month-to-month</td><td>Yes</td><td>Electronic check         </td><td> 99.65</td><td> 820.50</td><td>0</td><td>0</td><td>Yes</td></tr>\n",
       "\t<tr><td>1452-KIOVK</td><td>Male  </td><td>0</td><td>No </td><td>Yes</td><td>22</td><td>Yes</td><td>Yes             </td><td>Fiber optic</td><td>No </td><td>⋯</td><td>Yes</td><td>No </td><td>Month-to-month</td><td>Yes</td><td>Credit card (automatic)  </td><td> 89.10</td><td>1949.40</td><td>0</td><td>0</td><td>No </td></tr>\n",
       "\t<tr><td>6713-OKOMC</td><td>Female</td><td>0</td><td>No </td><td>No </td><td>10</td><td>No </td><td>No phone service</td><td>DSL        </td><td>Yes</td><td>⋯</td><td>No </td><td>No </td><td>Month-to-month</td><td>No </td><td>Mailed check             </td><td> 29.75</td><td> 301.90</td><td>0</td><td>0</td><td>No </td></tr>\n",
       "\t<tr><td>7892-POOKP</td><td>Female</td><td>0</td><td>Yes</td><td>No </td><td>28</td><td>Yes</td><td>Yes             </td><td>Fiber optic</td><td>No </td><td>⋯</td><td>Yes</td><td>Yes</td><td>Month-to-month</td><td>Yes</td><td>Electronic check         </td><td>104.80</td><td>3046.05</td><td>0</td><td>2</td><td>Yes</td></tr>\n",
       "\t<tr><td>6388-TABGU</td><td>Male  </td><td>0</td><td>No </td><td>Yes</td><td>62</td><td>Yes</td><td>No              </td><td>DSL        </td><td>Yes</td><td>⋯</td><td>No </td><td>No </td><td>One year      </td><td>No </td><td>Bank transfer (automatic)</td><td> 56.15</td><td>3487.95</td><td>0</td><td>0</td><td>No </td></tr>\n",
       "</tbody>\n",
       "</table>\n"
      ],
      "text/latex": [
       "A tibble: 10 × 23\n",
       "\\begin{tabular}{lllllllllllllllllllll}\n",
       " customerID & gender & SeniorCitizen & Partner & Dependents & tenure & PhoneService & MultipleLines & InternetService & OnlineSecurity & ⋯ & StreamingTV & StreamingMovies & Contract & PaperlessBilling & PaymentMethod & MonthlyCharges & TotalCharges & numAdminTickets & numTechTickets & Churn\\\\\n",
       " <chr> & <chr> & <dbl> & <chr> & <chr> & <dbl> & <chr> & <chr> & <chr> & <chr> & ⋯ & <chr> & <chr> & <chr> & <chr> & <chr> & <dbl> & <dbl> & <dbl> & <dbl> & <chr>\\\\\n",
       "\\hline\n",
       "\t 7590-VHVEG & Female & 0 & Yes & No  &  1 & No  & No phone service & DSL         & No  & ⋯ & No  & No  & Month-to-month & Yes & Electronic check          &  29.85 &   29.85 & 0 & 0 & No \\\\\n",
       "\t 5575-GNVDE & Male   & 0 & No  & No  & 34 & Yes & No               & DSL         & Yes & ⋯ & No  & No  & One year       & No  & Mailed check              &  56.95 & 1889.50 & 0 & 0 & No \\\\\n",
       "\t 3668-QPYBK & Male   & 0 & No  & No  &  2 & Yes & No               & DSL         & Yes & ⋯ & No  & No  & Month-to-month & Yes & Mailed check              &  53.85 &  108.15 & 0 & 0 & Yes\\\\\n",
       "\t 7795-CFOCW & Male   & 0 & No  & No  & 45 & No  & No phone service & DSL         & Yes & ⋯ & No  & No  & One year       & No  & Bank transfer (automatic) &  42.30 & 1840.75 & 0 & 3 & No \\\\\n",
       "\t 9237-HQITU & Female & 0 & No  & No  &  2 & Yes & No               & Fiber optic & No  & ⋯ & No  & No  & Month-to-month & Yes & Electronic check          &  70.70 &  151.65 & 0 & 0 & Yes\\\\\n",
       "\t 9305-CDSKC & Female & 0 & No  & No  &  8 & Yes & Yes              & Fiber optic & No  & ⋯ & Yes & Yes & Month-to-month & Yes & Electronic check          &  99.65 &  820.50 & 0 & 0 & Yes\\\\\n",
       "\t 1452-KIOVK & Male   & 0 & No  & Yes & 22 & Yes & Yes              & Fiber optic & No  & ⋯ & Yes & No  & Month-to-month & Yes & Credit card (automatic)   &  89.10 & 1949.40 & 0 & 0 & No \\\\\n",
       "\t 6713-OKOMC & Female & 0 & No  & No  & 10 & No  & No phone service & DSL         & Yes & ⋯ & No  & No  & Month-to-month & No  & Mailed check              &  29.75 &  301.90 & 0 & 0 & No \\\\\n",
       "\t 7892-POOKP & Female & 0 & Yes & No  & 28 & Yes & Yes              & Fiber optic & No  & ⋯ & Yes & Yes & Month-to-month & Yes & Electronic check          & 104.80 & 3046.05 & 0 & 2 & Yes\\\\\n",
       "\t 6388-TABGU & Male   & 0 & No  & Yes & 62 & Yes & No               & DSL         & Yes & ⋯ & No  & No  & One year       & No  & Bank transfer (automatic) &  56.15 & 3487.95 & 0 & 0 & No \\\\\n",
       "\\end{tabular}\n"
      ],
      "text/markdown": [
       "\n",
       "A tibble: 10 × 23\n",
       "\n",
       "| customerID &lt;chr&gt; | gender &lt;chr&gt; | SeniorCitizen &lt;dbl&gt; | Partner &lt;chr&gt; | Dependents &lt;chr&gt; | tenure &lt;dbl&gt; | PhoneService &lt;chr&gt; | MultipleLines &lt;chr&gt; | InternetService &lt;chr&gt; | OnlineSecurity &lt;chr&gt; | ⋯ ⋯ | StreamingTV &lt;chr&gt; | StreamingMovies &lt;chr&gt; | Contract &lt;chr&gt; | PaperlessBilling &lt;chr&gt; | PaymentMethod &lt;chr&gt; | MonthlyCharges &lt;dbl&gt; | TotalCharges &lt;dbl&gt; | numAdminTickets &lt;dbl&gt; | numTechTickets &lt;dbl&gt; | Churn &lt;chr&gt; |\n",
       "|---|---|---|---|---|---|---|---|---|---|---|---|---|---|---|---|---|---|---|---|---|\n",
       "| 7590-VHVEG | Female | 0 | Yes | No  |  1 | No  | No phone service | DSL         | No  | ⋯ | No  | No  | Month-to-month | Yes | Electronic check          |  29.85 |   29.85 | 0 | 0 | No  |\n",
       "| 5575-GNVDE | Male   | 0 | No  | No  | 34 | Yes | No               | DSL         | Yes | ⋯ | No  | No  | One year       | No  | Mailed check              |  56.95 | 1889.50 | 0 | 0 | No  |\n",
       "| 3668-QPYBK | Male   | 0 | No  | No  |  2 | Yes | No               | DSL         | Yes | ⋯ | No  | No  | Month-to-month | Yes | Mailed check              |  53.85 |  108.15 | 0 | 0 | Yes |\n",
       "| 7795-CFOCW | Male   | 0 | No  | No  | 45 | No  | No phone service | DSL         | Yes | ⋯ | No  | No  | One year       | No  | Bank transfer (automatic) |  42.30 | 1840.75 | 0 | 3 | No  |\n",
       "| 9237-HQITU | Female | 0 | No  | No  |  2 | Yes | No               | Fiber optic | No  | ⋯ | No  | No  | Month-to-month | Yes | Electronic check          |  70.70 |  151.65 | 0 | 0 | Yes |\n",
       "| 9305-CDSKC | Female | 0 | No  | No  |  8 | Yes | Yes              | Fiber optic | No  | ⋯ | Yes | Yes | Month-to-month | Yes | Electronic check          |  99.65 |  820.50 | 0 | 0 | Yes |\n",
       "| 1452-KIOVK | Male   | 0 | No  | Yes | 22 | Yes | Yes              | Fiber optic | No  | ⋯ | Yes | No  | Month-to-month | Yes | Credit card (automatic)   |  89.10 | 1949.40 | 0 | 0 | No  |\n",
       "| 6713-OKOMC | Female | 0 | No  | No  | 10 | No  | No phone service | DSL         | Yes | ⋯ | No  | No  | Month-to-month | No  | Mailed check              |  29.75 |  301.90 | 0 | 0 | No  |\n",
       "| 7892-POOKP | Female | 0 | Yes | No  | 28 | Yes | Yes              | Fiber optic | No  | ⋯ | Yes | Yes | Month-to-month | Yes | Electronic check          | 104.80 | 3046.05 | 0 | 2 | Yes |\n",
       "| 6388-TABGU | Male   | 0 | No  | Yes | 62 | Yes | No               | DSL         | Yes | ⋯ | No  | No  | One year       | No  | Bank transfer (automatic) |  56.15 | 3487.95 | 0 | 0 | No  |\n",
       "\n"
      ],
      "text/plain": [
       "   customerID gender SeniorCitizen Partner Dependents tenure PhoneService\n",
       "1  7590-VHVEG Female 0             Yes     No          1     No          \n",
       "2  5575-GNVDE Male   0             No      No         34     Yes         \n",
       "3  3668-QPYBK Male   0             No      No          2     Yes         \n",
       "4  7795-CFOCW Male   0             No      No         45     No          \n",
       "5  9237-HQITU Female 0             No      No          2     Yes         \n",
       "6  9305-CDSKC Female 0             No      No          8     Yes         \n",
       "7  1452-KIOVK Male   0             No      Yes        22     Yes         \n",
       "8  6713-OKOMC Female 0             No      No         10     No          \n",
       "9  7892-POOKP Female 0             Yes     No         28     Yes         \n",
       "10 6388-TABGU Male   0             No      Yes        62     Yes         \n",
       "   MultipleLines    InternetService OnlineSecurity ⋯ StreamingTV\n",
       "1  No phone service DSL             No             ⋯ No         \n",
       "2  No               DSL             Yes            ⋯ No         \n",
       "3  No               DSL             Yes            ⋯ No         \n",
       "4  No phone service DSL             Yes            ⋯ No         \n",
       "5  No               Fiber optic     No             ⋯ No         \n",
       "6  Yes              Fiber optic     No             ⋯ Yes        \n",
       "7  Yes              Fiber optic     No             ⋯ Yes        \n",
       "8  No phone service DSL             Yes            ⋯ No         \n",
       "9  Yes              Fiber optic     No             ⋯ Yes        \n",
       "10 No               DSL             Yes            ⋯ No         \n",
       "   StreamingMovies Contract       PaperlessBilling PaymentMethod            \n",
       "1  No              Month-to-month Yes              Electronic check         \n",
       "2  No              One year       No               Mailed check             \n",
       "3  No              Month-to-month Yes              Mailed check             \n",
       "4  No              One year       No               Bank transfer (automatic)\n",
       "5  No              Month-to-month Yes              Electronic check         \n",
       "6  Yes             Month-to-month Yes              Electronic check         \n",
       "7  No              Month-to-month Yes              Credit card (automatic)  \n",
       "8  No              Month-to-month No               Mailed check             \n",
       "9  Yes             Month-to-month Yes              Electronic check         \n",
       "10 No              One year       No               Bank transfer (automatic)\n",
       "   MonthlyCharges TotalCharges numAdminTickets numTechTickets Churn\n",
       "1   29.85           29.85      0               0              No   \n",
       "2   56.95         1889.50      0               0              No   \n",
       "3   53.85          108.15      0               0              Yes  \n",
       "4   42.30         1840.75      0               3              No   \n",
       "5   70.70          151.65      0               0              Yes  \n",
       "6   99.65          820.50      0               0              Yes  \n",
       "7   89.10         1949.40      0               0              No   \n",
       "8   29.75          301.90      0               0              No   \n",
       "9  104.80         3046.05      0               2              Yes  \n",
       "10  56.15         3487.95      0               0              No   "
      ]
     },
     "metadata": {},
     "output_type": "display_data"
    }
   ],
   "source": [
    "head(df, 10)"
   ]
  },
  {
   "cell_type": "markdown",
   "id": "f6bd3ac4",
   "metadata": {},
   "source": [
    "> These are the first 10 data entries. It can be noticed that there seem to be a lot of categorical data items and multiple states have been reflected in their first few entries."
   ]
  },
  {
   "cell_type": "markdown",
   "id": "b9a28d56",
   "metadata": {},
   "source": [
    "## Data preprocessing\n",
    "\n",
    "---\n",
    "\n",
    "Step 1: ' ' in 'TotalCharges'. So we have to drop ' ' to convert 'TotalCharges' to numerical."
   ]
  },
  {
   "cell_type": "code",
   "execution_count": 6,
   "id": "75a9285e",
   "metadata": {},
   "outputs": [
    {
     "data": {
      "text/html": [
       "<table class=\"dataframe\">\n",
       "<caption>A tibble: 11 × 23</caption>\n",
       "<thead>\n",
       "\t<tr><th scope=col>customerID</th><th scope=col>gender</th><th scope=col>SeniorCitizen</th><th scope=col>Partner</th><th scope=col>Dependents</th><th scope=col>tenure</th><th scope=col>PhoneService</th><th scope=col>MultipleLines</th><th scope=col>InternetService</th><th scope=col>OnlineSecurity</th><th scope=col>⋯</th><th scope=col>StreamingTV</th><th scope=col>StreamingMovies</th><th scope=col>Contract</th><th scope=col>PaperlessBilling</th><th scope=col>PaymentMethod</th><th scope=col>MonthlyCharges</th><th scope=col>TotalCharges</th><th scope=col>numAdminTickets</th><th scope=col>numTechTickets</th><th scope=col>Churn</th></tr>\n",
       "\t<tr><th scope=col>&lt;chr&gt;</th><th scope=col>&lt;chr&gt;</th><th scope=col>&lt;dbl&gt;</th><th scope=col>&lt;chr&gt;</th><th scope=col>&lt;chr&gt;</th><th scope=col>&lt;dbl&gt;</th><th scope=col>&lt;chr&gt;</th><th scope=col>&lt;chr&gt;</th><th scope=col>&lt;chr&gt;</th><th scope=col>&lt;chr&gt;</th><th scope=col>⋯</th><th scope=col>&lt;chr&gt;</th><th scope=col>&lt;chr&gt;</th><th scope=col>&lt;chr&gt;</th><th scope=col>&lt;chr&gt;</th><th scope=col>&lt;chr&gt;</th><th scope=col>&lt;dbl&gt;</th><th scope=col>&lt;dbl&gt;</th><th scope=col>&lt;dbl&gt;</th><th scope=col>&lt;dbl&gt;</th><th scope=col>&lt;chr&gt;</th></tr>\n",
       "</thead>\n",
       "<tbody>\n",
       "\t<tr><td>4472-LVYGI</td><td>Female</td><td>0</td><td>Yes</td><td>Yes</td><td>0</td><td>No </td><td>No phone service</td><td>DSL</td><td>Yes                </td><td>⋯</td><td>Yes                </td><td>No                 </td><td>Two year</td><td>Yes</td><td>Bank transfer (automatic)</td><td>52.55</td><td>NA</td><td>0</td><td>0</td><td>No</td></tr>\n",
       "\t<tr><td>3115-CZMZD</td><td>Male  </td><td>0</td><td>No </td><td>Yes</td><td>0</td><td>Yes</td><td>No              </td><td>No </td><td>No internet service</td><td>⋯</td><td>No internet service</td><td>No internet service</td><td>Two year</td><td>No </td><td>Mailed check             </td><td>20.25</td><td>NA</td><td>5</td><td>0</td><td>No</td></tr>\n",
       "\t<tr><td>5709-LVOEQ</td><td>Female</td><td>0</td><td>Yes</td><td>Yes</td><td>0</td><td>Yes</td><td>No              </td><td>DSL</td><td>Yes                </td><td>⋯</td><td>Yes                </td><td>Yes                </td><td>Two year</td><td>No </td><td>Mailed check             </td><td>80.85</td><td>NA</td><td>0</td><td>0</td><td>No</td></tr>\n",
       "\t<tr><td>4367-NUYAO</td><td>Male  </td><td>0</td><td>Yes</td><td>Yes</td><td>0</td><td>Yes</td><td>Yes             </td><td>No </td><td>No internet service</td><td>⋯</td><td>No internet service</td><td>No internet service</td><td>Two year</td><td>No </td><td>Mailed check             </td><td>25.75</td><td>NA</td><td>1</td><td>0</td><td>No</td></tr>\n",
       "\t<tr><td>1371-DWPAZ</td><td>Female</td><td>0</td><td>Yes</td><td>Yes</td><td>0</td><td>No </td><td>No phone service</td><td>DSL</td><td>Yes                </td><td>⋯</td><td>Yes                </td><td>No                 </td><td>Two year</td><td>No </td><td>Credit card (automatic)  </td><td>56.05</td><td>NA</td><td>0</td><td>0</td><td>No</td></tr>\n",
       "\t<tr><td>7644-OMVMY</td><td>Male  </td><td>0</td><td>Yes</td><td>Yes</td><td>0</td><td>Yes</td><td>No              </td><td>No </td><td>No internet service</td><td>⋯</td><td>No internet service</td><td>No internet service</td><td>Two year</td><td>No </td><td>Mailed check             </td><td>19.85</td><td>NA</td><td>0</td><td>0</td><td>No</td></tr>\n",
       "\t<tr><td>3213-VVOLG</td><td>Male  </td><td>0</td><td>Yes</td><td>Yes</td><td>0</td><td>Yes</td><td>Yes             </td><td>No </td><td>No internet service</td><td>⋯</td><td>No internet service</td><td>No internet service</td><td>Two year</td><td>No </td><td>Mailed check             </td><td>25.35</td><td>NA</td><td>0</td><td>0</td><td>No</td></tr>\n",
       "\t<tr><td>2520-SGTTA</td><td>Female</td><td>0</td><td>Yes</td><td>Yes</td><td>0</td><td>Yes</td><td>No              </td><td>No </td><td>No internet service</td><td>⋯</td><td>No internet service</td><td>No internet service</td><td>Two year</td><td>No </td><td>Mailed check             </td><td>20.00</td><td>NA</td><td>5</td><td>0</td><td>No</td></tr>\n",
       "\t<tr><td>2923-ARZLG</td><td>Male  </td><td>0</td><td>Yes</td><td>Yes</td><td>0</td><td>Yes</td><td>No              </td><td>No </td><td>No internet service</td><td>⋯</td><td>No internet service</td><td>No internet service</td><td>One year</td><td>Yes</td><td>Mailed check             </td><td>19.70</td><td>NA</td><td>0</td><td>0</td><td>No</td></tr>\n",
       "\t<tr><td>4075-WKNIU</td><td>Female</td><td>0</td><td>Yes</td><td>Yes</td><td>0</td><td>Yes</td><td>Yes             </td><td>DSL</td><td>No                 </td><td>⋯</td><td>Yes                </td><td>No                 </td><td>Two year</td><td>No </td><td>Mailed check             </td><td>73.35</td><td>NA</td><td>0</td><td>0</td><td>No</td></tr>\n",
       "\t<tr><td>2775-SEFEE</td><td>Male  </td><td>0</td><td>No </td><td>Yes</td><td>0</td><td>Yes</td><td>Yes             </td><td>DSL</td><td>Yes                </td><td>⋯</td><td>No                 </td><td>No                 </td><td>Two year</td><td>Yes</td><td>Bank transfer (automatic)</td><td>61.90</td><td>NA</td><td>0</td><td>0</td><td>No</td></tr>\n",
       "</tbody>\n",
       "</table>\n"
      ],
      "text/latex": [
       "A tibble: 11 × 23\n",
       "\\begin{tabular}{lllllllllllllllllllll}\n",
       " customerID & gender & SeniorCitizen & Partner & Dependents & tenure & PhoneService & MultipleLines & InternetService & OnlineSecurity & ⋯ & StreamingTV & StreamingMovies & Contract & PaperlessBilling & PaymentMethod & MonthlyCharges & TotalCharges & numAdminTickets & numTechTickets & Churn\\\\\n",
       " <chr> & <chr> & <dbl> & <chr> & <chr> & <dbl> & <chr> & <chr> & <chr> & <chr> & ⋯ & <chr> & <chr> & <chr> & <chr> & <chr> & <dbl> & <dbl> & <dbl> & <dbl> & <chr>\\\\\n",
       "\\hline\n",
       "\t 4472-LVYGI & Female & 0 & Yes & Yes & 0 & No  & No phone service & DSL & Yes                 & ⋯ & Yes                 & No                  & Two year & Yes & Bank transfer (automatic) & 52.55 & NA & 0 & 0 & No\\\\\n",
       "\t 3115-CZMZD & Male   & 0 & No  & Yes & 0 & Yes & No               & No  & No internet service & ⋯ & No internet service & No internet service & Two year & No  & Mailed check              & 20.25 & NA & 5 & 0 & No\\\\\n",
       "\t 5709-LVOEQ & Female & 0 & Yes & Yes & 0 & Yes & No               & DSL & Yes                 & ⋯ & Yes                 & Yes                 & Two year & No  & Mailed check              & 80.85 & NA & 0 & 0 & No\\\\\n",
       "\t 4367-NUYAO & Male   & 0 & Yes & Yes & 0 & Yes & Yes              & No  & No internet service & ⋯ & No internet service & No internet service & Two year & No  & Mailed check              & 25.75 & NA & 1 & 0 & No\\\\\n",
       "\t 1371-DWPAZ & Female & 0 & Yes & Yes & 0 & No  & No phone service & DSL & Yes                 & ⋯ & Yes                 & No                  & Two year & No  & Credit card (automatic)   & 56.05 & NA & 0 & 0 & No\\\\\n",
       "\t 7644-OMVMY & Male   & 0 & Yes & Yes & 0 & Yes & No               & No  & No internet service & ⋯ & No internet service & No internet service & Two year & No  & Mailed check              & 19.85 & NA & 0 & 0 & No\\\\\n",
       "\t 3213-VVOLG & Male   & 0 & Yes & Yes & 0 & Yes & Yes              & No  & No internet service & ⋯ & No internet service & No internet service & Two year & No  & Mailed check              & 25.35 & NA & 0 & 0 & No\\\\\n",
       "\t 2520-SGTTA & Female & 0 & Yes & Yes & 0 & Yes & No               & No  & No internet service & ⋯ & No internet service & No internet service & Two year & No  & Mailed check              & 20.00 & NA & 5 & 0 & No\\\\\n",
       "\t 2923-ARZLG & Male   & 0 & Yes & Yes & 0 & Yes & No               & No  & No internet service & ⋯ & No internet service & No internet service & One year & Yes & Mailed check              & 19.70 & NA & 0 & 0 & No\\\\\n",
       "\t 4075-WKNIU & Female & 0 & Yes & Yes & 0 & Yes & Yes              & DSL & No                  & ⋯ & Yes                 & No                  & Two year & No  & Mailed check              & 73.35 & NA & 0 & 0 & No\\\\\n",
       "\t 2775-SEFEE & Male   & 0 & No  & Yes & 0 & Yes & Yes              & DSL & Yes                 & ⋯ & No                  & No                  & Two year & Yes & Bank transfer (automatic) & 61.90 & NA & 0 & 0 & No\\\\\n",
       "\\end{tabular}\n"
      ],
      "text/markdown": [
       "\n",
       "A tibble: 11 × 23\n",
       "\n",
       "| customerID &lt;chr&gt; | gender &lt;chr&gt; | SeniorCitizen &lt;dbl&gt; | Partner &lt;chr&gt; | Dependents &lt;chr&gt; | tenure &lt;dbl&gt; | PhoneService &lt;chr&gt; | MultipleLines &lt;chr&gt; | InternetService &lt;chr&gt; | OnlineSecurity &lt;chr&gt; | ⋯ ⋯ | StreamingTV &lt;chr&gt; | StreamingMovies &lt;chr&gt; | Contract &lt;chr&gt; | PaperlessBilling &lt;chr&gt; | PaymentMethod &lt;chr&gt; | MonthlyCharges &lt;dbl&gt; | TotalCharges &lt;dbl&gt; | numAdminTickets &lt;dbl&gt; | numTechTickets &lt;dbl&gt; | Churn &lt;chr&gt; |\n",
       "|---|---|---|---|---|---|---|---|---|---|---|---|---|---|---|---|---|---|---|---|---|\n",
       "| 4472-LVYGI | Female | 0 | Yes | Yes | 0 | No  | No phone service | DSL | Yes                 | ⋯ | Yes                 | No                  | Two year | Yes | Bank transfer (automatic) | 52.55 | NA | 0 | 0 | No |\n",
       "| 3115-CZMZD | Male   | 0 | No  | Yes | 0 | Yes | No               | No  | No internet service | ⋯ | No internet service | No internet service | Two year | No  | Mailed check              | 20.25 | NA | 5 | 0 | No |\n",
       "| 5709-LVOEQ | Female | 0 | Yes | Yes | 0 | Yes | No               | DSL | Yes                 | ⋯ | Yes                 | Yes                 | Two year | No  | Mailed check              | 80.85 | NA | 0 | 0 | No |\n",
       "| 4367-NUYAO | Male   | 0 | Yes | Yes | 0 | Yes | Yes              | No  | No internet service | ⋯ | No internet service | No internet service | Two year | No  | Mailed check              | 25.75 | NA | 1 | 0 | No |\n",
       "| 1371-DWPAZ | Female | 0 | Yes | Yes | 0 | No  | No phone service | DSL | Yes                 | ⋯ | Yes                 | No                  | Two year | No  | Credit card (automatic)   | 56.05 | NA | 0 | 0 | No |\n",
       "| 7644-OMVMY | Male   | 0 | Yes | Yes | 0 | Yes | No               | No  | No internet service | ⋯ | No internet service | No internet service | Two year | No  | Mailed check              | 19.85 | NA | 0 | 0 | No |\n",
       "| 3213-VVOLG | Male   | 0 | Yes | Yes | 0 | Yes | Yes              | No  | No internet service | ⋯ | No internet service | No internet service | Two year | No  | Mailed check              | 25.35 | NA | 0 | 0 | No |\n",
       "| 2520-SGTTA | Female | 0 | Yes | Yes | 0 | Yes | No               | No  | No internet service | ⋯ | No internet service | No internet service | Two year | No  | Mailed check              | 20.00 | NA | 5 | 0 | No |\n",
       "| 2923-ARZLG | Male   | 0 | Yes | Yes | 0 | Yes | No               | No  | No internet service | ⋯ | No internet service | No internet service | One year | Yes | Mailed check              | 19.70 | NA | 0 | 0 | No |\n",
       "| 4075-WKNIU | Female | 0 | Yes | Yes | 0 | Yes | Yes              | DSL | No                  | ⋯ | Yes                 | No                  | Two year | No  | Mailed check              | 73.35 | NA | 0 | 0 | No |\n",
       "| 2775-SEFEE | Male   | 0 | No  | Yes | 0 | Yes | Yes              | DSL | Yes                 | ⋯ | No                  | No                  | Two year | Yes | Bank transfer (automatic) | 61.90 | NA | 0 | 0 | No |\n",
       "\n"
      ],
      "text/plain": [
       "   customerID gender SeniorCitizen Partner Dependents tenure PhoneService\n",
       "1  4472-LVYGI Female 0             Yes     Yes        0      No          \n",
       "2  3115-CZMZD Male   0             No      Yes        0      Yes         \n",
       "3  5709-LVOEQ Female 0             Yes     Yes        0      Yes         \n",
       "4  4367-NUYAO Male   0             Yes     Yes        0      Yes         \n",
       "5  1371-DWPAZ Female 0             Yes     Yes        0      No          \n",
       "6  7644-OMVMY Male   0             Yes     Yes        0      Yes         \n",
       "7  3213-VVOLG Male   0             Yes     Yes        0      Yes         \n",
       "8  2520-SGTTA Female 0             Yes     Yes        0      Yes         \n",
       "9  2923-ARZLG Male   0             Yes     Yes        0      Yes         \n",
       "10 4075-WKNIU Female 0             Yes     Yes        0      Yes         \n",
       "11 2775-SEFEE Male   0             No      Yes        0      Yes         \n",
       "   MultipleLines    InternetService OnlineSecurity      ⋯ StreamingTV        \n",
       "1  No phone service DSL             Yes                 ⋯ Yes                \n",
       "2  No               No              No internet service ⋯ No internet service\n",
       "3  No               DSL             Yes                 ⋯ Yes                \n",
       "4  Yes              No              No internet service ⋯ No internet service\n",
       "5  No phone service DSL             Yes                 ⋯ Yes                \n",
       "6  No               No              No internet service ⋯ No internet service\n",
       "7  Yes              No              No internet service ⋯ No internet service\n",
       "8  No               No              No internet service ⋯ No internet service\n",
       "9  No               No              No internet service ⋯ No internet service\n",
       "10 Yes              DSL             No                  ⋯ Yes                \n",
       "11 Yes              DSL             Yes                 ⋯ No                 \n",
       "   StreamingMovies     Contract PaperlessBilling PaymentMethod            \n",
       "1  No                  Two year Yes              Bank transfer (automatic)\n",
       "2  No internet service Two year No               Mailed check             \n",
       "3  Yes                 Two year No               Mailed check             \n",
       "4  No internet service Two year No               Mailed check             \n",
       "5  No                  Two year No               Credit card (automatic)  \n",
       "6  No internet service Two year No               Mailed check             \n",
       "7  No internet service Two year No               Mailed check             \n",
       "8  No internet service Two year No               Mailed check             \n",
       "9  No internet service One year Yes              Mailed check             \n",
       "10 No                  Two year No               Mailed check             \n",
       "11 No                  Two year Yes              Bank transfer (automatic)\n",
       "   MonthlyCharges TotalCharges numAdminTickets numTechTickets Churn\n",
       "1  52.55          NA           0               0              No   \n",
       "2  20.25          NA           5               0              No   \n",
       "3  80.85          NA           0               0              No   \n",
       "4  25.75          NA           1               0              No   \n",
       "5  56.05          NA           0               0              No   \n",
       "6  19.85          NA           0               0              No   \n",
       "7  25.35          NA           0               0              No   \n",
       "8  20.00          NA           5               0              No   \n",
       "9  19.70          NA           0               0              No   \n",
       "10 73.35          NA           0               0              No   \n",
       "11 61.90          NA           0               0              No   "
      ]
     },
     "metadata": {},
     "output_type": "display_data"
    }
   ],
   "source": [
    "df[is.na(df$TotalCharges),]"
   ]
  },
  {
   "cell_type": "markdown",
   "id": "695cf6f5",
   "metadata": {},
   "source": [
    "> The above data show row entries with NA values in `TotalCharges`"
   ]
  },
  {
   "cell_type": "code",
   "execution_count": 7,
   "id": "1e017f41",
   "metadata": {},
   "outputs": [],
   "source": [
    "df <- na.omit(df)"
   ]
  },
  {
   "cell_type": "markdown",
   "id": "d24c846b",
   "metadata": {},
   "source": [
    "Step 2: Checking for the number of duplicated entries (and dropping them if found)."
   ]
  },
  {
   "cell_type": "code",
   "execution_count": 8,
   "id": "02cdeee8",
   "metadata": {},
   "outputs": [
    {
     "name": "stdout",
     "output_type": "stream",
     "text": [
      "[1] \"No. of duplicate entries:\"\n"
     ]
    },
    {
     "data": {
      "text/html": [
       "5"
      ],
      "text/latex": [
       "5"
      ],
      "text/markdown": [
       "5"
      ],
      "text/plain": [
       "[1] 5"
      ]
     },
     "metadata": {},
     "output_type": "display_data"
    }
   ],
   "source": [
    "print(\"No. of duplicate entries:\");\n",
    "sum(duplicated(df))"
   ]
  },
  {
   "cell_type": "code",
   "execution_count": 9,
   "id": "6e505bcc",
   "metadata": {},
   "outputs": [
    {
     "data": {
      "text/html": [
       "<table class=\"dataframe\">\n",
       "<caption>A tibble: 5 × 23</caption>\n",
       "<thead>\n",
       "\t<tr><th scope=col>customerID</th><th scope=col>gender</th><th scope=col>SeniorCitizen</th><th scope=col>Partner</th><th scope=col>Dependents</th><th scope=col>tenure</th><th scope=col>PhoneService</th><th scope=col>MultipleLines</th><th scope=col>InternetService</th><th scope=col>OnlineSecurity</th><th scope=col>⋯</th><th scope=col>StreamingTV</th><th scope=col>StreamingMovies</th><th scope=col>Contract</th><th scope=col>PaperlessBilling</th><th scope=col>PaymentMethod</th><th scope=col>MonthlyCharges</th><th scope=col>TotalCharges</th><th scope=col>numAdminTickets</th><th scope=col>numTechTickets</th><th scope=col>Churn</th></tr>\n",
       "\t<tr><th scope=col>&lt;chr&gt;</th><th scope=col>&lt;chr&gt;</th><th scope=col>&lt;dbl&gt;</th><th scope=col>&lt;chr&gt;</th><th scope=col>&lt;chr&gt;</th><th scope=col>&lt;dbl&gt;</th><th scope=col>&lt;chr&gt;</th><th scope=col>&lt;chr&gt;</th><th scope=col>&lt;chr&gt;</th><th scope=col>&lt;chr&gt;</th><th scope=col>⋯</th><th scope=col>&lt;chr&gt;</th><th scope=col>&lt;chr&gt;</th><th scope=col>&lt;chr&gt;</th><th scope=col>&lt;chr&gt;</th><th scope=col>&lt;chr&gt;</th><th scope=col>&lt;dbl&gt;</th><th scope=col>&lt;dbl&gt;</th><th scope=col>&lt;dbl&gt;</th><th scope=col>&lt;dbl&gt;</th><th scope=col>&lt;chr&gt;</th></tr>\n",
       "</thead>\n",
       "<tbody>\n",
       "\t<tr><td>2254-DLXRI</td><td>Female</td><td>0</td><td>No </td><td>No</td><td> 1</td><td>Yes</td><td>Yes</td><td>Fiber optic</td><td>No                 </td><td>⋯</td><td>No                 </td><td>No                 </td><td>Month-to-month</td><td>Yes</td><td>Mailed check           </td><td> 79.15</td><td>  79.15</td><td>5</td><td>0</td><td>No </td></tr>\n",
       "\t<tr><td>2121-JAFOM</td><td>Female</td><td>0</td><td>Yes</td><td>No</td><td>72</td><td>Yes</td><td>Yes</td><td>Fiber optic</td><td>Yes                </td><td>⋯</td><td>Yes                </td><td>Yes                </td><td>Two year      </td><td>Yes</td><td>Credit card (automatic)</td><td>115.55</td><td>8312.40</td><td>0</td><td>0</td><td>No </td></tr>\n",
       "\t<tr><td>0380-ZCSBI</td><td>Male  </td><td>0</td><td>No </td><td>No</td><td>10</td><td>Yes</td><td>No </td><td>No         </td><td>No internet service</td><td>⋯</td><td>No internet service</td><td>No internet service</td><td>Month-to-month</td><td>No </td><td>Credit card (automatic)</td><td> 20.00</td><td> 198.70</td><td>0</td><td>0</td><td>No </td></tr>\n",
       "\t<tr><td>6894-LFHLY</td><td>Male  </td><td>1</td><td>No </td><td>No</td><td> 1</td><td>Yes</td><td>Yes</td><td>Fiber optic</td><td>No                 </td><td>⋯</td><td>No                 </td><td>No                 </td><td>Month-to-month</td><td>Yes</td><td>Electronic check       </td><td> 75.75</td><td>  75.75</td><td>0</td><td>0</td><td>Yes</td></tr>\n",
       "\t<tr><td>6583-QGCSI</td><td>Female</td><td>1</td><td>Yes</td><td>No</td><td>50</td><td>Yes</td><td>Yes</td><td>Fiber optic</td><td>No                 </td><td>⋯</td><td>Yes                </td><td>No                 </td><td>Month-to-month</td><td>Yes</td><td>Electronic check       </td><td> 88.05</td><td>4367.35</td><td>0</td><td>5</td><td>Yes</td></tr>\n",
       "</tbody>\n",
       "</table>\n"
      ],
      "text/latex": [
       "A tibble: 5 × 23\n",
       "\\begin{tabular}{lllllllllllllllllllll}\n",
       " customerID & gender & SeniorCitizen & Partner & Dependents & tenure & PhoneService & MultipleLines & InternetService & OnlineSecurity & ⋯ & StreamingTV & StreamingMovies & Contract & PaperlessBilling & PaymentMethod & MonthlyCharges & TotalCharges & numAdminTickets & numTechTickets & Churn\\\\\n",
       " <chr> & <chr> & <dbl> & <chr> & <chr> & <dbl> & <chr> & <chr> & <chr> & <chr> & ⋯ & <chr> & <chr> & <chr> & <chr> & <chr> & <dbl> & <dbl> & <dbl> & <dbl> & <chr>\\\\\n",
       "\\hline\n",
       "\t 2254-DLXRI & Female & 0 & No  & No &  1 & Yes & Yes & Fiber optic & No                  & ⋯ & No                  & No                  & Month-to-month & Yes & Mailed check            &  79.15 &   79.15 & 5 & 0 & No \\\\\n",
       "\t 2121-JAFOM & Female & 0 & Yes & No & 72 & Yes & Yes & Fiber optic & Yes                 & ⋯ & Yes                 & Yes                 & Two year       & Yes & Credit card (automatic) & 115.55 & 8312.40 & 0 & 0 & No \\\\\n",
       "\t 0380-ZCSBI & Male   & 0 & No  & No & 10 & Yes & No  & No          & No internet service & ⋯ & No internet service & No internet service & Month-to-month & No  & Credit card (automatic) &  20.00 &  198.70 & 0 & 0 & No \\\\\n",
       "\t 6894-LFHLY & Male   & 1 & No  & No &  1 & Yes & Yes & Fiber optic & No                  & ⋯ & No                  & No                  & Month-to-month & Yes & Electronic check        &  75.75 &   75.75 & 0 & 0 & Yes\\\\\n",
       "\t 6583-QGCSI & Female & 1 & Yes & No & 50 & Yes & Yes & Fiber optic & No                  & ⋯ & Yes                 & No                  & Month-to-month & Yes & Electronic check        &  88.05 & 4367.35 & 0 & 5 & Yes\\\\\n",
       "\\end{tabular}\n"
      ],
      "text/markdown": [
       "\n",
       "A tibble: 5 × 23\n",
       "\n",
       "| customerID &lt;chr&gt; | gender &lt;chr&gt; | SeniorCitizen &lt;dbl&gt; | Partner &lt;chr&gt; | Dependents &lt;chr&gt; | tenure &lt;dbl&gt; | PhoneService &lt;chr&gt; | MultipleLines &lt;chr&gt; | InternetService &lt;chr&gt; | OnlineSecurity &lt;chr&gt; | ⋯ ⋯ | StreamingTV &lt;chr&gt; | StreamingMovies &lt;chr&gt; | Contract &lt;chr&gt; | PaperlessBilling &lt;chr&gt; | PaymentMethod &lt;chr&gt; | MonthlyCharges &lt;dbl&gt; | TotalCharges &lt;dbl&gt; | numAdminTickets &lt;dbl&gt; | numTechTickets &lt;dbl&gt; | Churn &lt;chr&gt; |\n",
       "|---|---|---|---|---|---|---|---|---|---|---|---|---|---|---|---|---|---|---|---|---|\n",
       "| 2254-DLXRI | Female | 0 | No  | No |  1 | Yes | Yes | Fiber optic | No                  | ⋯ | No                  | No                  | Month-to-month | Yes | Mailed check            |  79.15 |   79.15 | 5 | 0 | No  |\n",
       "| 2121-JAFOM | Female | 0 | Yes | No | 72 | Yes | Yes | Fiber optic | Yes                 | ⋯ | Yes                 | Yes                 | Two year       | Yes | Credit card (automatic) | 115.55 | 8312.40 | 0 | 0 | No  |\n",
       "| 0380-ZCSBI | Male   | 0 | No  | No | 10 | Yes | No  | No          | No internet service | ⋯ | No internet service | No internet service | Month-to-month | No  | Credit card (automatic) |  20.00 |  198.70 | 0 | 0 | No  |\n",
       "| 6894-LFHLY | Male   | 1 | No  | No |  1 | Yes | Yes | Fiber optic | No                  | ⋯ | No                  | No                  | Month-to-month | Yes | Electronic check        |  75.75 |   75.75 | 0 | 0 | Yes |\n",
       "| 6583-QGCSI | Female | 1 | Yes | No | 50 | Yes | Yes | Fiber optic | No                  | ⋯ | Yes                 | No                  | Month-to-month | Yes | Electronic check        |  88.05 | 4367.35 | 0 | 5 | Yes |\n",
       "\n"
      ],
      "text/plain": [
       "  customerID gender SeniorCitizen Partner Dependents tenure PhoneService\n",
       "1 2254-DLXRI Female 0             No      No          1     Yes         \n",
       "2 2121-JAFOM Female 0             Yes     No         72     Yes         \n",
       "3 0380-ZCSBI Male   0             No      No         10     Yes         \n",
       "4 6894-LFHLY Male   1             No      No          1     Yes         \n",
       "5 6583-QGCSI Female 1             Yes     No         50     Yes         \n",
       "  MultipleLines InternetService OnlineSecurity      ⋯ StreamingTV        \n",
       "1 Yes           Fiber optic     No                  ⋯ No                 \n",
       "2 Yes           Fiber optic     Yes                 ⋯ Yes                \n",
       "3 No            No              No internet service ⋯ No internet service\n",
       "4 Yes           Fiber optic     No                  ⋯ No                 \n",
       "5 Yes           Fiber optic     No                  ⋯ Yes                \n",
       "  StreamingMovies     Contract       PaperlessBilling PaymentMethod          \n",
       "1 No                  Month-to-month Yes              Mailed check           \n",
       "2 Yes                 Two year       Yes              Credit card (automatic)\n",
       "3 No internet service Month-to-month No               Credit card (automatic)\n",
       "4 No                  Month-to-month Yes              Electronic check       \n",
       "5 No                  Month-to-month Yes              Electronic check       \n",
       "  MonthlyCharges TotalCharges numAdminTickets numTechTickets Churn\n",
       "1  79.15           79.15      5               0              No   \n",
       "2 115.55         8312.40      0               0              No   \n",
       "3  20.00          198.70      0               0              No   \n",
       "4  75.75           75.75      0               0              Yes  \n",
       "5  88.05         4367.35      0               5              Yes  "
      ]
     },
     "metadata": {},
     "output_type": "display_data"
    }
   ],
   "source": [
    "df[duplicated(df),]"
   ]
  },
  {
   "cell_type": "markdown",
   "id": "26bfa759",
   "metadata": {},
   "source": [
    "> The above contain the duplicated entries and thus have to be removed."
   ]
  },
  {
   "cell_type": "code",
   "execution_count": 10,
   "id": "3796481c",
   "metadata": {},
   "outputs": [],
   "source": [
    "df <- unique(df) # drop duplicate entries"
   ]
  },
  {
   "cell_type": "markdown",
   "id": "b7a31911",
   "metadata": {},
   "source": [
    "Step 3: Dropping customerID (Since it is only an identifier and not relevant to the analysis)"
   ]
  },
  {
   "cell_type": "code",
   "execution_count": 11,
   "id": "a223427c",
   "metadata": {},
   "outputs": [],
   "source": [
    "df <- df[, -which(names(df) == \"customerID\")]"
   ]
  },
  {
   "cell_type": "code",
   "execution_count": 12,
   "id": "e3525050",
   "metadata": {},
   "outputs": [
    {
     "name": "stdout",
     "output_type": "stream",
     "text": [
      "tibble [7,032 × 22] (S3: tbl_df/tbl/data.frame)\n",
      " $ gender          : chr [1:7032] \"Female\" \"Male\" \"Male\" \"Male\" ...\n",
      " $ SeniorCitizen   : num [1:7032] 0 0 0 0 0 0 0 0 0 0 ...\n",
      " $ Partner         : chr [1:7032] \"Yes\" \"No\" \"No\" \"No\" ...\n",
      " $ Dependents      : chr [1:7032] \"No\" \"No\" \"No\" \"No\" ...\n",
      " $ tenure          : num [1:7032] 1 34 2 45 2 8 22 10 28 62 ...\n",
      " $ PhoneService    : chr [1:7032] \"No\" \"Yes\" \"Yes\" \"No\" ...\n",
      " $ MultipleLines   : chr [1:7032] \"No phone service\" \"No\" \"No\" \"No phone service\" ...\n",
      " $ InternetService : chr [1:7032] \"DSL\" \"DSL\" \"DSL\" \"DSL\" ...\n",
      " $ OnlineSecurity  : chr [1:7032] \"No\" \"Yes\" \"Yes\" \"Yes\" ...\n",
      " $ OnlineBackup    : chr [1:7032] \"Yes\" \"No\" \"Yes\" \"No\" ...\n",
      " $ DeviceProtection: chr [1:7032] \"No\" \"Yes\" \"No\" \"Yes\" ...\n",
      " $ TechSupport     : chr [1:7032] \"No\" \"No\" \"No\" \"Yes\" ...\n",
      " $ StreamingTV     : chr [1:7032] \"No\" \"No\" \"No\" \"No\" ...\n",
      " $ StreamingMovies : chr [1:7032] \"No\" \"No\" \"No\" \"No\" ...\n",
      " $ Contract        : chr [1:7032] \"Month-to-month\" \"One year\" \"Month-to-month\" \"One year\" ...\n",
      " $ PaperlessBilling: chr [1:7032] \"Yes\" \"No\" \"Yes\" \"No\" ...\n",
      " $ PaymentMethod   : chr [1:7032] \"Electronic check\" \"Mailed check\" \"Mailed check\" \"Bank transfer (automatic)\" ...\n",
      " $ MonthlyCharges  : num [1:7032] 29.9 57 53.9 42.3 70.7 ...\n",
      " $ TotalCharges    : num [1:7032] 29.9 1889.5 108.2 1840.8 151.7 ...\n",
      " $ numAdminTickets : num [1:7032] 0 0 0 0 0 0 0 0 0 0 ...\n",
      " $ numTechTickets  : num [1:7032] 0 0 0 3 0 0 0 0 2 0 ...\n",
      " $ Churn           : chr [1:7032] \"No\" \"No\" \"Yes\" \"No\" ...\n",
      " - attr(*, \"na.action\")= 'omit' Named int [1:11] 489 754 937 1083 1341 3332 3827 4381 5221 6673 ...\n",
      "  ..- attr(*, \"names\")= chr [1:11] \"489\" \"754\" \"937\" \"1083\" ...\n"
     ]
    }
   ],
   "source": [
    "str(df)"
   ]
  },
  {
   "cell_type": "markdown",
   "id": "387ddc8a",
   "metadata": {},
   "source": [
    "> customerID successfully dropped."
   ]
  },
  {
   "cell_type": "markdown",
   "id": "66721f45",
   "metadata": {},
   "source": [
    "Step 4: Creating numerical and categorical lists."
   ]
  },
  {
   "cell_type": "code",
   "execution_count": 13,
   "id": "b94aad57",
   "metadata": {},
   "outputs": [
    {
     "data": {
      "text/html": [
       "<style>\n",
       ".list-inline {list-style: none; margin:0; padding: 0}\n",
       ".list-inline>li {display: inline-block}\n",
       ".list-inline>li:not(:last-child)::after {content: \"\\00b7\"; padding: 0 .5ex}\n",
       "</style>\n",
       "<ol class=list-inline><li>0</li><li>1</li><li>5</li><li>2</li><li>4</li><li>3</li></ol>\n"
      ],
      "text/latex": [
       "\\begin{enumerate*}\n",
       "\\item 0\n",
       "\\item 1\n",
       "\\item 5\n",
       "\\item 2\n",
       "\\item 4\n",
       "\\item 3\n",
       "\\end{enumerate*}\n"
      ],
      "text/markdown": [
       "1. 0\n",
       "2. 1\n",
       "3. 5\n",
       "4. 2\n",
       "5. 4\n",
       "6. 3\n",
       "\n",
       "\n"
      ],
      "text/plain": [
       "[1] 0 1 5 2 4 3"
      ]
     },
     "metadata": {},
     "output_type": "display_data"
    }
   ],
   "source": [
    "unique(df$numAdminTickets)"
   ]
  },
  {
   "cell_type": "code",
   "execution_count": 14,
   "id": "46aa2129",
   "metadata": {},
   "outputs": [],
   "source": [
    "# distinction is based on the number of different values in the column\n",
    "columns <- names(df)\n",
    "\n",
    "categoric_columns <- vector(mode=\"character\")\n",
    "numeric_columns <- vector(mode=\"character\")\n",
    "\n",
    "for (i in columns) {\n",
    "  if (length(unique(df[[i]])) >= 6) {\n",
    "    numeric_columns <- c(numeric_columns, i)\n",
    "  } else {\n",
    "    categoric_columns <- c(categoric_columns, i)\n",
    "  }\n",
    "}\n",
    "\n",
    "categoric_columns <- categoric_columns[categoric_columns != \"Churn\"] # Excluding 'Churn'"
   ]
  },
  {
   "cell_type": "code",
   "execution_count": 15,
   "id": "995791d4",
   "metadata": {},
   "outputs": [
    {
     "data": {
      "text/html": [
       "<style>\n",
       ".list-inline {list-style: none; margin:0; padding: 0}\n",
       ".list-inline>li {display: inline-block}\n",
       ".list-inline>li:not(:last-child)::after {content: \"\\00b7\"; padding: 0 .5ex}\n",
       "</style>\n",
       "<ol class=list-inline><li>'tenure'</li><li>'MonthlyCharges'</li><li>'TotalCharges'</li><li>'numAdminTickets'</li><li>'numTechTickets'</li></ol>\n"
      ],
      "text/latex": [
       "\\begin{enumerate*}\n",
       "\\item 'tenure'\n",
       "\\item 'MonthlyCharges'\n",
       "\\item 'TotalCharges'\n",
       "\\item 'numAdminTickets'\n",
       "\\item 'numTechTickets'\n",
       "\\end{enumerate*}\n"
      ],
      "text/markdown": [
       "1. 'tenure'\n",
       "2. 'MonthlyCharges'\n",
       "3. 'TotalCharges'\n",
       "4. 'numAdminTickets'\n",
       "5. 'numTechTickets'\n",
       "\n",
       "\n"
      ],
      "text/plain": [
       "[1] \"tenure\"          \"MonthlyCharges\"  \"TotalCharges\"    \"numAdminTickets\"\n",
       "[5] \"numTechTickets\" "
      ]
     },
     "metadata": {},
     "output_type": "display_data"
    }
   ],
   "source": [
    "numeric_columns"
   ]
  },
  {
   "cell_type": "markdown",
   "id": "2872c7ff",
   "metadata": {},
   "source": [
    "Step 5: Label Encoding"
   ]
  },
  {
   "cell_type": "code",
   "execution_count": 16,
   "id": "05178743",
   "metadata": {},
   "outputs": [
    {
     "name": "stderr",
     "output_type": "stream",
     "text": [
      "Updating HTML index of packages in '.Library'\n",
      "\n",
      "Making 'packages.html' ...\n",
      " done\n",
      "\n",
      "Loading required package: ggplot2\n",
      "\n",
      "Loading required package: lattice\n",
      "\n"
     ]
    }
   ],
   "source": [
    "# Label Encoding refers to converting the labels into a numeric form. \n",
    "# This is only for EDA reasons. Later we will use OneHotEncoder to prepare for model building.\n",
    "install.packages(\"caret\")\n",
    "library(\"caret\")"
   ]
  },
  {
   "cell_type": "code",
   "execution_count": 17,
   "id": "4e7365ed",
   "metadata": {},
   "outputs": [],
   "source": [
    "df1 <- df\n",
    "\n",
    "for (col in categoric_columns) {\n",
    "  df1[[col]] <- as.numeric(as.factor(df[[col]]))\n",
    "}\n",
    "\n",
    "df1[[\"Churn\"]] <- as.numeric(as.factor(df[[\"Churn\"]]))"
   ]
  },
  {
   "cell_type": "markdown",
   "id": "3313137d",
   "metadata": {},
   "source": [
    "Step 6: Summary Statistics of Numerical Data"
   ]
  },
  {
   "cell_type": "code",
   "execution_count": 18,
   "id": "472d6fb5",
   "metadata": {},
   "outputs": [
    {
     "data": {
      "text/plain": [
       "     tenure      MonthlyCharges    TotalCharges    numAdminTickets \n",
       " Min.   : 1.00   Min.   : 18.25   Min.   :  18.8   Min.   :0.0000  \n",
       " 1st Qu.: 9.00   1st Qu.: 35.59   1st Qu.: 401.4   1st Qu.:0.0000  \n",
       " Median :29.00   Median : 70.35   Median :1397.5   Median :0.0000  \n",
       " Mean   :32.42   Mean   : 64.80   Mean   :2283.3   Mean   :0.5149  \n",
       " 3rd Qu.:55.00   3rd Qu.: 89.86   3rd Qu.:3794.7   3rd Qu.:0.0000  \n",
       " Max.   :72.00   Max.   :118.75   Max.   :8684.8   Max.   :5.0000  \n",
       " numTechTickets  \n",
       " Min.   :0.0000  \n",
       " 1st Qu.:0.0000  \n",
       " Median :0.0000  \n",
       " Mean   :0.4202  \n",
       " 3rd Qu.:0.0000  \n",
       " Max.   :9.0000  "
      ]
     },
     "metadata": {},
     "output_type": "display_data"
    }
   ],
   "source": [
    "summary(df1[, numeric_columns])"
   ]
  },
  {
   "cell_type": "code",
   "execution_count": 19,
   "id": "64c006c1",
   "metadata": {},
   "outputs": [],
   "source": [
    "# Defining the pallete for future plots\n",
    "palette <- c(\"#6a0d83\", \"#ce4993\", \"#ee5d6c\", \"#fb9062\")\n",
    "palette2 <- c(\"#ce4993\", \"#6a0d83\", \"#ee5d6c\", \"#fb9062\")"
   ]
  },
  {
   "cell_type": "code",
   "execution_count": 32,
   "id": "4df88988",
   "metadata": {},
   "outputs": [
    {
     "ename": "ERROR",
     "evalue": "Error in value[[3L]](cond): invalid graphics state\n",
     "output_type": "error",
     "traceback": [
      "Error in value[[3L]](cond): invalid graphics state\nTraceback:\n"
     ]
    },
    {
     "data": {
      "text/plain": [
       "Plot with title “Churn and Non-Churn Customers”"
      ]
     },
     "metadata": {
      "image/png": {
       "height": 180,
       "width": 180
      }
     },
     "output_type": "display_data"
    }
   ],
   "source": [
    "library(\"graphics\")\n",
    "library(\"stats\")\n",
    "library(\"ggplot2\")\n",
    "library(\"dplyr\")\n",
    "\n",
    "# Calculate values for pie chart\n",
    "l1 <- table(df1$Churn)\n",
    "pie_values <- c(l1[1] / sum(l1) * 100, l1[2] / sum(l1) * 100)\n",
    "\n",
    "# Define color palette\n",
    "palette <- c(\"#6A0D83\", \"#CE4993\")\n",
    "\n",
    "# Create pie chart and barplot side by side\n",
    "par(mfrow=c(1,3), mar=c(4,4,4,4))\n",
    "pie(x = pie_values, labels = c(\"Non-Churn Customers\", \"Churn Customers\"), \n",
    "    main=\"Churn and Non-Churn Customers %\",\n",
    "    col=palette, \n",
    "    init.angle=90, \n",
    "    border=\"black\", \n",
    "    clockwise=TRUE, \n",
    "    density=NULL, \n",
    "    angle=c(0, pie_values[1]/100*360), \n",
    "    )\n",
    "pie(x = pie_values, labels = paste0(round(pie_values, 2), \"%\"), \n",
    "    main=\"Churn and Non-Churn Customers %\",\n",
    "    col=palette, \n",
    "    init.angle=90, \n",
    "    border=\"black\", \n",
    "    clockwise=TRUE, \n",
    "    density=NULL, \n",
    "    angle=c(0, pie_values[1]/100*360), \n",
    "    )\n",
    "barplot(l1, main=\"Churn and Non-Churn Customers\", \n",
    "        col=palette, \n",
    "        border=\"black\", \n",
    "        xaxt=\"n\",\n",
    "        names.arg=c(\"Non-Churn Customers\", \"Churn Customers\"))\n",
    "axis(side=1, at=1:2, labels=c(\"Non-Churn\", \"Churn\"))"
   ]
  },
  {
   "cell_type": "code",
   "execution_count": null,
   "id": "ca4eb03d",
   "metadata": {},
   "outputs": [],
   "source": []
  }
 ],
 "metadata": {
  "kernelspec": {
   "display_name": "R",
   "language": "R",
   "name": "ir"
  },
  "language_info": {
   "codemirror_mode": "r",
   "file_extension": ".r",
   "mimetype": "text/x-r-source",
   "name": "R",
   "pygments_lexer": "r",
   "version": "4.2.3"
  }
 },
 "nbformat": 4,
 "nbformat_minor": 5
}
