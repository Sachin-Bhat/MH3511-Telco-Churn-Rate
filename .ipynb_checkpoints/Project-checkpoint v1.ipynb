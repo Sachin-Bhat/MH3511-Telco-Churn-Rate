{
 "cells": [
  {
   "cell_type": "markdown",
   "id": "11924c39",
   "metadata": {},
   "source": [
    "# Introduction\n",
    "\n",
    "---\n",
    "\n",
    "Companies in the telecommunications (telco) industry that want to stay in business will need to address the churn rate. How can you make it smaller? Make better use of data, ensure efficient customer care, invest in new technologies, and create a memorable customer experience with a few strategies. The churn rate is something that affects all companies in the telco industry, where customer volatility is high. The churn rate affects more than just telecommunications companies. Instead, businesses of all sizes must retain as many customers as possible in order to maintain a stable, continuous, and high-quality relationship. Various strategies can be used to accomplish this, and digital solutions and innovations will undoubtedly play an important role.\n",
    "\n",
    "It is normal for any company doing business to gain and lose customers. Customers may discover you one day and become loyal customers over time; however, even customers who have been loyal to a brand for years may decide to switch to a competitor. In the telecom industry, the churn rate, or rate of customer abandonment, captures this phenomenon."
   ]
  },
  {
   "cell_type": "markdown",
   "id": "8ca02671",
   "metadata": {},
   "source": [
    "# Data Description\n",
    "\n",
    "---\n",
    "\n",
    "The data is taken from Kaggle, a large community-driven data-analysis platform. The datasets consisted of two spreadsheet documents, the first being the \"Telecom Company Call-Center-Dataset\" and the second being the \"Telecom Churn Rate Dataset\". Since our analysis specifically focuses on the churn rate of customers, we shall be using the second dataset.\n",
    "\n",
    "The following columns are contained in the dataset:\n",
    "\n",
    "- customerID: Customer ID\n",
    "- genderCustomer: customers's gender (female, male)\n",
    "- SeniorCitizen: Whether the customer is a senior citizen or not (1, 0)\n",
    "- PartnerWhether: the customer is married or not (Yes, No)\n",
    "- Dependents: Whether the customer has dependents (Yes, No)\n",
    "- tenure: Number of months the customer has stayed with the company\n",
    "- PhoneService: Whether the customer uses a phone service or not (Yes, No)\n",
    "- MultipleLines: Whether the customer uses multiple lines or not (Yes, No, No phone service)\n",
    "- InternetService: Customer’s ISP (DSL, Fiber optic, No)\n",
    "- OnlineSecurity: Whether the customer purchased online security (Yes, No, No internet service)\n",
    "- OnlineBackup: Whether the customer made an online backup (Yes, No, No internet service)\n",
    "- DeviceProtection: Whether the customer purchased device protection or not (Yes, No, No internet service)\n",
    "- TechSupport: Whether the customer has tech support or not (Yes, No, No internet service)\n",
    "- StreamingTV: Whether the customer streams TV or not (Yes, No, No internet service)\n",
    "- StreamingMovies: Whether the customer streams movies or not (Yes, No, No internet service)\n",
    "- Contract: The contract period of the customer (Month-to-month, One year, Two year)\n",
    "- PaperlessBilling: Whether the customer posses paperless billing or not (Yes, No)\n",
    "- PaymentMethod: The customer’s preferred payment method (Electronic check, Mailed check, Bank transfer (automatic), Credit card (automatic))\n",
    "- MonthlyCharges: The amount charged to the customer per month\n",
    "- TotalCharges: The total amount charged to the customer\n",
    "- numAdminTickets: The number of Admin Ticket\n",
    "- numTechTickets: The number of Tech Ticket\n",
    "- Churn: Whether the customer churned or not (Yes or No)"
   ]
  },
  {
   "cell_type": "markdown",
   "id": "7a508cd9",
   "metadata": {},
   "source": [
    "# Data Cleaning\n",
    "\n",
    "---\n",
    "\n",
    "## Install `readxl`\n",
    "\n",
    "---"
   ]
  },
  {
   "cell_type": "code",
   "execution_count": 4,
   "id": "643bd318",
   "metadata": {},
   "outputs": [
    {
     "name": "stdout",
     "output_type": "stream",
     "text": [
      "package 'readxl' successfully unpacked and MD5 sums checked\n"
     ]
    },
    {
     "name": "stderr",
     "output_type": "stream",
     "text": [
      "Warning message:\n",
      "\"cannot remove prior installation of package 'readxl'\"\n",
      "Warning message in file.copy(savedcopy, lib, recursive = TRUE):\n",
      "\"problem copying C:\\Users\\sharm\\anaconda3\\Lib\\R\\library\\00LOCK\\readxl\\libs\\x64\\readxl.dll to C:\\Users\\sharm\\anaconda3\\Lib\\R\\library\\readxl\\libs\\x64\\readxl.dll: Permission denied\"\n",
      "Warning message:\n",
      "\"restored 'readxl'\"\n"
     ]
    },
    {
     "name": "stdout",
     "output_type": "stream",
     "text": [
      "\n",
      "The downloaded binary packages are in\n",
      "\tC:\\Users\\sharm\\AppData\\Local\\Temp\\RtmpuyxUcP\\downloaded_packages\n"
     ]
    }
   ],
   "source": [
    "install.packages(\"readxl\")"
   ]
  },
  {
   "cell_type": "code",
   "execution_count": 5,
   "id": "7583f5c6",
   "metadata": {},
   "outputs": [],
   "source": [
    "# Load readxl package\n",
    "library(\"readxl\")"
   ]
  },
  {
   "cell_type": "markdown",
   "id": "2dc06fd4",
   "metadata": {},
   "source": [
    "## Load dataset"
   ]
  },
  {
   "cell_type": "code",
   "execution_count": 6,
   "id": "2826e646",
   "metadata": {},
   "outputs": [],
   "source": [
    "df = read_excel(\"C:/Users/sharm/OneDrive/Desktop/master/Y2S2/MH3511 Analysis with Comp/MH3511-Telco-Churn-Rate/Telecom Churn Rate Dataset.xlsx\")"
   ]
  },
  {
   "cell_type": "markdown",
   "id": "f63806a7",
   "metadata": {},
   "source": [
    "## Data description"
   ]
  },
  {
   "cell_type": "code",
   "execution_count": 7,
   "id": "b9155e48",
   "metadata": {},
   "outputs": [
    {
     "name": "stdout",
     "output_type": "stream",
     "text": [
      "tibble [7,048 x 23] (S3: tbl_df/tbl/data.frame)\n",
      " $ customerID      : chr [1:7048] \"7590-VHVEG\" \"5575-GNVDE\" \"3668-QPYBK\" \"7795-CFOCW\" ...\n",
      " $ gender          : chr [1:7048] \"Female\" \"Male\" \"Male\" \"Male\" ...\n",
      " $ SeniorCitizen   : num [1:7048] 0 0 0 0 0 0 0 0 0 0 ...\n",
      " $ Partner         : chr [1:7048] \"Yes\" \"No\" \"No\" \"No\" ...\n",
      " $ Dependents      : chr [1:7048] \"No\" \"No\" \"No\" \"No\" ...\n",
      " $ tenure          : num [1:7048] 1 34 2 45 2 8 22 10 28 62 ...\n",
      " $ PhoneService    : chr [1:7048] \"No\" \"Yes\" \"Yes\" \"No\" ...\n",
      " $ MultipleLines   : chr [1:7048] \"No phone service\" \"No\" \"No\" \"No phone service\" ...\n",
      " $ InternetService : chr [1:7048] \"DSL\" \"DSL\" \"DSL\" \"DSL\" ...\n",
      " $ OnlineSecurity  : chr [1:7048] \"No\" \"Yes\" \"Yes\" \"Yes\" ...\n",
      " $ OnlineBackup    : chr [1:7048] \"Yes\" \"No\" \"Yes\" \"No\" ...\n",
      " $ DeviceProtection: chr [1:7048] \"No\" \"Yes\" \"No\" \"Yes\" ...\n",
      " $ TechSupport     : chr [1:7048] \"No\" \"No\" \"No\" \"Yes\" ...\n",
      " $ StreamingTV     : chr [1:7048] \"No\" \"No\" \"No\" \"No\" ...\n",
      " $ StreamingMovies : chr [1:7048] \"No\" \"No\" \"No\" \"No\" ...\n",
      " $ Contract        : chr [1:7048] \"Month-to-month\" \"One year\" \"Month-to-month\" \"One year\" ...\n",
      " $ PaperlessBilling: chr [1:7048] \"Yes\" \"No\" \"Yes\" \"No\" ...\n",
      " $ PaymentMethod   : chr [1:7048] \"Electronic check\" \"Mailed check\" \"Mailed check\" \"Bank transfer (automatic)\" ...\n",
      " $ MonthlyCharges  : num [1:7048] 29.9 57 53.9 42.3 70.7 ...\n",
      " $ TotalCharges    : num [1:7048] 29.9 1889.5 108.2 1840.8 151.7 ...\n",
      " $ numAdminTickets : num [1:7048] 0 0 0 0 0 0 0 0 0 0 ...\n",
      " $ numTechTickets  : num [1:7048] 0 0 0 3 0 0 0 0 2 0 ...\n",
      " $ Churn           : chr [1:7048] \"No\" \"No\" \"Yes\" \"No\" ...\n"
     ]
    }
   ],
   "source": [
    "str(df)"
   ]
  },
  {
   "cell_type": "markdown",
   "id": "c5fed8f8",
   "metadata": {},
   "source": [
    "> As can be seen from the above there are 23 columns and 7048 data entries."
   ]
  },
  {
   "cell_type": "code",
   "execution_count": 8,
   "id": "3ce05056",
   "metadata": {},
   "outputs": [
    {
     "data": {
      "text/html": [
       "<table class=\"dataframe\">\n",
       "<caption>A tibble: 10 × 23</caption>\n",
       "<thead>\n",
       "\t<tr><th scope=col>customerID</th><th scope=col>gender</th><th scope=col>SeniorCitizen</th><th scope=col>Partner</th><th scope=col>Dependents</th><th scope=col>tenure</th><th scope=col>PhoneService</th><th scope=col>MultipleLines</th><th scope=col>InternetService</th><th scope=col>OnlineSecurity</th><th scope=col>⋯</th><th scope=col>StreamingTV</th><th scope=col>StreamingMovies</th><th scope=col>Contract</th><th scope=col>PaperlessBilling</th><th scope=col>PaymentMethod</th><th scope=col>MonthlyCharges</th><th scope=col>TotalCharges</th><th scope=col>numAdminTickets</th><th scope=col>numTechTickets</th><th scope=col>Churn</th></tr>\n",
       "\t<tr><th scope=col>&lt;chr&gt;</th><th scope=col>&lt;chr&gt;</th><th scope=col>&lt;dbl&gt;</th><th scope=col>&lt;chr&gt;</th><th scope=col>&lt;chr&gt;</th><th scope=col>&lt;dbl&gt;</th><th scope=col>&lt;chr&gt;</th><th scope=col>&lt;chr&gt;</th><th scope=col>&lt;chr&gt;</th><th scope=col>&lt;chr&gt;</th><th scope=col>⋯</th><th scope=col>&lt;chr&gt;</th><th scope=col>&lt;chr&gt;</th><th scope=col>&lt;chr&gt;</th><th scope=col>&lt;chr&gt;</th><th scope=col>&lt;chr&gt;</th><th scope=col>&lt;dbl&gt;</th><th scope=col>&lt;dbl&gt;</th><th scope=col>&lt;dbl&gt;</th><th scope=col>&lt;dbl&gt;</th><th scope=col>&lt;chr&gt;</th></tr>\n",
       "</thead>\n",
       "<tbody>\n",
       "\t<tr><td>7590-VHVEG</td><td>Female</td><td>0</td><td>Yes</td><td>No </td><td> 1</td><td>No </td><td>No phone service</td><td>DSL        </td><td>No </td><td>⋯</td><td>No </td><td>No </td><td>Month-to-month</td><td>Yes</td><td>Electronic check         </td><td> 29.85</td><td>  29.85</td><td>0</td><td>0</td><td>No </td></tr>\n",
       "\t<tr><td>5575-GNVDE</td><td>Male  </td><td>0</td><td>No </td><td>No </td><td>34</td><td>Yes</td><td>No              </td><td>DSL        </td><td>Yes</td><td>⋯</td><td>No </td><td>No </td><td>One year      </td><td>No </td><td>Mailed check             </td><td> 56.95</td><td>1889.50</td><td>0</td><td>0</td><td>No </td></tr>\n",
       "\t<tr><td>3668-QPYBK</td><td>Male  </td><td>0</td><td>No </td><td>No </td><td> 2</td><td>Yes</td><td>No              </td><td>DSL        </td><td>Yes</td><td>⋯</td><td>No </td><td>No </td><td>Month-to-month</td><td>Yes</td><td>Mailed check             </td><td> 53.85</td><td> 108.15</td><td>0</td><td>0</td><td>Yes</td></tr>\n",
       "\t<tr><td>7795-CFOCW</td><td>Male  </td><td>0</td><td>No </td><td>No </td><td>45</td><td>No </td><td>No phone service</td><td>DSL        </td><td>Yes</td><td>⋯</td><td>No </td><td>No </td><td>One year      </td><td>No </td><td>Bank transfer (automatic)</td><td> 42.30</td><td>1840.75</td><td>0</td><td>3</td><td>No </td></tr>\n",
       "\t<tr><td>9237-HQITU</td><td>Female</td><td>0</td><td>No </td><td>No </td><td> 2</td><td>Yes</td><td>No              </td><td>Fiber optic</td><td>No </td><td>⋯</td><td>No </td><td>No </td><td>Month-to-month</td><td>Yes</td><td>Electronic check         </td><td> 70.70</td><td> 151.65</td><td>0</td><td>0</td><td>Yes</td></tr>\n",
       "\t<tr><td>9305-CDSKC</td><td>Female</td><td>0</td><td>No </td><td>No </td><td> 8</td><td>Yes</td><td>Yes             </td><td>Fiber optic</td><td>No </td><td>⋯</td><td>Yes</td><td>Yes</td><td>Month-to-month</td><td>Yes</td><td>Electronic check         </td><td> 99.65</td><td> 820.50</td><td>0</td><td>0</td><td>Yes</td></tr>\n",
       "\t<tr><td>1452-KIOVK</td><td>Male  </td><td>0</td><td>No </td><td>Yes</td><td>22</td><td>Yes</td><td>Yes             </td><td>Fiber optic</td><td>No </td><td>⋯</td><td>Yes</td><td>No </td><td>Month-to-month</td><td>Yes</td><td>Credit card (automatic)  </td><td> 89.10</td><td>1949.40</td><td>0</td><td>0</td><td>No </td></tr>\n",
       "\t<tr><td>6713-OKOMC</td><td>Female</td><td>0</td><td>No </td><td>No </td><td>10</td><td>No </td><td>No phone service</td><td>DSL        </td><td>Yes</td><td>⋯</td><td>No </td><td>No </td><td>Month-to-month</td><td>No </td><td>Mailed check             </td><td> 29.75</td><td> 301.90</td><td>0</td><td>0</td><td>No </td></tr>\n",
       "\t<tr><td>7892-POOKP</td><td>Female</td><td>0</td><td>Yes</td><td>No </td><td>28</td><td>Yes</td><td>Yes             </td><td>Fiber optic</td><td>No </td><td>⋯</td><td>Yes</td><td>Yes</td><td>Month-to-month</td><td>Yes</td><td>Electronic check         </td><td>104.80</td><td>3046.05</td><td>0</td><td>2</td><td>Yes</td></tr>\n",
       "\t<tr><td>6388-TABGU</td><td>Male  </td><td>0</td><td>No </td><td>Yes</td><td>62</td><td>Yes</td><td>No              </td><td>DSL        </td><td>Yes</td><td>⋯</td><td>No </td><td>No </td><td>One year      </td><td>No </td><td>Bank transfer (automatic)</td><td> 56.15</td><td>3487.95</td><td>0</td><td>0</td><td>No </td></tr>\n",
       "</tbody>\n",
       "</table>\n"
      ],
      "text/latex": [
       "A tibble: 10 × 23\n",
       "\\begin{tabular}{lllllllllllllllllllll}\n",
       " customerID & gender & SeniorCitizen & Partner & Dependents & tenure & PhoneService & MultipleLines & InternetService & OnlineSecurity & ⋯ & StreamingTV & StreamingMovies & Contract & PaperlessBilling & PaymentMethod & MonthlyCharges & TotalCharges & numAdminTickets & numTechTickets & Churn\\\\\n",
       " <chr> & <chr> & <dbl> & <chr> & <chr> & <dbl> & <chr> & <chr> & <chr> & <chr> & ⋯ & <chr> & <chr> & <chr> & <chr> & <chr> & <dbl> & <dbl> & <dbl> & <dbl> & <chr>\\\\\n",
       "\\hline\n",
       "\t 7590-VHVEG & Female & 0 & Yes & No  &  1 & No  & No phone service & DSL         & No  & ⋯ & No  & No  & Month-to-month & Yes & Electronic check          &  29.85 &   29.85 & 0 & 0 & No \\\\\n",
       "\t 5575-GNVDE & Male   & 0 & No  & No  & 34 & Yes & No               & DSL         & Yes & ⋯ & No  & No  & One year       & No  & Mailed check              &  56.95 & 1889.50 & 0 & 0 & No \\\\\n",
       "\t 3668-QPYBK & Male   & 0 & No  & No  &  2 & Yes & No               & DSL         & Yes & ⋯ & No  & No  & Month-to-month & Yes & Mailed check              &  53.85 &  108.15 & 0 & 0 & Yes\\\\\n",
       "\t 7795-CFOCW & Male   & 0 & No  & No  & 45 & No  & No phone service & DSL         & Yes & ⋯ & No  & No  & One year       & No  & Bank transfer (automatic) &  42.30 & 1840.75 & 0 & 3 & No \\\\\n",
       "\t 9237-HQITU & Female & 0 & No  & No  &  2 & Yes & No               & Fiber optic & No  & ⋯ & No  & No  & Month-to-month & Yes & Electronic check          &  70.70 &  151.65 & 0 & 0 & Yes\\\\\n",
       "\t 9305-CDSKC & Female & 0 & No  & No  &  8 & Yes & Yes              & Fiber optic & No  & ⋯ & Yes & Yes & Month-to-month & Yes & Electronic check          &  99.65 &  820.50 & 0 & 0 & Yes\\\\\n",
       "\t 1452-KIOVK & Male   & 0 & No  & Yes & 22 & Yes & Yes              & Fiber optic & No  & ⋯ & Yes & No  & Month-to-month & Yes & Credit card (automatic)   &  89.10 & 1949.40 & 0 & 0 & No \\\\\n",
       "\t 6713-OKOMC & Female & 0 & No  & No  & 10 & No  & No phone service & DSL         & Yes & ⋯ & No  & No  & Month-to-month & No  & Mailed check              &  29.75 &  301.90 & 0 & 0 & No \\\\\n",
       "\t 7892-POOKP & Female & 0 & Yes & No  & 28 & Yes & Yes              & Fiber optic & No  & ⋯ & Yes & Yes & Month-to-month & Yes & Electronic check          & 104.80 & 3046.05 & 0 & 2 & Yes\\\\\n",
       "\t 6388-TABGU & Male   & 0 & No  & Yes & 62 & Yes & No               & DSL         & Yes & ⋯ & No  & No  & One year       & No  & Bank transfer (automatic) &  56.15 & 3487.95 & 0 & 0 & No \\\\\n",
       "\\end{tabular}\n"
      ],
      "text/markdown": [
       "\n",
       "A tibble: 10 × 23\n",
       "\n",
       "| customerID &lt;chr&gt; | gender &lt;chr&gt; | SeniorCitizen &lt;dbl&gt; | Partner &lt;chr&gt; | Dependents &lt;chr&gt; | tenure &lt;dbl&gt; | PhoneService &lt;chr&gt; | MultipleLines &lt;chr&gt; | InternetService &lt;chr&gt; | OnlineSecurity &lt;chr&gt; | ⋯ ⋯ | StreamingTV &lt;chr&gt; | StreamingMovies &lt;chr&gt; | Contract &lt;chr&gt; | PaperlessBilling &lt;chr&gt; | PaymentMethod &lt;chr&gt; | MonthlyCharges &lt;dbl&gt; | TotalCharges &lt;dbl&gt; | numAdminTickets &lt;dbl&gt; | numTechTickets &lt;dbl&gt; | Churn &lt;chr&gt; |\n",
       "|---|---|---|---|---|---|---|---|---|---|---|---|---|---|---|---|---|---|---|---|---|\n",
       "| 7590-VHVEG | Female | 0 | Yes | No  |  1 | No  | No phone service | DSL         | No  | ⋯ | No  | No  | Month-to-month | Yes | Electronic check          |  29.85 |   29.85 | 0 | 0 | No  |\n",
       "| 5575-GNVDE | Male   | 0 | No  | No  | 34 | Yes | No               | DSL         | Yes | ⋯ | No  | No  | One year       | No  | Mailed check              |  56.95 | 1889.50 | 0 | 0 | No  |\n",
       "| 3668-QPYBK | Male   | 0 | No  | No  |  2 | Yes | No               | DSL         | Yes | ⋯ | No  | No  | Month-to-month | Yes | Mailed check              |  53.85 |  108.15 | 0 | 0 | Yes |\n",
       "| 7795-CFOCW | Male   | 0 | No  | No  | 45 | No  | No phone service | DSL         | Yes | ⋯ | No  | No  | One year       | No  | Bank transfer (automatic) |  42.30 | 1840.75 | 0 | 3 | No  |\n",
       "| 9237-HQITU | Female | 0 | No  | No  |  2 | Yes | No               | Fiber optic | No  | ⋯ | No  | No  | Month-to-month | Yes | Electronic check          |  70.70 |  151.65 | 0 | 0 | Yes |\n",
       "| 9305-CDSKC | Female | 0 | No  | No  |  8 | Yes | Yes              | Fiber optic | No  | ⋯ | Yes | Yes | Month-to-month | Yes | Electronic check          |  99.65 |  820.50 | 0 | 0 | Yes |\n",
       "| 1452-KIOVK | Male   | 0 | No  | Yes | 22 | Yes | Yes              | Fiber optic | No  | ⋯ | Yes | No  | Month-to-month | Yes | Credit card (automatic)   |  89.10 | 1949.40 | 0 | 0 | No  |\n",
       "| 6713-OKOMC | Female | 0 | No  | No  | 10 | No  | No phone service | DSL         | Yes | ⋯ | No  | No  | Month-to-month | No  | Mailed check              |  29.75 |  301.90 | 0 | 0 | No  |\n",
       "| 7892-POOKP | Female | 0 | Yes | No  | 28 | Yes | Yes              | Fiber optic | No  | ⋯ | Yes | Yes | Month-to-month | Yes | Electronic check          | 104.80 | 3046.05 | 0 | 2 | Yes |\n",
       "| 6388-TABGU | Male   | 0 | No  | Yes | 62 | Yes | No               | DSL         | Yes | ⋯ | No  | No  | One year       | No  | Bank transfer (automatic) |  56.15 | 3487.95 | 0 | 0 | No  |\n",
       "\n"
      ],
      "text/plain": [
       "   customerID gender SeniorCitizen Partner Dependents tenure PhoneService\n",
       "1  7590-VHVEG Female 0             Yes     No          1     No          \n",
       "2  5575-GNVDE Male   0             No      No         34     Yes         \n",
       "3  3668-QPYBK Male   0             No      No          2     Yes         \n",
       "4  7795-CFOCW Male   0             No      No         45     No          \n",
       "5  9237-HQITU Female 0             No      No          2     Yes         \n",
       "6  9305-CDSKC Female 0             No      No          8     Yes         \n",
       "7  1452-KIOVK Male   0             No      Yes        22     Yes         \n",
       "8  6713-OKOMC Female 0             No      No         10     No          \n",
       "9  7892-POOKP Female 0             Yes     No         28     Yes         \n",
       "10 6388-TABGU Male   0             No      Yes        62     Yes         \n",
       "   MultipleLines    InternetService OnlineSecurity <U+22EF>        StreamingTV\n",
       "1  No phone service DSL             No             <U+22EF> No         \n",
       "2  No               DSL             Yes            <U+22EF> No         \n",
       "3  No               DSL             Yes            <U+22EF> No         \n",
       "4  No phone service DSL             Yes            <U+22EF> No         \n",
       "5  No               Fiber optic     No             <U+22EF> No         \n",
       "6  Yes              Fiber optic     No             <U+22EF> Yes        \n",
       "7  Yes              Fiber optic     No             <U+22EF> Yes        \n",
       "8  No phone service DSL             Yes            <U+22EF> No         \n",
       "9  Yes              Fiber optic     No             <U+22EF> Yes        \n",
       "10 No               DSL             Yes            <U+22EF> No         \n",
       "   StreamingMovies Contract       PaperlessBilling PaymentMethod            \n",
       "1  No              Month-to-month Yes              Electronic check         \n",
       "2  No              One year       No               Mailed check             \n",
       "3  No              Month-to-month Yes              Mailed check             \n",
       "4  No              One year       No               Bank transfer (automatic)\n",
       "5  No              Month-to-month Yes              Electronic check         \n",
       "6  Yes             Month-to-month Yes              Electronic check         \n",
       "7  No              Month-to-month Yes              Credit card (automatic)  \n",
       "8  No              Month-to-month No               Mailed check             \n",
       "9  Yes             Month-to-month Yes              Electronic check         \n",
       "10 No              One year       No               Bank transfer (automatic)\n",
       "   MonthlyCharges TotalCharges numAdminTickets numTechTickets Churn\n",
       "1   29.85           29.85      0               0              No   \n",
       "2   56.95         1889.50      0               0              No   \n",
       "3   53.85          108.15      0               0              Yes  \n",
       "4   42.30         1840.75      0               3              No   \n",
       "5   70.70          151.65      0               0              Yes  \n",
       "6   99.65          820.50      0               0              Yes  \n",
       "7   89.10         1949.40      0               0              No   \n",
       "8   29.75          301.90      0               0              No   \n",
       "9  104.80         3046.05      0               2              Yes  \n",
       "10  56.15         3487.95      0               0              No   "
      ]
     },
     "metadata": {},
     "output_type": "display_data"
    }
   ],
   "source": [
    "head(df, 10)"
   ]
  },
  {
   "cell_type": "markdown",
   "id": "3cfdbd89",
   "metadata": {},
   "source": [
    "> These are the first 10 data entries. It can be noticed that there seem to be a lot of categorical data items and multiple states have been reflected in their first few entries."
   ]
  },
  {
   "cell_type": "markdown",
   "id": "b60cd0be",
   "metadata": {},
   "source": [
    "## Data preprocessing\n",
    "\n",
    "---\n",
    "\n",
    "Step 1: ' ' in 'TotalCharges'. So we have to drop ' ' to convert 'TotalCharges' to numerical."
   ]
  },
  {
   "cell_type": "code",
   "execution_count": 9,
   "id": "62821b63",
   "metadata": {},
   "outputs": [
    {
     "data": {
      "text/html": [
       "<table class=\"dataframe\">\n",
       "<caption>A tibble: 11 × 23</caption>\n",
       "<thead>\n",
       "\t<tr><th scope=col>customerID</th><th scope=col>gender</th><th scope=col>SeniorCitizen</th><th scope=col>Partner</th><th scope=col>Dependents</th><th scope=col>tenure</th><th scope=col>PhoneService</th><th scope=col>MultipleLines</th><th scope=col>InternetService</th><th scope=col>OnlineSecurity</th><th scope=col>⋯</th><th scope=col>StreamingTV</th><th scope=col>StreamingMovies</th><th scope=col>Contract</th><th scope=col>PaperlessBilling</th><th scope=col>PaymentMethod</th><th scope=col>MonthlyCharges</th><th scope=col>TotalCharges</th><th scope=col>numAdminTickets</th><th scope=col>numTechTickets</th><th scope=col>Churn</th></tr>\n",
       "\t<tr><th scope=col>&lt;chr&gt;</th><th scope=col>&lt;chr&gt;</th><th scope=col>&lt;dbl&gt;</th><th scope=col>&lt;chr&gt;</th><th scope=col>&lt;chr&gt;</th><th scope=col>&lt;dbl&gt;</th><th scope=col>&lt;chr&gt;</th><th scope=col>&lt;chr&gt;</th><th scope=col>&lt;chr&gt;</th><th scope=col>&lt;chr&gt;</th><th scope=col>⋯</th><th scope=col>&lt;chr&gt;</th><th scope=col>&lt;chr&gt;</th><th scope=col>&lt;chr&gt;</th><th scope=col>&lt;chr&gt;</th><th scope=col>&lt;chr&gt;</th><th scope=col>&lt;dbl&gt;</th><th scope=col>&lt;dbl&gt;</th><th scope=col>&lt;dbl&gt;</th><th scope=col>&lt;dbl&gt;</th><th scope=col>&lt;chr&gt;</th></tr>\n",
       "</thead>\n",
       "<tbody>\n",
       "\t<tr><td>4472-LVYGI</td><td>Female</td><td>0</td><td>Yes</td><td>Yes</td><td>0</td><td>No </td><td>No phone service</td><td>DSL</td><td>Yes                </td><td>⋯</td><td>Yes                </td><td>No                 </td><td>Two year</td><td>Yes</td><td>Bank transfer (automatic)</td><td>52.55</td><td>NA</td><td>0</td><td>0</td><td>No</td></tr>\n",
       "\t<tr><td>3115-CZMZD</td><td>Male  </td><td>0</td><td>No </td><td>Yes</td><td>0</td><td>Yes</td><td>No              </td><td>No </td><td>No internet service</td><td>⋯</td><td>No internet service</td><td>No internet service</td><td>Two year</td><td>No </td><td>Mailed check             </td><td>20.25</td><td>NA</td><td>5</td><td>0</td><td>No</td></tr>\n",
       "\t<tr><td>5709-LVOEQ</td><td>Female</td><td>0</td><td>Yes</td><td>Yes</td><td>0</td><td>Yes</td><td>No              </td><td>DSL</td><td>Yes                </td><td>⋯</td><td>Yes                </td><td>Yes                </td><td>Two year</td><td>No </td><td>Mailed check             </td><td>80.85</td><td>NA</td><td>0</td><td>0</td><td>No</td></tr>\n",
       "\t<tr><td>4367-NUYAO</td><td>Male  </td><td>0</td><td>Yes</td><td>Yes</td><td>0</td><td>Yes</td><td>Yes             </td><td>No </td><td>No internet service</td><td>⋯</td><td>No internet service</td><td>No internet service</td><td>Two year</td><td>No </td><td>Mailed check             </td><td>25.75</td><td>NA</td><td>1</td><td>0</td><td>No</td></tr>\n",
       "\t<tr><td>1371-DWPAZ</td><td>Female</td><td>0</td><td>Yes</td><td>Yes</td><td>0</td><td>No </td><td>No phone service</td><td>DSL</td><td>Yes                </td><td>⋯</td><td>Yes                </td><td>No                 </td><td>Two year</td><td>No </td><td>Credit card (automatic)  </td><td>56.05</td><td>NA</td><td>0</td><td>0</td><td>No</td></tr>\n",
       "\t<tr><td>7644-OMVMY</td><td>Male  </td><td>0</td><td>Yes</td><td>Yes</td><td>0</td><td>Yes</td><td>No              </td><td>No </td><td>No internet service</td><td>⋯</td><td>No internet service</td><td>No internet service</td><td>Two year</td><td>No </td><td>Mailed check             </td><td>19.85</td><td>NA</td><td>0</td><td>0</td><td>No</td></tr>\n",
       "\t<tr><td>3213-VVOLG</td><td>Male  </td><td>0</td><td>Yes</td><td>Yes</td><td>0</td><td>Yes</td><td>Yes             </td><td>No </td><td>No internet service</td><td>⋯</td><td>No internet service</td><td>No internet service</td><td>Two year</td><td>No </td><td>Mailed check             </td><td>25.35</td><td>NA</td><td>0</td><td>0</td><td>No</td></tr>\n",
       "\t<tr><td>2520-SGTTA</td><td>Female</td><td>0</td><td>Yes</td><td>Yes</td><td>0</td><td>Yes</td><td>No              </td><td>No </td><td>No internet service</td><td>⋯</td><td>No internet service</td><td>No internet service</td><td>Two year</td><td>No </td><td>Mailed check             </td><td>20.00</td><td>NA</td><td>5</td><td>0</td><td>No</td></tr>\n",
       "\t<tr><td>2923-ARZLG</td><td>Male  </td><td>0</td><td>Yes</td><td>Yes</td><td>0</td><td>Yes</td><td>No              </td><td>No </td><td>No internet service</td><td>⋯</td><td>No internet service</td><td>No internet service</td><td>One year</td><td>Yes</td><td>Mailed check             </td><td>19.70</td><td>NA</td><td>0</td><td>0</td><td>No</td></tr>\n",
       "\t<tr><td>4075-WKNIU</td><td>Female</td><td>0</td><td>Yes</td><td>Yes</td><td>0</td><td>Yes</td><td>Yes             </td><td>DSL</td><td>No                 </td><td>⋯</td><td>Yes                </td><td>No                 </td><td>Two year</td><td>No </td><td>Mailed check             </td><td>73.35</td><td>NA</td><td>0</td><td>0</td><td>No</td></tr>\n",
       "\t<tr><td>2775-SEFEE</td><td>Male  </td><td>0</td><td>No </td><td>Yes</td><td>0</td><td>Yes</td><td>Yes             </td><td>DSL</td><td>Yes                </td><td>⋯</td><td>No                 </td><td>No                 </td><td>Two year</td><td>Yes</td><td>Bank transfer (automatic)</td><td>61.90</td><td>NA</td><td>0</td><td>0</td><td>No</td></tr>\n",
       "</tbody>\n",
       "</table>\n"
      ],
      "text/latex": [
       "A tibble: 11 × 23\n",
       "\\begin{tabular}{lllllllllllllllllllll}\n",
       " customerID & gender & SeniorCitizen & Partner & Dependents & tenure & PhoneService & MultipleLines & InternetService & OnlineSecurity & ⋯ & StreamingTV & StreamingMovies & Contract & PaperlessBilling & PaymentMethod & MonthlyCharges & TotalCharges & numAdminTickets & numTechTickets & Churn\\\\\n",
       " <chr> & <chr> & <dbl> & <chr> & <chr> & <dbl> & <chr> & <chr> & <chr> & <chr> & ⋯ & <chr> & <chr> & <chr> & <chr> & <chr> & <dbl> & <dbl> & <dbl> & <dbl> & <chr>\\\\\n",
       "\\hline\n",
       "\t 4472-LVYGI & Female & 0 & Yes & Yes & 0 & No  & No phone service & DSL & Yes                 & ⋯ & Yes                 & No                  & Two year & Yes & Bank transfer (automatic) & 52.55 & NA & 0 & 0 & No\\\\\n",
       "\t 3115-CZMZD & Male   & 0 & No  & Yes & 0 & Yes & No               & No  & No internet service & ⋯ & No internet service & No internet service & Two year & No  & Mailed check              & 20.25 & NA & 5 & 0 & No\\\\\n",
       "\t 5709-LVOEQ & Female & 0 & Yes & Yes & 0 & Yes & No               & DSL & Yes                 & ⋯ & Yes                 & Yes                 & Two year & No  & Mailed check              & 80.85 & NA & 0 & 0 & No\\\\\n",
       "\t 4367-NUYAO & Male   & 0 & Yes & Yes & 0 & Yes & Yes              & No  & No internet service & ⋯ & No internet service & No internet service & Two year & No  & Mailed check              & 25.75 & NA & 1 & 0 & No\\\\\n",
       "\t 1371-DWPAZ & Female & 0 & Yes & Yes & 0 & No  & No phone service & DSL & Yes                 & ⋯ & Yes                 & No                  & Two year & No  & Credit card (automatic)   & 56.05 & NA & 0 & 0 & No\\\\\n",
       "\t 7644-OMVMY & Male   & 0 & Yes & Yes & 0 & Yes & No               & No  & No internet service & ⋯ & No internet service & No internet service & Two year & No  & Mailed check              & 19.85 & NA & 0 & 0 & No\\\\\n",
       "\t 3213-VVOLG & Male   & 0 & Yes & Yes & 0 & Yes & Yes              & No  & No internet service & ⋯ & No internet service & No internet service & Two year & No  & Mailed check              & 25.35 & NA & 0 & 0 & No\\\\\n",
       "\t 2520-SGTTA & Female & 0 & Yes & Yes & 0 & Yes & No               & No  & No internet service & ⋯ & No internet service & No internet service & Two year & No  & Mailed check              & 20.00 & NA & 5 & 0 & No\\\\\n",
       "\t 2923-ARZLG & Male   & 0 & Yes & Yes & 0 & Yes & No               & No  & No internet service & ⋯ & No internet service & No internet service & One year & Yes & Mailed check              & 19.70 & NA & 0 & 0 & No\\\\\n",
       "\t 4075-WKNIU & Female & 0 & Yes & Yes & 0 & Yes & Yes              & DSL & No                  & ⋯ & Yes                 & No                  & Two year & No  & Mailed check              & 73.35 & NA & 0 & 0 & No\\\\\n",
       "\t 2775-SEFEE & Male   & 0 & No  & Yes & 0 & Yes & Yes              & DSL & Yes                 & ⋯ & No                  & No                  & Two year & Yes & Bank transfer (automatic) & 61.90 & NA & 0 & 0 & No\\\\\n",
       "\\end{tabular}\n"
      ],
      "text/markdown": [
       "\n",
       "A tibble: 11 × 23\n",
       "\n",
       "| customerID &lt;chr&gt; | gender &lt;chr&gt; | SeniorCitizen &lt;dbl&gt; | Partner &lt;chr&gt; | Dependents &lt;chr&gt; | tenure &lt;dbl&gt; | PhoneService &lt;chr&gt; | MultipleLines &lt;chr&gt; | InternetService &lt;chr&gt; | OnlineSecurity &lt;chr&gt; | ⋯ ⋯ | StreamingTV &lt;chr&gt; | StreamingMovies &lt;chr&gt; | Contract &lt;chr&gt; | PaperlessBilling &lt;chr&gt; | PaymentMethod &lt;chr&gt; | MonthlyCharges &lt;dbl&gt; | TotalCharges &lt;dbl&gt; | numAdminTickets &lt;dbl&gt; | numTechTickets &lt;dbl&gt; | Churn &lt;chr&gt; |\n",
       "|---|---|---|---|---|---|---|---|---|---|---|---|---|---|---|---|---|---|---|---|---|\n",
       "| 4472-LVYGI | Female | 0 | Yes | Yes | 0 | No  | No phone service | DSL | Yes                 | ⋯ | Yes                 | No                  | Two year | Yes | Bank transfer (automatic) | 52.55 | NA | 0 | 0 | No |\n",
       "| 3115-CZMZD | Male   | 0 | No  | Yes | 0 | Yes | No               | No  | No internet service | ⋯ | No internet service | No internet service | Two year | No  | Mailed check              | 20.25 | NA | 5 | 0 | No |\n",
       "| 5709-LVOEQ | Female | 0 | Yes | Yes | 0 | Yes | No               | DSL | Yes                 | ⋯ | Yes                 | Yes                 | Two year | No  | Mailed check              | 80.85 | NA | 0 | 0 | No |\n",
       "| 4367-NUYAO | Male   | 0 | Yes | Yes | 0 | Yes | Yes              | No  | No internet service | ⋯ | No internet service | No internet service | Two year | No  | Mailed check              | 25.75 | NA | 1 | 0 | No |\n",
       "| 1371-DWPAZ | Female | 0 | Yes | Yes | 0 | No  | No phone service | DSL | Yes                 | ⋯ | Yes                 | No                  | Two year | No  | Credit card (automatic)   | 56.05 | NA | 0 | 0 | No |\n",
       "| 7644-OMVMY | Male   | 0 | Yes | Yes | 0 | Yes | No               | No  | No internet service | ⋯ | No internet service | No internet service | Two year | No  | Mailed check              | 19.85 | NA | 0 | 0 | No |\n",
       "| 3213-VVOLG | Male   | 0 | Yes | Yes | 0 | Yes | Yes              | No  | No internet service | ⋯ | No internet service | No internet service | Two year | No  | Mailed check              | 25.35 | NA | 0 | 0 | No |\n",
       "| 2520-SGTTA | Female | 0 | Yes | Yes | 0 | Yes | No               | No  | No internet service | ⋯ | No internet service | No internet service | Two year | No  | Mailed check              | 20.00 | NA | 5 | 0 | No |\n",
       "| 2923-ARZLG | Male   | 0 | Yes | Yes | 0 | Yes | No               | No  | No internet service | ⋯ | No internet service | No internet service | One year | Yes | Mailed check              | 19.70 | NA | 0 | 0 | No |\n",
       "| 4075-WKNIU | Female | 0 | Yes | Yes | 0 | Yes | Yes              | DSL | No                  | ⋯ | Yes                 | No                  | Two year | No  | Mailed check              | 73.35 | NA | 0 | 0 | No |\n",
       "| 2775-SEFEE | Male   | 0 | No  | Yes | 0 | Yes | Yes              | DSL | Yes                 | ⋯ | No                  | No                  | Two year | Yes | Bank transfer (automatic) | 61.90 | NA | 0 | 0 | No |\n",
       "\n"
      ],
      "text/plain": [
       "   customerID gender SeniorCitizen Partner Dependents tenure PhoneService\n",
       "1  4472-LVYGI Female 0             Yes     Yes        0      No          \n",
       "2  3115-CZMZD Male   0             No      Yes        0      Yes         \n",
       "3  5709-LVOEQ Female 0             Yes     Yes        0      Yes         \n",
       "4  4367-NUYAO Male   0             Yes     Yes        0      Yes         \n",
       "5  1371-DWPAZ Female 0             Yes     Yes        0      No          \n",
       "6  7644-OMVMY Male   0             Yes     Yes        0      Yes         \n",
       "7  3213-VVOLG Male   0             Yes     Yes        0      Yes         \n",
       "8  2520-SGTTA Female 0             Yes     Yes        0      Yes         \n",
       "9  2923-ARZLG Male   0             Yes     Yes        0      Yes         \n",
       "10 4075-WKNIU Female 0             Yes     Yes        0      Yes         \n",
       "11 2775-SEFEE Male   0             No      Yes        0      Yes         \n",
       "   MultipleLines    InternetService OnlineSecurity      <U+22EF>       \n",
       "1  No phone service DSL             Yes                 <U+22EF>\n",
       "2  No               No              No internet service <U+22EF>\n",
       "3  No               DSL             Yes                 <U+22EF>\n",
       "4  Yes              No              No internet service <U+22EF>\n",
       "5  No phone service DSL             Yes                 <U+22EF>\n",
       "6  No               No              No internet service <U+22EF>\n",
       "7  Yes              No              No internet service <U+22EF>\n",
       "8  No               No              No internet service <U+22EF>\n",
       "9  No               No              No internet service <U+22EF>\n",
       "10 Yes              DSL             No                  <U+22EF>\n",
       "11 Yes              DSL             Yes                 <U+22EF>\n",
       "   StreamingTV         StreamingMovies     Contract PaperlessBilling\n",
       "1  Yes                 No                  Two year Yes             \n",
       "2  No internet service No internet service Two year No              \n",
       "3  Yes                 Yes                 Two year No              \n",
       "4  No internet service No internet service Two year No              \n",
       "5  Yes                 No                  Two year No              \n",
       "6  No internet service No internet service Two year No              \n",
       "7  No internet service No internet service Two year No              \n",
       "8  No internet service No internet service Two year No              \n",
       "9  No internet service No internet service One year Yes             \n",
       "10 Yes                 No                  Two year No              \n",
       "11 No                  No                  Two year Yes             \n",
       "   PaymentMethod             MonthlyCharges TotalCharges numAdminTickets\n",
       "1  Bank transfer (automatic) 52.55          NA           0              \n",
       "2  Mailed check              20.25          NA           5              \n",
       "3  Mailed check              80.85          NA           0              \n",
       "4  Mailed check              25.75          NA           1              \n",
       "5  Credit card (automatic)   56.05          NA           0              \n",
       "6  Mailed check              19.85          NA           0              \n",
       "7  Mailed check              25.35          NA           0              \n",
       "8  Mailed check              20.00          NA           5              \n",
       "9  Mailed check              19.70          NA           0              \n",
       "10 Mailed check              73.35          NA           0              \n",
       "11 Bank transfer (automatic) 61.90          NA           0              \n",
       "   numTechTickets Churn\n",
       "1  0              No   \n",
       "2  0              No   \n",
       "3  0              No   \n",
       "4  0              No   \n",
       "5  0              No   \n",
       "6  0              No   \n",
       "7  0              No   \n",
       "8  0              No   \n",
       "9  0              No   \n",
       "10 0              No   \n",
       "11 0              No   "
      ]
     },
     "metadata": {},
     "output_type": "display_data"
    }
   ],
   "source": [
    "df[is.na(df$TotalCharges),]"
   ]
  },
  {
   "cell_type": "markdown",
   "id": "456662ff",
   "metadata": {},
   "source": [
    "> The above data show row entries with NA values in `TotalCharges`"
   ]
  },
  {
   "cell_type": "code",
   "execution_count": 10,
   "id": "72cba0f1",
   "metadata": {},
   "outputs": [],
   "source": [
    "df <- na.omit(df)"
   ]
  },
  {
   "cell_type": "markdown",
   "id": "84563fba",
   "metadata": {},
   "source": [
    "Step 2: Checking for the number of duplicated entries (and dropping them if found)."
   ]
  },
  {
   "cell_type": "code",
   "execution_count": 11,
   "id": "1deb5ce9",
   "metadata": {},
   "outputs": [
    {
     "name": "stdout",
     "output_type": "stream",
     "text": [
      "[1] \"No. of duplicate entries:\"\n"
     ]
    },
    {
     "data": {
      "text/html": [
       "5"
      ],
      "text/latex": [
       "5"
      ],
      "text/markdown": [
       "5"
      ],
      "text/plain": [
       "[1] 5"
      ]
     },
     "metadata": {},
     "output_type": "display_data"
    }
   ],
   "source": [
    "print(\"No. of duplicate entries:\");\n",
    "sum(duplicated(df))"
   ]
  },
  {
   "cell_type": "code",
   "execution_count": 12,
   "id": "8b2804f3",
   "metadata": {},
   "outputs": [
    {
     "data": {
      "text/html": [
       "<table class=\"dataframe\">\n",
       "<caption>A tibble: 5 × 23</caption>\n",
       "<thead>\n",
       "\t<tr><th scope=col>customerID</th><th scope=col>gender</th><th scope=col>SeniorCitizen</th><th scope=col>Partner</th><th scope=col>Dependents</th><th scope=col>tenure</th><th scope=col>PhoneService</th><th scope=col>MultipleLines</th><th scope=col>InternetService</th><th scope=col>OnlineSecurity</th><th scope=col>⋯</th><th scope=col>StreamingTV</th><th scope=col>StreamingMovies</th><th scope=col>Contract</th><th scope=col>PaperlessBilling</th><th scope=col>PaymentMethod</th><th scope=col>MonthlyCharges</th><th scope=col>TotalCharges</th><th scope=col>numAdminTickets</th><th scope=col>numTechTickets</th><th scope=col>Churn</th></tr>\n",
       "\t<tr><th scope=col>&lt;chr&gt;</th><th scope=col>&lt;chr&gt;</th><th scope=col>&lt;dbl&gt;</th><th scope=col>&lt;chr&gt;</th><th scope=col>&lt;chr&gt;</th><th scope=col>&lt;dbl&gt;</th><th scope=col>&lt;chr&gt;</th><th scope=col>&lt;chr&gt;</th><th scope=col>&lt;chr&gt;</th><th scope=col>&lt;chr&gt;</th><th scope=col>⋯</th><th scope=col>&lt;chr&gt;</th><th scope=col>&lt;chr&gt;</th><th scope=col>&lt;chr&gt;</th><th scope=col>&lt;chr&gt;</th><th scope=col>&lt;chr&gt;</th><th scope=col>&lt;dbl&gt;</th><th scope=col>&lt;dbl&gt;</th><th scope=col>&lt;dbl&gt;</th><th scope=col>&lt;dbl&gt;</th><th scope=col>&lt;chr&gt;</th></tr>\n",
       "</thead>\n",
       "<tbody>\n",
       "\t<tr><td>2254-DLXRI</td><td>Female</td><td>0</td><td>No </td><td>No</td><td> 1</td><td>Yes</td><td>Yes</td><td>Fiber optic</td><td>No                 </td><td>⋯</td><td>No                 </td><td>No                 </td><td>Month-to-month</td><td>Yes</td><td>Mailed check           </td><td> 79.15</td><td>  79.15</td><td>5</td><td>0</td><td>No </td></tr>\n",
       "\t<tr><td>2121-JAFOM</td><td>Female</td><td>0</td><td>Yes</td><td>No</td><td>72</td><td>Yes</td><td>Yes</td><td>Fiber optic</td><td>Yes                </td><td>⋯</td><td>Yes                </td><td>Yes                </td><td>Two year      </td><td>Yes</td><td>Credit card (automatic)</td><td>115.55</td><td>8312.40</td><td>0</td><td>0</td><td>No </td></tr>\n",
       "\t<tr><td>0380-ZCSBI</td><td>Male  </td><td>0</td><td>No </td><td>No</td><td>10</td><td>Yes</td><td>No </td><td>No         </td><td>No internet service</td><td>⋯</td><td>No internet service</td><td>No internet service</td><td>Month-to-month</td><td>No </td><td>Credit card (automatic)</td><td> 20.00</td><td> 198.70</td><td>0</td><td>0</td><td>No </td></tr>\n",
       "\t<tr><td>6894-LFHLY</td><td>Male  </td><td>1</td><td>No </td><td>No</td><td> 1</td><td>Yes</td><td>Yes</td><td>Fiber optic</td><td>No                 </td><td>⋯</td><td>No                 </td><td>No                 </td><td>Month-to-month</td><td>Yes</td><td>Electronic check       </td><td> 75.75</td><td>  75.75</td><td>0</td><td>0</td><td>Yes</td></tr>\n",
       "\t<tr><td>6583-QGCSI</td><td>Female</td><td>1</td><td>Yes</td><td>No</td><td>50</td><td>Yes</td><td>Yes</td><td>Fiber optic</td><td>No                 </td><td>⋯</td><td>Yes                </td><td>No                 </td><td>Month-to-month</td><td>Yes</td><td>Electronic check       </td><td> 88.05</td><td>4367.35</td><td>0</td><td>5</td><td>Yes</td></tr>\n",
       "</tbody>\n",
       "</table>\n"
      ],
      "text/latex": [
       "A tibble: 5 × 23\n",
       "\\begin{tabular}{lllllllllllllllllllll}\n",
       " customerID & gender & SeniorCitizen & Partner & Dependents & tenure & PhoneService & MultipleLines & InternetService & OnlineSecurity & ⋯ & StreamingTV & StreamingMovies & Contract & PaperlessBilling & PaymentMethod & MonthlyCharges & TotalCharges & numAdminTickets & numTechTickets & Churn\\\\\n",
       " <chr> & <chr> & <dbl> & <chr> & <chr> & <dbl> & <chr> & <chr> & <chr> & <chr> & ⋯ & <chr> & <chr> & <chr> & <chr> & <chr> & <dbl> & <dbl> & <dbl> & <dbl> & <chr>\\\\\n",
       "\\hline\n",
       "\t 2254-DLXRI & Female & 0 & No  & No &  1 & Yes & Yes & Fiber optic & No                  & ⋯ & No                  & No                  & Month-to-month & Yes & Mailed check            &  79.15 &   79.15 & 5 & 0 & No \\\\\n",
       "\t 2121-JAFOM & Female & 0 & Yes & No & 72 & Yes & Yes & Fiber optic & Yes                 & ⋯ & Yes                 & Yes                 & Two year       & Yes & Credit card (automatic) & 115.55 & 8312.40 & 0 & 0 & No \\\\\n",
       "\t 0380-ZCSBI & Male   & 0 & No  & No & 10 & Yes & No  & No          & No internet service & ⋯ & No internet service & No internet service & Month-to-month & No  & Credit card (automatic) &  20.00 &  198.70 & 0 & 0 & No \\\\\n",
       "\t 6894-LFHLY & Male   & 1 & No  & No &  1 & Yes & Yes & Fiber optic & No                  & ⋯ & No                  & No                  & Month-to-month & Yes & Electronic check        &  75.75 &   75.75 & 0 & 0 & Yes\\\\\n",
       "\t 6583-QGCSI & Female & 1 & Yes & No & 50 & Yes & Yes & Fiber optic & No                  & ⋯ & Yes                 & No                  & Month-to-month & Yes & Electronic check        &  88.05 & 4367.35 & 0 & 5 & Yes\\\\\n",
       "\\end{tabular}\n"
      ],
      "text/markdown": [
       "\n",
       "A tibble: 5 × 23\n",
       "\n",
       "| customerID &lt;chr&gt; | gender &lt;chr&gt; | SeniorCitizen &lt;dbl&gt; | Partner &lt;chr&gt; | Dependents &lt;chr&gt; | tenure &lt;dbl&gt; | PhoneService &lt;chr&gt; | MultipleLines &lt;chr&gt; | InternetService &lt;chr&gt; | OnlineSecurity &lt;chr&gt; | ⋯ ⋯ | StreamingTV &lt;chr&gt; | StreamingMovies &lt;chr&gt; | Contract &lt;chr&gt; | PaperlessBilling &lt;chr&gt; | PaymentMethod &lt;chr&gt; | MonthlyCharges &lt;dbl&gt; | TotalCharges &lt;dbl&gt; | numAdminTickets &lt;dbl&gt; | numTechTickets &lt;dbl&gt; | Churn &lt;chr&gt; |\n",
       "|---|---|---|---|---|---|---|---|---|---|---|---|---|---|---|---|---|---|---|---|---|\n",
       "| 2254-DLXRI | Female | 0 | No  | No |  1 | Yes | Yes | Fiber optic | No                  | ⋯ | No                  | No                  | Month-to-month | Yes | Mailed check            |  79.15 |   79.15 | 5 | 0 | No  |\n",
       "| 2121-JAFOM | Female | 0 | Yes | No | 72 | Yes | Yes | Fiber optic | Yes                 | ⋯ | Yes                 | Yes                 | Two year       | Yes | Credit card (automatic) | 115.55 | 8312.40 | 0 | 0 | No  |\n",
       "| 0380-ZCSBI | Male   | 0 | No  | No | 10 | Yes | No  | No          | No internet service | ⋯ | No internet service | No internet service | Month-to-month | No  | Credit card (automatic) |  20.00 |  198.70 | 0 | 0 | No  |\n",
       "| 6894-LFHLY | Male   | 1 | No  | No |  1 | Yes | Yes | Fiber optic | No                  | ⋯ | No                  | No                  | Month-to-month | Yes | Electronic check        |  75.75 |   75.75 | 0 | 0 | Yes |\n",
       "| 6583-QGCSI | Female | 1 | Yes | No | 50 | Yes | Yes | Fiber optic | No                  | ⋯ | Yes                 | No                  | Month-to-month | Yes | Electronic check        |  88.05 | 4367.35 | 0 | 5 | Yes |\n",
       "\n"
      ],
      "text/plain": [
       "  customerID gender SeniorCitizen Partner Dependents tenure PhoneService\n",
       "1 2254-DLXRI Female 0             No      No          1     Yes         \n",
       "2 2121-JAFOM Female 0             Yes     No         72     Yes         \n",
       "3 0380-ZCSBI Male   0             No      No         10     Yes         \n",
       "4 6894-LFHLY Male   1             No      No          1     Yes         \n",
       "5 6583-QGCSI Female 1             Yes     No         50     Yes         \n",
       "  MultipleLines InternetService OnlineSecurity      <U+22EF>       \n",
       "1 Yes           Fiber optic     No                  <U+22EF>\n",
       "2 Yes           Fiber optic     Yes                 <U+22EF>\n",
       "3 No            No              No internet service <U+22EF>\n",
       "4 Yes           Fiber optic     No                  <U+22EF>\n",
       "5 Yes           Fiber optic     No                  <U+22EF>\n",
       "  StreamingTV         StreamingMovies     Contract       PaperlessBilling\n",
       "1 No                  No                  Month-to-month Yes             \n",
       "2 Yes                 Yes                 Two year       Yes             \n",
       "3 No internet service No internet service Month-to-month No              \n",
       "4 No                  No                  Month-to-month Yes             \n",
       "5 Yes                 No                  Month-to-month Yes             \n",
       "  PaymentMethod           MonthlyCharges TotalCharges numAdminTickets\n",
       "1 Mailed check             79.15           79.15      5              \n",
       "2 Credit card (automatic) 115.55         8312.40      0              \n",
       "3 Credit card (automatic)  20.00          198.70      0              \n",
       "4 Electronic check         75.75           75.75      0              \n",
       "5 Electronic check         88.05         4367.35      0              \n",
       "  numTechTickets Churn\n",
       "1 0              No   \n",
       "2 0              No   \n",
       "3 0              No   \n",
       "4 0              Yes  \n",
       "5 5              Yes  "
      ]
     },
     "metadata": {},
     "output_type": "display_data"
    }
   ],
   "source": [
    "df[duplicated(df),]"
   ]
  },
  {
   "cell_type": "markdown",
   "id": "0fc31f8d",
   "metadata": {},
   "source": [
    "> The above contain the duplicated entries and thus have to be removed."
   ]
  },
  {
   "cell_type": "code",
   "execution_count": 13,
   "id": "3c56773c",
   "metadata": {},
   "outputs": [],
   "source": [
    "df <- unique(df) # drop duplicate entries"
   ]
  },
  {
   "cell_type": "markdown",
   "id": "a482e599",
   "metadata": {},
   "source": [
    "Step 3: Dropping customerID (Since it is only an identifier and not relevant to the analysis)"
   ]
  },
  {
   "cell_type": "code",
   "execution_count": 14,
   "id": "b28f54db",
   "metadata": {},
   "outputs": [],
   "source": [
    "df <- df[, -which(names(df) == \"customerID\")]"
   ]
  },
  {
   "cell_type": "code",
   "execution_count": 15,
   "id": "c6faebcb",
   "metadata": {},
   "outputs": [
    {
     "name": "stdout",
     "output_type": "stream",
     "text": [
      "tibble [7,032 x 22] (S3: tbl_df/tbl/data.frame)\n",
      " $ gender          : chr [1:7032] \"Female\" \"Male\" \"Male\" \"Male\" ...\n",
      " $ SeniorCitizen   : num [1:7032] 0 0 0 0 0 0 0 0 0 0 ...\n",
      " $ Partner         : chr [1:7032] \"Yes\" \"No\" \"No\" \"No\" ...\n",
      " $ Dependents      : chr [1:7032] \"No\" \"No\" \"No\" \"No\" ...\n",
      " $ tenure          : num [1:7032] 1 34 2 45 2 8 22 10 28 62 ...\n",
      " $ PhoneService    : chr [1:7032] \"No\" \"Yes\" \"Yes\" \"No\" ...\n",
      " $ MultipleLines   : chr [1:7032] \"No phone service\" \"No\" \"No\" \"No phone service\" ...\n",
      " $ InternetService : chr [1:7032] \"DSL\" \"DSL\" \"DSL\" \"DSL\" ...\n",
      " $ OnlineSecurity  : chr [1:7032] \"No\" \"Yes\" \"Yes\" \"Yes\" ...\n",
      " $ OnlineBackup    : chr [1:7032] \"Yes\" \"No\" \"Yes\" \"No\" ...\n",
      " $ DeviceProtection: chr [1:7032] \"No\" \"Yes\" \"No\" \"Yes\" ...\n",
      " $ TechSupport     : chr [1:7032] \"No\" \"No\" \"No\" \"Yes\" ...\n",
      " $ StreamingTV     : chr [1:7032] \"No\" \"No\" \"No\" \"No\" ...\n",
      " $ StreamingMovies : chr [1:7032] \"No\" \"No\" \"No\" \"No\" ...\n",
      " $ Contract        : chr [1:7032] \"Month-to-month\" \"One year\" \"Month-to-month\" \"One year\" ...\n",
      " $ PaperlessBilling: chr [1:7032] \"Yes\" \"No\" \"Yes\" \"No\" ...\n",
      " $ PaymentMethod   : chr [1:7032] \"Electronic check\" \"Mailed check\" \"Mailed check\" \"Bank transfer (automatic)\" ...\n",
      " $ MonthlyCharges  : num [1:7032] 29.9 57 53.9 42.3 70.7 ...\n",
      " $ TotalCharges    : num [1:7032] 29.9 1889.5 108.2 1840.8 151.7 ...\n",
      " $ numAdminTickets : num [1:7032] 0 0 0 0 0 0 0 0 0 0 ...\n",
      " $ numTechTickets  : num [1:7032] 0 0 0 3 0 0 0 0 2 0 ...\n",
      " $ Churn           : chr [1:7032] \"No\" \"No\" \"Yes\" \"No\" ...\n",
      " - attr(*, \"na.action\")= 'omit' Named int [1:11] 489 754 937 1083 1341 3332 3827 4381 5221 6673 ...\n",
      "  ..- attr(*, \"names\")= chr [1:11] \"489\" \"754\" \"937\" \"1083\" ...\n"
     ]
    }
   ],
   "source": [
    "str(df)"
   ]
  },
  {
   "cell_type": "markdown",
   "id": "8ad504f9",
   "metadata": {},
   "source": [
    "> customerID successfully dropped."
   ]
  },
  {
   "cell_type": "markdown",
   "id": "44bd4d9b",
   "metadata": {},
   "source": [
    "Step 4: Creating numerical and categorical lists."
   ]
  },
  {
   "cell_type": "code",
   "execution_count": 16,
   "id": "52b01a64",
   "metadata": {},
   "outputs": [
    {
     "data": {
      "text/html": [
       "<style>\n",
       ".list-inline {list-style: none; margin:0; padding: 0}\n",
       ".list-inline>li {display: inline-block}\n",
       ".list-inline>li:not(:last-child)::after {content: \"\\00b7\"; padding: 0 .5ex}\n",
       "</style>\n",
       "<ol class=list-inline><li>0</li><li>1</li><li>5</li><li>2</li><li>4</li><li>3</li></ol>\n"
      ],
      "text/latex": [
       "\\begin{enumerate*}\n",
       "\\item 0\n",
       "\\item 1\n",
       "\\item 5\n",
       "\\item 2\n",
       "\\item 4\n",
       "\\item 3\n",
       "\\end{enumerate*}\n"
      ],
      "text/markdown": [
       "1. 0\n",
       "2. 1\n",
       "3. 5\n",
       "4. 2\n",
       "5. 4\n",
       "6. 3\n",
       "\n",
       "\n"
      ],
      "text/plain": [
       "[1] 0 1 5 2 4 3"
      ]
     },
     "metadata": {},
     "output_type": "display_data"
    }
   ],
   "source": [
    "unique(df$numAdminTickets)"
   ]
  },
  {
   "cell_type": "code",
   "execution_count": 17,
   "id": "e0234104",
   "metadata": {},
   "outputs": [],
   "source": [
    "# distinction is based on the number of different values in the column\n",
    "columns <- names(df)\n",
    "\n",
    "categoric_columns <- vector(mode=\"character\")\n",
    "numeric_columns <- vector(mode=\"character\")\n",
    "\n",
    "for (i in columns) {\n",
    "  if (length(unique(df[[i]])) >= 6) {\n",
    "    numeric_columns <- c(numeric_columns, i)\n",
    "  } else {\n",
    "    categoric_columns <- c(categoric_columns, i)\n",
    "  }\n",
    "}\n",
    "\n",
    "categoric_columns <- categoric_columns[categoric_columns != \"Churn\"] # Excluding 'Churn'"
   ]
  },
  {
   "cell_type": "code",
   "execution_count": 18,
   "id": "1f0bf3a3",
   "metadata": {},
   "outputs": [
    {
     "data": {
      "text/html": [
       "<style>\n",
       ".list-inline {list-style: none; margin:0; padding: 0}\n",
       ".list-inline>li {display: inline-block}\n",
       ".list-inline>li:not(:last-child)::after {content: \"\\00b7\"; padding: 0 .5ex}\n",
       "</style>\n",
       "<ol class=list-inline><li>'tenure'</li><li>'MonthlyCharges'</li><li>'TotalCharges'</li><li>'numAdminTickets'</li><li>'numTechTickets'</li></ol>\n"
      ],
      "text/latex": [
       "\\begin{enumerate*}\n",
       "\\item 'tenure'\n",
       "\\item 'MonthlyCharges'\n",
       "\\item 'TotalCharges'\n",
       "\\item 'numAdminTickets'\n",
       "\\item 'numTechTickets'\n",
       "\\end{enumerate*}\n"
      ],
      "text/markdown": [
       "1. 'tenure'\n",
       "2. 'MonthlyCharges'\n",
       "3. 'TotalCharges'\n",
       "4. 'numAdminTickets'\n",
       "5. 'numTechTickets'\n",
       "\n",
       "\n"
      ],
      "text/plain": [
       "[1] \"tenure\"          \"MonthlyCharges\"  \"TotalCharges\"    \"numAdminTickets\"\n",
       "[5] \"numTechTickets\" "
      ]
     },
     "metadata": {},
     "output_type": "display_data"
    }
   ],
   "source": [
    "numeric_columns"
   ]
  },
  {
   "cell_type": "markdown",
   "id": "97c729b7",
   "metadata": {},
   "source": [
    "Step 5: Label Encoding"
   ]
  },
  {
   "cell_type": "code",
   "execution_count": 19,
   "id": "e1ad4430",
   "metadata": {},
   "outputs": [
    {
     "name": "stdout",
     "output_type": "stream",
     "text": [
      "package 'caret' successfully unpacked and MD5 sums checked\n",
      "\n",
      "The downloaded binary packages are in\n",
      "\tC:\\Users\\sharm\\AppData\\Local\\Temp\\RtmpuyxUcP\\downloaded_packages\n"
     ]
    },
    {
     "name": "stderr",
     "output_type": "stream",
     "text": [
      "Loading required package: ggplot2\n",
      "\n",
      "Loading required package: lattice\n",
      "\n"
     ]
    }
   ],
   "source": [
    "# Label Encoding refers to converting the labels into a numeric form. \n",
    "# This is only for EDA reasons. Later we will use OneHotEncoder to prepare for model building.\n",
    "install.packages(\"caret\")\n",
    "library(\"caret\")"
   ]
  },
  {
   "cell_type": "code",
   "execution_count": 20,
   "id": "b0d95d11",
   "metadata": {},
   "outputs": [],
   "source": [
    "df1 <- df\n",
    "\n",
    "for (col in categoric_columns) {\n",
    "  df1[[col]] <- as.numeric(as.factor(df[[col]]))\n",
    "}\n",
    "\n",
    "df1[[\"Churn\"]] <- as.numeric(as.factor(df[[\"Churn\"]]))"
   ]
  },
  {
   "cell_type": "markdown",
   "id": "48a4ce2e",
   "metadata": {},
   "source": [
    "Step 6: Summary Statistics of Numerical Data"
   ]
  },
  {
   "cell_type": "code",
   "execution_count": 21,
   "id": "c9d0264b",
   "metadata": {},
   "outputs": [
    {
     "data": {
      "text/plain": [
       "     tenure      MonthlyCharges    TotalCharges    numAdminTickets \n",
       " Min.   : 1.00   Min.   : 18.25   Min.   :  18.8   Min.   :0.0000  \n",
       " 1st Qu.: 9.00   1st Qu.: 35.59   1st Qu.: 401.4   1st Qu.:0.0000  \n",
       " Median :29.00   Median : 70.35   Median :1397.5   Median :0.0000  \n",
       " Mean   :32.42   Mean   : 64.80   Mean   :2283.3   Mean   :0.5149  \n",
       " 3rd Qu.:55.00   3rd Qu.: 89.86   3rd Qu.:3794.7   3rd Qu.:0.0000  \n",
       " Max.   :72.00   Max.   :118.75   Max.   :8684.8   Max.   :5.0000  \n",
       " numTechTickets  \n",
       " Min.   :0.0000  \n",
       " 1st Qu.:0.0000  \n",
       " Median :0.0000  \n",
       " Mean   :0.4202  \n",
       " 3rd Qu.:0.0000  \n",
       " Max.   :9.0000  "
      ]
     },
     "metadata": {},
     "output_type": "display_data"
    }
   ],
   "source": [
    "summary(df1[, numeric_columns])"
   ]
  },
  {
   "cell_type": "code",
   "execution_count": 22,
   "id": "c9fc3e72",
   "metadata": {},
   "outputs": [],
   "source": [
    "# Defining the pallete for future plots\n",
    "palette <- c(\"#6a0d83\", \"#ce4993\", \"#ee5d6c\", \"#fb9062\")\n",
    "palette2 <- c(\"#ce4993\", \"#6a0d83\", \"#ee5d6c\", \"#fb9062\")"
   ]
  },
  {
   "cell_type": "markdown",
   "id": "1b6b9c5c",
   "metadata": {},
   "source": [
    "## Data Storytelling - Data Imbalance"
   ]
  },
  {
   "cell_type": "code",
   "execution_count": 23,
   "id": "da7961a3",
   "metadata": {},
   "outputs": [
    {
     "name": "stderr",
     "output_type": "stream",
     "text": [
      "\n",
      "Attaching package: 'dplyr'\n",
      "\n",
      "\n",
      "The following objects are masked from 'package:stats':\n",
      "\n",
      "    filter, lag\n",
      "\n",
      "\n",
      "The following objects are masked from 'package:base':\n",
      "\n",
      "    intersect, setdiff, setequal, union\n",
      "\n",
      "\n"
     ]
    },
    {
     "data": {
      "image/png": "[encoded data removed]",
      "text/plain": [
       "Plot with title \"Churn and Non-Churn Customers\""
      ]
     },
     "metadata": {
      "image/png": {
       "height": 420,
       "width": 420
      }
     },
     "output_type": "display_data"
    }
   ],
   "source": [
    "library(\"graphics\")\n",
    "library(\"stats\")\n",
    "library(\"ggplot2\")\n",
    "library(\"dplyr\")\n",
    "\n",
    "# Calculate values for pie chart\n",
    "l1 <- table(df1$Churn)\n",
    "pie_values <- c(l1[1] / sum(l1) * 100, l1[2] / sum(l1) * 100)\n",
    "\n",
    "# Define color palette\n",
    "palette <- c(\"#6A0D83\", \"#CE4993\")\n",
    "\n",
    "# Create pie chart and bar chart side by side\n",
    "par(mfrow=c(1,2), mar=c(2,2,2,2))\n",
    "pie(x = pie_values, labels = c(paste(\"Non-Churn \\n\", round(pie_values[1], 2), \"%\"), paste(\"Churn \\n\", round(pie_values[2], 2), \"%\")), \n",
    "    main=\"Churn and Non-Churn Customers %\",\n",
    "    col=palette, \n",
    "    init.angle=90, \n",
    "    border=\"black\", \n",
    "    clockwise=TRUE, \n",
    "    density=NULL, \n",
    "    angle=c(0, pie_values[1]/100*360), \n",
    "    )\n",
    "\n",
    "barplot(l1, main=\"Churn and Non-Churn Customers\", \n",
    "        col=palette, \n",
    "        border=\"black\", \n",
    "        xaxt=\"n\",\n",
    "        names.arg=c(\"Non-Churn Customers\", \"Churn Customers\"))\n",
    "axis(side=1, at=1:2, labels=c(\"Non-Churn\", \"Churn\"))"
   ]
  },
  {
   "cell_type": "markdown",
   "id": "224d52db",
   "metadata": {},
   "source": [
    "It can be seen that the above data points show a significant difference between churned and non-churned customers. Though one may wonder if this would induce some bias in the analysis, we can argue otherwise. This difference is naturally reflectant of the real world where customers would leave a service if another competing service provide better deals, customer service or other significant features. "
   ]
  },
  {
   "cell_type": "code",
   "execution_count": 24,
   "id": "d833a855",
   "metadata": {},
   "outputs": [
    {
     "name": "stdout",
     "output_type": "stream",
     "text": [
      "package 'moments' successfully unpacked and MD5 sums checked\n",
      "\n",
      "The downloaded binary packages are in\n",
      "\tC:\\Users\\sharm\\AppData\\Local\\Temp\\RtmpuyxUcP\\downloaded_packages\n",
      "package 'cowplot' successfully unpacked and MD5 sums checked\n",
      "\n",
      "The downloaded binary packages are in\n",
      "\tC:\\Users\\sharm\\AppData\\Local\\Temp\\RtmpuyxUcP\\downloaded_packages\n"
     ]
    }
   ],
   "source": [
    "# Install packages\n",
    "install.packages(\"moments\")\n",
    "install.packages(\"cowplot\")\n",
    "\n",
    "# Load necessary packages\n",
    "library(\"moments\")\n",
    "library(\"cowplot\")\n",
    "library(\"ggplot2\")"
   ]
  },
  {
   "cell_type": "code",
   "execution_count": 25,
   "id": "a4ff585a",
   "metadata": {
    "scrolled": true
   },
   "outputs": [
    {
     "name": "stdout",
     "output_type": "stream",
     "text": [
      "[1] \"Distribution for each numerical feature\"\n"
     ]
    },
    {
     "name": "stderr",
     "output_type": "stream",
     "text": [
      "Warning message:\n",
      "\"\u001b[1m\u001b[22m`aes_string()` was deprecated in ggplot2 3.0.0.\n",
      "\u001b[36mi\u001b[39m Please use tidy evaluation idioms with `aes()`.\n",
      "\u001b[36mi\u001b[39m See also `vignette(\"ggplot2-in-packages\")` for more information.\"\n"
     ]
    },
    {
     "data": {
      "image/png": "[encoded data removed]",
      "text/plain": [
       "plot without title"
      ]
     },
     "metadata": {
      "image/png": {
       "height": 420,
       "width": 420
      }
     },
     "output_type": "display_data"
    },
    {
     "data": {
      "image/png": "[encoded data removed]",
      "text/plain": [
       "plot without title"
      ]
     },
     "metadata": {
      "image/png": {
       "height": 420,
       "width": 420
      }
     },
     "output_type": "display_data"
    },
    {
     "data": {
      "image/png": "[encoded data removed]",
      "text/plain": [
       "plot without title"
      ]
     },
     "metadata": {
      "image/png": {
       "height": 420,
       "width": 420
      }
     },
     "output_type": "display_data"
    },
    {
     "data": {
      "image/png": "[encoded data removed]",
      "text/plain": [
       "plot without title"
      ]
     },
     "metadata": {
      "image/png": {
       "height": 420,
       "width": 420
      }
     },
     "output_type": "display_data"
    },
    {
     "data": {
      "image/png": "[encoded data removed]",
      "text/plain": [
       "plot without title"
      ]
     },
     "metadata": {
      "image/png": {
       "height": 420,
       "width": 420
      }
     },
     "output_type": "display_data"
    }
   ],
   "source": [
    "# Define function to create distribution plots\n",
    "dist_custom <- function(dataset, columns_list, rows, cols, subtitle) {\n",
    "  # Calculate number of plots\n",
    "  num_plots <- rows * cols\n",
    "  \n",
    "  # Check if number of columns is greater than the number of plots\n",
    "  if (length(columns_list) < num_plots) {\n",
    "    stop(\"Number of columns is less than the number of plots.\")\n",
    "  }\n",
    "  \n",
    "  # Create a list of plots\n",
    "  plots <- list()\n",
    "  for (i in 1:num_plots) {\n",
    "    # Calculate the row and column number for each plot\n",
    "    row <- ((i - 1) %/% cols) + 1\n",
    "    col <- (i - 1) %% cols + 1\n",
    "    \n",
    "    # Create a ggplot for the current column\n",
    "    plots[[i]] <- ggplot(dataset, aes_string(x = columns_list[i])) +\n",
    "      geom_density(fill = \"#6A0D83\", alpha = 0.8) +\n",
    "      labs(title = paste0(columns_list[i], \", skewness is \", round(skewness(dataset[[columns_list[i]]]), 2)))\n",
    "  }\n",
    "  \n",
    "  # Combine the plots into a single figure\n",
    "  fig <- cowplot::plot_grid(plotlist = plots, nrow = rows, ncol = cols, labels = \"AUTO\")\n",
    "  \n",
    "  # Add the suptitle to the figure\n",
    "  fig <- ggdraw(fig) + draw_label(subtitle, fontface = \"bold\", y = 1, size = 14)\n",
    "  \n",
    "  # Return the figure\n",
    "  return(fig)\n",
    "}\n",
    "\n",
    "print(\"Distribution for each numerical feature\")\n",
    "# Call the function per feature\n",
    "dist_custom(dataset = df1, columns_list = numeric_columns[1], rows = 1, cols = 1, subtitle = \"\")\n",
    "dist_custom(dataset = df1, columns_list = numeric_columns[2], rows = 1, cols = 1, subtitle = \"\")\n",
    "dist_custom(dataset = df1, columns_list = numeric_columns[3], rows = 1, cols = 1, subtitle = \"\")\n",
    "dist_custom(dataset = df1, columns_list = numeric_columns[4], rows = 1, cols = 1, subtitle = \"\")\n",
    "dist_custom(dataset = df1, columns_list = numeric_columns[5], rows = 1, cols = 1, subtitle = \"\")"
   ]
  },
  {
   "cell_type": "markdown",
   "id": "93ea841b",
   "metadata": {},
   "source": [
    "# Logistic Regression (Without documentation)"
   ]
  },
  {
   "cell_type": "code",
   "execution_count": 26,
   "id": "0940f93e",
   "metadata": {},
   "outputs": [
    {
     "name": "stderr",
     "output_type": "stream",
     "text": [
      "-- \u001b[1mAttaching core tidyverse packages\u001b[22m ---------------------------------------------------------------- tidyverse 2.0.0 --\n",
      "\u001b[32mv\u001b[39m \u001b[34mforcats  \u001b[39m 1.0.0     \u001b[32mv\u001b[39m \u001b[34mstringr  \u001b[39m 1.5.0\n",
      "\u001b[32mv\u001b[39m \u001b[34mlubridate\u001b[39m 1.9.2     \u001b[32mv\u001b[39m \u001b[34mtibble   \u001b[39m 3.2.1\n",
      "\u001b[32mv\u001b[39m \u001b[34mpurrr    \u001b[39m 1.0.1     \u001b[32mv\u001b[39m \u001b[34mtidyr    \u001b[39m 1.3.0\n",
      "\u001b[32mv\u001b[39m \u001b[34mreadr    \u001b[39m 2.1.4     \n",
      "-- \u001b[1mConflicts\u001b[22m ---------------------------------------------------------------------------------- tidyverse_conflicts() --\n",
      "\u001b[31mx\u001b[39m \u001b[34mdplyr\u001b[39m::\u001b[32mfilter()\u001b[39m    masks \u001b[34mstats\u001b[39m::filter()\n",
      "\u001b[31mx\u001b[39m \u001b[34mdplyr\u001b[39m::\u001b[32mlag()\u001b[39m       masks \u001b[34mstats\u001b[39m::lag()\n",
      "\u001b[31mx\u001b[39m \u001b[34mpurrr\u001b[39m::\u001b[32mlift()\u001b[39m      masks \u001b[34mcaret\u001b[39m::lift()\n",
      "\u001b[31mx\u001b[39m \u001b[34mlubridate\u001b[39m::\u001b[32mstamp()\u001b[39m masks \u001b[34mcowplot\u001b[39m::stamp()\n",
      "\u001b[36mi\u001b[39m Use the conflicted package (\u001b[3m\u001b[34m<http://conflicted.r-lib.org/>\u001b[39m\u001b[23m) to force all conflicts to become errors\n"
     ]
    }
   ],
   "source": [
    "library(tidyverse)"
   ]
  },
  {
   "cell_type": "code",
   "execution_count": 47,
   "id": "a7edb71f",
   "metadata": {},
   "outputs": [],
   "source": [
    "df1 <- df1 %>%\n",
    "  mutate(across(c(gender, SeniorCitizen, Partner, Dependents, PhoneService, MultipleLines, InternetService, OnlineSecurity, OnlineBackup, DeviceProtection, TechSupport, StreamingTV, StreamingMovies, Contract, PaperlessBilling, PaymentMethod, Churn), factor, exclude = NULL))"
   ]
  },
  {
   "cell_type": "code",
   "execution_count": 51,
   "id": "07040b96",
   "metadata": {},
   "outputs": [],
   "source": [
    "# Specifying the independent variables we want to include in the model\n",
    "# In this instance, we include all variables except customerID and TotalCharges, because this method can only be applied to factors with 2 or more levels\n",
    "\n",
    "model <- glm(Churn ~ gender + SeniorCitizen + Partner + Dependents + tenure + PhoneService + MultipleLines + InternetService + OnlineSecurity + OnlineBackup + DeviceProtection + TechSupport + StreamingTV + StreamingMovies + Contract + PaperlessBilling + PaymentMethod + MonthlyCharges + numAdminTickets + numTechTickets,\n",
    "             family = binomial(link = \"logit\"), data = df1)"
   ]
  },
  {
   "cell_type": "code",
   "execution_count": 52,
   "id": "5ad7b3c2",
   "metadata": {},
   "outputs": [
    {
     "data": {
      "text/plain": [
       "\n",
       "Call:\n",
       "glm(formula = Churn ~ gender + SeniorCitizen + Partner + Dependents + \n",
       "    tenure + PhoneService + MultipleLines + InternetService + \n",
       "    OnlineSecurity + OnlineBackup + DeviceProtection + TechSupport + \n",
       "    StreamingTV + StreamingMovies + Contract + PaperlessBilling + \n",
       "    PaymentMethod + MonthlyCharges + numAdminTickets + numTechTickets, \n",
       "    family = binomial(link = \"logit\"), data = df1)\n",
       "\n",
       "Deviance Residuals: \n",
       "    Min       1Q   Median       3Q      Max  \n",
       "-2.8317  -0.4596  -0.0816   0.2315   3.9461  \n",
       "\n",
       "Coefficients: (7 not defined because of singularities)\n",
       "                    Estimate Std. Error z value Pr(>|z|)    \n",
       "(Intercept)        1.6660247  1.0177351   1.637 0.101632    \n",
       "gender2           -0.0981240  0.0763882  -1.285 0.198952    \n",
       "SeniorCitizen2     0.2664415  0.1043161   2.554 0.010644 *  \n",
       "Partner2          -0.0556497  0.0942423  -0.590 0.554858    \n",
       "Dependents2       -0.0831307  0.1079862  -0.770 0.441403    \n",
       "tenure            -0.0828574  0.0039158 -21.160  < 2e-16 ***\n",
       "PhoneService2      0.2602623  0.8171851   0.318 0.750116    \n",
       "MultipleLines2            NA         NA      NA       NA    \n",
       "MultipleLines3     0.5099728  0.2205477   2.312 0.020761 *  \n",
       "InternetService2   1.8555619  1.0104673   1.836 0.066307 .  \n",
       "InternetService3  -1.9880358  1.0165956  -1.956 0.050514 .  \n",
       "OnlineSecurity2           NA         NA      NA       NA    \n",
       "OnlineSecurity3   -0.3626560  0.2250253  -1.612 0.107044    \n",
       "OnlineBackup2             NA         NA      NA       NA    \n",
       "OnlineBackup3     -0.2176861  0.2216820  -0.982 0.326112    \n",
       "DeviceProtection2         NA         NA      NA       NA    \n",
       "DeviceProtection3  0.0009165  0.2222787   0.004 0.996710    \n",
       "TechSupport2              NA         NA      NA       NA    \n",
       "TechSupport3      -0.0589006  0.2276955  -0.259 0.795881    \n",
       "StreamingTV2              NA         NA      NA       NA    \n",
       "StreamingTV3       0.3594996  0.4126191   0.871 0.383611    \n",
       "StreamingMovies2          NA         NA      NA       NA    \n",
       "StreamingMovies3   0.3569643  0.4132947   0.864 0.387750    \n",
       "Contract2         -0.8421215  0.1563110  -5.387 7.15e-08 ***\n",
       "Contract3         -2.3692408  0.3007641  -7.877 3.34e-15 ***\n",
       "PaperlessBilling2  0.3200497  0.0854040   3.747 0.000179 ***\n",
       "PaymentMethod2    -0.1953440  0.1432158  -1.364 0.172573    \n",
       "PaymentMethod3     0.1398006  0.1181567   1.183 0.236738    \n",
       "PaymentMethod4    -0.2502988  0.1337828  -1.871 0.061354 .  \n",
       "MonthlyCharges    -0.0395748  0.0401401  -0.986 0.324174    \n",
       "numAdminTickets   -0.0516771  0.0299508  -1.725 0.084455 .  \n",
       "numTechTickets     1.4392627  0.0522498  27.546  < 2e-16 ***\n",
       "---\n",
       "Signif. codes:  0 '***' 0.001 '**' 0.01 '*' 0.05 '.' 0.1 ' ' 1\n",
       "\n",
       "(Dispersion parameter for binomial family taken to be 1)\n",
       "\n",
       "    Null deviance: 8143.4  on 7031  degrees of freedom\n",
       "Residual deviance: 4262.7  on 7007  degrees of freedom\n",
       "AIC: 4312.7\n",
       "\n",
       "Number of Fisher Scoring iterations: 7\n"
      ]
     },
     "metadata": {},
     "output_type": "display_data"
    }
   ],
   "source": [
    "summary(model) "
   ]
  },
  {
   "cell_type": "markdown",
   "id": "0742888b",
   "metadata": {},
   "source": [
    "# PROBLEM WITH THIS IS THAT THERE ARE 7 DUMMY VARIABLES WITH NA ROWS, AND I DUNNO WHY. ISSUE WITH THE DATA? "
   ]
  },
  {
   "cell_type": "code",
   "execution_count": 57,
   "id": "bd3d470b",
   "metadata": {},
   "outputs": [
    {
     "data": {
      "text/plain": [
       "Model :\n",
       "Churn ~ gender + SeniorCitizen + Partner + Dependents + tenure + \n",
       "    PhoneService + MultipleLines + InternetService + OnlineSecurity + \n",
       "    OnlineBackup + DeviceProtection + TechSupport + StreamingTV + \n",
       "    StreamingMovies + Contract + PaperlessBilling + PaymentMethod + \n",
       "    MonthlyCharges + numAdminTickets + numTechTickets\n",
       "\n",
       "Complete :\n",
       "                  (Intercept) gender2 SeniorCitizen2 Partner2 Dependents2\n",
       "MultipleLines2     1           0       0              0        0         \n",
       "OnlineSecurity2    0           0       0              0        0         \n",
       "OnlineBackup2      0           0       0              0        0         \n",
       "DeviceProtection2  0           0       0              0        0         \n",
       "TechSupport2       0           0       0              0        0         \n",
       "StreamingTV2       0           0       0              0        0         \n",
       "StreamingMovies2   0           0       0              0        0         \n",
       "                  tenure PhoneService2 MultipleLines3 InternetService2\n",
       "MultipleLines2     0     -1             0              0              \n",
       "OnlineSecurity2    0      0             0              0              \n",
       "OnlineBackup2      0      0             0              0              \n",
       "DeviceProtection2  0      0             0              0              \n",
       "TechSupport2       0      0             0              0              \n",
       "StreamingTV2       0      0             0              0              \n",
       "StreamingMovies2   0      0             0              0              \n",
       "                  InternetService3 OnlineSecurity3 OnlineBackup3\n",
       "MultipleLines2     0                0               0           \n",
       "OnlineSecurity2    1                0               0           \n",
       "OnlineBackup2      1                0               0           \n",
       "DeviceProtection2  1                0               0           \n",
       "TechSupport2       1                0               0           \n",
       "StreamingTV2       1                0               0           \n",
       "StreamingMovies2   1                0               0           \n",
       "                  DeviceProtection3 TechSupport3 StreamingTV3 StreamingMovies3\n",
       "MultipleLines2     0                 0            0            0              \n",
       "OnlineSecurity2    0                 0            0            0              \n",
       "OnlineBackup2      0                 0            0            0              \n",
       "DeviceProtection2  0                 0            0            0              \n",
       "TechSupport2       0                 0            0            0              \n",
       "StreamingTV2       0                 0            0            0              \n",
       "StreamingMovies2   0                 0            0            0              \n",
       "                  Contract2 Contract3 PaperlessBilling2 PaymentMethod2\n",
       "MultipleLines2     0         0         0                 0            \n",
       "OnlineSecurity2    0         0         0                 0            \n",
       "OnlineBackup2      0         0         0                 0            \n",
       "DeviceProtection2  0         0         0                 0            \n",
       "TechSupport2       0         0         0                 0            \n",
       "StreamingTV2       0         0         0                 0            \n",
       "StreamingMovies2   0         0         0                 0            \n",
       "                  PaymentMethod3 PaymentMethod4 MonthlyCharges numAdminTickets\n",
       "MultipleLines2     0              0              0              0             \n",
       "OnlineSecurity2    0              0              0              0             \n",
       "OnlineBackup2      0              0              0              0             \n",
       "DeviceProtection2  0              0              0              0             \n",
       "TechSupport2       0              0              0              0             \n",
       "StreamingTV2       0              0              0              0             \n",
       "StreamingMovies2   0              0              0              0             \n",
       "                  numTechTickets\n",
       "MultipleLines2     0            \n",
       "OnlineSecurity2    0            \n",
       "OnlineBackup2      0            \n",
       "DeviceProtection2  0            \n",
       "TechSupport2       0            \n",
       "StreamingTV2       0            \n",
       "StreamingMovies2   0            \n"
      ]
     },
     "metadata": {},
     "output_type": "display_data"
    }
   ],
   "source": [
    "# identifying the variables that have redundant dummy variables\n",
    "library(car)\n",
    "alias(model)"
   ]
  },
  {
   "cell_type": "code",
   "execution_count": 58,
   "id": "c3c67d3e",
   "metadata": {},
   "outputs": [
    {
     "data": {
      "text/plain": [
       "\n",
       "Call:\n",
       "glm(formula = Churn ~ gender + SeniorCitizen + Partner + Dependents + \n",
       "    tenure + PhoneService + MultipleLines + InternetService + \n",
       "    OnlineSecurity + OnlineBackup + DeviceProtection + TechSupport + \n",
       "    StreamingTV + StreamingMovies + Contract + PaperlessBilling + \n",
       "    PaymentMethod + MonthlyCharges + numAdminTickets + numTechTickets, \n",
       "    family = binomial(link = \"logit\"), data = df1)\n",
       "\n",
       "Deviance Residuals: \n",
       "    Min       1Q   Median       3Q      Max  \n",
       "-2.8317  -0.4596  -0.0816   0.2315   3.9461  \n",
       "\n",
       "Coefficients: (7 not defined because of singularities)\n",
       "                    Estimate Std. Error z value Pr(>|z|)    \n",
       "(Intercept)        1.6660247  1.0177351   1.637 0.101632    \n",
       "gender2           -0.0981240  0.0763882  -1.285 0.198952    \n",
       "SeniorCitizen2     0.2664415  0.1043161   2.554 0.010644 *  \n",
       "Partner2          -0.0556497  0.0942423  -0.590 0.554858    \n",
       "Dependents2       -0.0831307  0.1079862  -0.770 0.441403    \n",
       "tenure            -0.0828574  0.0039158 -21.160  < 2e-16 ***\n",
       "PhoneService2      0.2602623  0.8171851   0.318 0.750116    \n",
       "MultipleLines2            NA         NA      NA       NA    \n",
       "MultipleLines3     0.5099728  0.2205477   2.312 0.020761 *  \n",
       "InternetService2   1.8555619  1.0104673   1.836 0.066307 .  \n",
       "InternetService3  -1.9880358  1.0165956  -1.956 0.050514 .  \n",
       "OnlineSecurity2           NA         NA      NA       NA    \n",
       "OnlineSecurity3   -0.3626560  0.2250253  -1.612 0.107044    \n",
       "OnlineBackup2             NA         NA      NA       NA    \n",
       "OnlineBackup3     -0.2176861  0.2216820  -0.982 0.326112    \n",
       "DeviceProtection2         NA         NA      NA       NA    \n",
       "DeviceProtection3  0.0009165  0.2222787   0.004 0.996710    \n",
       "TechSupport2              NA         NA      NA       NA    \n",
       "TechSupport3      -0.0589006  0.2276955  -0.259 0.795881    \n",
       "StreamingTV2              NA         NA      NA       NA    \n",
       "StreamingTV3       0.3594996  0.4126191   0.871 0.383611    \n",
       "StreamingMovies2          NA         NA      NA       NA    \n",
       "StreamingMovies3   0.3569643  0.4132947   0.864 0.387750    \n",
       "Contract2         -0.8421215  0.1563110  -5.387 7.15e-08 ***\n",
       "Contract3         -2.3692408  0.3007641  -7.877 3.34e-15 ***\n",
       "PaperlessBilling2  0.3200497  0.0854040   3.747 0.000179 ***\n",
       "PaymentMethod2    -0.1953440  0.1432158  -1.364 0.172573    \n",
       "PaymentMethod3     0.1398006  0.1181567   1.183 0.236738    \n",
       "PaymentMethod4    -0.2502988  0.1337828  -1.871 0.061354 .  \n",
       "MonthlyCharges    -0.0395748  0.0401401  -0.986 0.324174    \n",
       "numAdminTickets   -0.0516771  0.0299508  -1.725 0.084455 .  \n",
       "numTechTickets     1.4392627  0.0522498  27.546  < 2e-16 ***\n",
       "---\n",
       "Signif. codes:  0 '***' 0.001 '**' 0.01 '*' 0.05 '.' 0.1 ' ' 1\n",
       "\n",
       "(Dispersion parameter for binomial family taken to be 1)\n",
       "\n",
       "    Null deviance: 8143.4  on 7031  degrees of freedom\n",
       "Residual deviance: 4262.7  on 7007  degrees of freedom\n",
       "AIC: 4312.7\n",
       "\n",
       "Number of Fisher Scoring iterations: 7\n"
      ]
     },
     "metadata": {},
     "output_type": "display_data"
    }
   ],
   "source": [
    "# Identify the categorical variables with redundant dummy variables\n",
    "cat_vars <- c(\"MultipleLines\", \"OnlineSecurity\", \"OnlineBackup\", \"DeviceProtection\", \"TechSupport\", \"StreamingTV\", \"StreamingMovies\")\n",
    "\n",
    "# Choose one level of each categorical variable as the reference level\n",
    "ref_levels <- c(\"No\", \"No\", \"No\", \"No\", \"No\", \"No\", \"No\")\n",
    "\n",
    "# Remove the redundant dummy variables from the model formula\n",
    "for (i in 1:length(cat_vars)) {\n",
    "  var <- cat_vars[i]\n",
    "  ref_level <- ref_levels[i]\n",
    "  new_formula <- paste0(deparse(model$call$formula), collapse = \"\")\n",
    "  new_formula <- gsub(paste0(\"+\", var, ref_level), \"\", new_formula)\n",
    "  update_model <- update(model, formula = as.formula(new_formula))\n",
    "  model <- update_model\n",
    "}\n",
    "\n",
    "# Check the summary of the updated model\n",
    "summary(model)\n",
    "\n",
    "#update: the dummy variables are still there\n",
    "#TODO"
   ]
  },
  {
   "cell_type": "code",
   "execution_count": 30,
   "id": "53e2c5b5",
   "metadata": {},
   "outputs": [
    {
     "name": "stderr",
     "output_type": "stream",
     "text": [
      "Warning message:\n",
      "\"\u001b[1m\u001b[22mRemoved 7 rows containing missing values (`geom_point()`).\"\n"
     ]
    },
    {
     "data": {
      "image/png": "[encoded data removed]",
      "text/plain": [
       "plot without title"
      ]
     },
     "metadata": {
      "image/png": {
       "height": 420,
       "width": 420
      }
     },
     "output_type": "display_data"
    }
   ],
   "source": [
    "library(broom)\n",
    "library(ggplot2)\n",
    "\n",
    "tidy_model <- tidy(model, conf.int = TRUE)\n",
    "\n",
    "ggplot(tidy_model, aes(x = reorder(term, estimate), y = estimate)) +\n",
    "  geom_point() +\n",
    "  geom_errorbar(aes(ymin = conf.low, ymax = conf.high), width = 0.2) +\n",
    "  coord_flip() +\n",
    "  labs(x = \"Independent Variables\", y = \"Estimated Coefficients\") +\n",
    "  theme_minimal()\n"
   ]
  },
  {
   "cell_type": "code",
   "execution_count": 35,
   "id": "dc853a4f",
   "metadata": {},
   "outputs": [
    {
     "name": "stderr",
     "output_type": "stream",
     "text": [
      "Warning message in predict.lm(object, newdata, se.fit, scale = 1, type = if (type == :\n",
      "\"prediction from a rank-deficient fit may be misleading\"\n",
      "Setting levels: control = 1, case = 2\n",
      "\n",
      "Setting direction: controls < cases\n",
      "\n"
     ]
    },
    {
     "data": {
      "image/png": "[encoded data removed]",
      "text/plain": [
       "Plot with title \"ROC Curve\""
      ]
     },
     "metadata": {
      "image/png": {
       "height": 420,
       "width": 420
      }
     },
     "output_type": "display_data"
    }
   ],
   "source": [
    "library(pROC)\n",
    "\n",
    "# Predict probabilities for the original data\n",
    "df1$predicted_probability <- predict(model, newdata = df1, type = \"response\")\n",
    "\n",
    "# Create the ROC curve\n",
    "roc_obj <- roc(df1$Churn, df1$predicted_probability)\n",
    "\n",
    "# Plot the ROC curve\n",
    "plot(roc_obj, print.auc = TRUE, print.auc.y = 0.2, grid = TRUE, grid.col = \"gray\", grid.lwd = 1, grid.nx = 10, grid.ny = 10, max.auc.polygon = TRUE, auc.polygon.col = \"lightblue\", main = \"ROC Curve\")"
   ]
  },
  {
   "cell_type": "code",
   "execution_count": 41,
   "id": "c8d39ea4",
   "metadata": {},
   "outputs": [],
   "source": [
    "write.csv(df1,\"C:\\\\Users\\\\sharm\\\\OneDrive\\\\Desktop\\\\master\\\\Y2S2\\\\MH3511 Analysis with Comp\\\\MH3511-Telco-Churn-Rate\\\\cleaneddata.csv\", row.names = FALSE)"
   ]
  }
 ],
 "metadata": {
  "kernelspec": {
   "display_name": "R",
   "language": "R",
   "name": "ir"
  },
  "language_info": {
   "codemirror_mode": "r",
   "file_extension": ".r",
   "mimetype": "text/x-r-source",
   "name": "R",
   "pygments_lexer": "r",
   "version": "4.1.3"
  }
 },
 "nbformat": 4,
 "nbformat_minor": 5
}
